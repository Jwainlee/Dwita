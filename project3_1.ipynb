{
  "cells": [
    {
      "cell_type": "markdown",
      "metadata": {
        "id": "view-in-github",
        "colab_type": "text"
      },
      "source": [
        "<a href=\"https://colab.research.google.com/github/Jwainlee/Dwita/blob/main/project3_1.ipynb\" target=\"_parent\"><img src=\"https://colab.research.google.com/assets/colab-badge.svg\" alt=\"Open In Colab\"/></a>"
      ]
    },
    {
      "cell_type": "code",
      "execution_count": null,
      "id": "a2c9fd20-8302-4fee-96ac-6d89e681e4fb",
      "metadata": {
        "tags": [],
        "id": "a2c9fd20-8302-4fee-96ac-6d89e681e4fb"
      },
      "outputs": [],
      "source": [
        "import pandas as pd\n",
        "import numpy as np"
      ]
    },
    {
      "cell_type": "code",
      "execution_count": null,
      "id": "3a72ca46-4784-445d-a0c0-d523dc1df142",
      "metadata": {
        "tags": [],
        "id": "3a72ca46-4784-445d-a0c0-d523dc1df142",
        "outputId": "15e91dc1-39a2-4a3a-b847-fc783f6fe300"
      },
      "outputs": [
        {
          "data": {
            "text/html": [
              "<div>\n",
              "<style scoped>\n",
              "    .dataframe tbody tr th:only-of-type {\n",
              "        vertical-align: middle;\n",
              "    }\n",
              "\n",
              "    .dataframe tbody tr th {\n",
              "        vertical-align: top;\n",
              "    }\n",
              "\n",
              "    .dataframe thead th {\n",
              "        text-align: right;\n",
              "    }\n",
              "</style>\n",
              "<table border=\"1\" class=\"dataframe\">\n",
              "  <thead>\n",
              "    <tr style=\"text-align: right;\">\n",
              "      <th></th>\n",
              "      <th>연번</th>\n",
              "      <th>읍면동</th>\n",
              "      <th>경로당명</th>\n",
              "      <th>경로당 주소</th>\n",
              "      <th>데이터기준일자</th>\n",
              "    </tr>\n",
              "  </thead>\n",
              "  <tbody>\n",
              "    <tr>\n",
              "      <th>0</th>\n",
              "      <td>1</td>\n",
              "      <td>삼랑진읍</td>\n",
              "      <td>임천분회경로당</td>\n",
              "      <td>밀양시 삼랑진읍 임천3길 10</td>\n",
              "      <td>2023-07-13</td>\n",
              "    </tr>\n",
              "    <tr>\n",
              "      <th>1</th>\n",
              "      <td>2</td>\n",
              "      <td>삼랑진읍</td>\n",
              "      <td>금곡경로당</td>\n",
              "      <td>밀양시 삼랑진읍 임천5길 33</td>\n",
              "      <td>2023-07-13</td>\n",
              "    </tr>\n",
              "    <tr>\n",
              "      <th>2</th>\n",
              "      <td>3</td>\n",
              "      <td>삼랑진읍</td>\n",
              "      <td>숭진경로당</td>\n",
              "      <td>밀양시 삼랑진읍 숭진석탑길 86</td>\n",
              "      <td>2023-07-13</td>\n",
              "    </tr>\n",
              "    <tr>\n",
              "      <th>3</th>\n",
              "      <td>4</td>\n",
              "      <td>삼랑진읍</td>\n",
              "      <td>금호경로당</td>\n",
              "      <td>밀양시 삼랑진읍 숭진길 56</td>\n",
              "      <td>2023-07-13</td>\n",
              "    </tr>\n",
              "    <tr>\n",
              "      <th>4</th>\n",
              "      <td>5</td>\n",
              "      <td>삼랑진읍</td>\n",
              "      <td>청학경로당</td>\n",
              "      <td>밀양시 삼랑진읍 청학1길 77</td>\n",
              "      <td>2023-07-13</td>\n",
              "    </tr>\n",
              "  </tbody>\n",
              "</table>\n",
              "</div>"
            ],
            "text/plain": [
              "   연번   읍면동     경로당명             경로당 주소     데이터기준일자\n",
              "0   1  삼랑진읍  임천분회경로당   밀양시 삼랑진읍 임천3길 10  2023-07-13\n",
              "1   2  삼랑진읍    금곡경로당   밀양시 삼랑진읍 임천5길 33  2023-07-13\n",
              "2   3  삼랑진읍    숭진경로당  밀양시 삼랑진읍 숭진석탑길 86  2023-07-13\n",
              "3   4  삼랑진읍    금호경로당    밀양시 삼랑진읍 숭진길 56  2023-07-13\n",
              "4   5  삼랑진읍    청학경로당   밀양시 삼랑진읍 청학1길 77  2023-07-13"
            ]
          },
          "execution_count": 94,
          "metadata": {},
          "output_type": "execute_result"
        }
      ],
      "source": [
        "place1 = pd.read_csv('경상남도 밀양시_경로당 현황_20230713.csv', encoding = 'cp949')\n",
        "place1.head()"
      ]
    },
    {
      "cell_type": "code",
      "execution_count": null,
      "id": "7439df3a-f3a4-438e-8dc5-96721944783c",
      "metadata": {
        "tags": [],
        "id": "7439df3a-f3a4-438e-8dc5-96721944783c",
        "outputId": "56dfed08-a197-4b36-f43b-951374845573"
      },
      "outputs": [
        {
          "data": {
            "text/html": [
              "<div>\n",
              "<style scoped>\n",
              "    .dataframe tbody tr th:only-of-type {\n",
              "        vertical-align: middle;\n",
              "    }\n",
              "\n",
              "    .dataframe tbody tr th {\n",
              "        vertical-align: top;\n",
              "    }\n",
              "\n",
              "    .dataframe thead th {\n",
              "        text-align: right;\n",
              "    }\n",
              "</style>\n",
              "<table border=\"1\" class=\"dataframe\">\n",
              "  <thead>\n",
              "    <tr style=\"text-align: right;\">\n",
              "      <th></th>\n",
              "      <th>읍면동</th>\n",
              "      <th>경로당명</th>\n",
              "      <th>경로당 주소</th>\n",
              "    </tr>\n",
              "  </thead>\n",
              "  <tbody>\n",
              "    <tr>\n",
              "      <th>0</th>\n",
              "      <td>삼랑진읍</td>\n",
              "      <td>임천분회경로당</td>\n",
              "      <td>밀양시 삼랑진읍 임천3길 10</td>\n",
              "    </tr>\n",
              "    <tr>\n",
              "      <th>1</th>\n",
              "      <td>삼랑진읍</td>\n",
              "      <td>금곡경로당</td>\n",
              "      <td>밀양시 삼랑진읍 임천5길 33</td>\n",
              "    </tr>\n",
              "    <tr>\n",
              "      <th>2</th>\n",
              "      <td>삼랑진읍</td>\n",
              "      <td>숭진경로당</td>\n",
              "      <td>밀양시 삼랑진읍 숭진석탑길 86</td>\n",
              "    </tr>\n",
              "    <tr>\n",
              "      <th>3</th>\n",
              "      <td>삼랑진읍</td>\n",
              "      <td>금호경로당</td>\n",
              "      <td>밀양시 삼랑진읍 숭진길 56</td>\n",
              "    </tr>\n",
              "    <tr>\n",
              "      <th>4</th>\n",
              "      <td>삼랑진읍</td>\n",
              "      <td>청학경로당</td>\n",
              "      <td>밀양시 삼랑진읍 청학1길 77</td>\n",
              "    </tr>\n",
              "  </tbody>\n",
              "</table>\n",
              "</div>"
            ],
            "text/plain": [
              "    읍면동     경로당명             경로당 주소\n",
              "0  삼랑진읍  임천분회경로당   밀양시 삼랑진읍 임천3길 10\n",
              "1  삼랑진읍    금곡경로당   밀양시 삼랑진읍 임천5길 33\n",
              "2  삼랑진읍    숭진경로당  밀양시 삼랑진읍 숭진석탑길 86\n",
              "3  삼랑진읍    금호경로당    밀양시 삼랑진읍 숭진길 56\n",
              "4  삼랑진읍    청학경로당   밀양시 삼랑진읍 청학1길 77"
            ]
          },
          "execution_count": 95,
          "metadata": {},
          "output_type": "execute_result"
        }
      ],
      "source": [
        "place1 = place1.iloc[:,1:4]\n",
        "place1.head()"
      ]
    },
    {
      "cell_type": "code",
      "execution_count": null,
      "id": "af99751b-86bf-497e-b6cd-e698e88ca325",
      "metadata": {
        "tags": [],
        "id": "af99751b-86bf-497e-b6cd-e698e88ca325",
        "outputId": "d5cab9dd-a5eb-4486-c151-207c918c295f"
      },
      "outputs": [
        {
          "data": {
            "text/plain": [
              "무안면     52\n",
              "삼랑진읍    38\n",
              "상남면     38\n",
              "하남읍     36\n",
              "부북면     34\n",
              "산내면     33\n",
              "단장면     32\n",
              "초동면     31\n",
              "상동면     25\n",
              "산외면     22\n",
              "삼문동     22\n",
              "청도면     21\n",
              "내이동     18\n",
              "가곡동     18\n",
              "내일동     11\n",
              "교동       9\n",
              "Name: 읍면동, dtype: int64"
            ]
          },
          "execution_count": 96,
          "metadata": {},
          "output_type": "execute_result"
        }
      ],
      "source": [
        "place1.읍면동.value_counts()"
      ]
    },
    {
      "cell_type": "code",
      "execution_count": null,
      "id": "010b250e-f979-4ea1-ba70-47f0edb1bc5c",
      "metadata": {
        "tags": [],
        "id": "010b250e-f979-4ea1-ba70-47f0edb1bc5c"
      },
      "outputs": [],
      "source": [
        "place2 = pd.read_csv('경상남도 밀양시_노인복지시설 현황_20230301.csv', encoding = 'cp949')"
      ]
    },
    {
      "cell_type": "code",
      "execution_count": null,
      "id": "dfb016b3-480d-4b64-9e71-228b7680b9d4",
      "metadata": {
        "tags": [],
        "id": "dfb016b3-480d-4b64-9e71-228b7680b9d4",
        "outputId": "f34908ed-69e5-4b9e-92eb-515032c79f22"
      },
      "outputs": [
        {
          "data": {
            "text/html": [
              "<div>\n",
              "<style scoped>\n",
              "    .dataframe tbody tr th:only-of-type {\n",
              "        vertical-align: middle;\n",
              "    }\n",
              "\n",
              "    .dataframe tbody tr th {\n",
              "        vertical-align: top;\n",
              "    }\n",
              "\n",
              "    .dataframe thead th {\n",
              "        text-align: right;\n",
              "    }\n",
              "</style>\n",
              "<table border=\"1\" class=\"dataframe\">\n",
              "  <thead>\n",
              "    <tr style=\"text-align: right;\">\n",
              "      <th></th>\n",
              "      <th>연번</th>\n",
              "      <th>시설종류</th>\n",
              "      <th>시설명</th>\n",
              "      <th>시설장이름</th>\n",
              "      <th>주소</th>\n",
              "      <th>전화번호</th>\n",
              "      <th>입소정원</th>\n",
              "      <th>데이터기준일자</th>\n",
              "    </tr>\n",
              "  </thead>\n",
              "  <tbody>\n",
              "    <tr>\n",
              "      <th>0</th>\n",
              "      <td>1</td>\n",
              "      <td>노인요양공동생활가정</td>\n",
              "      <td>호밥이네 노인요양원</td>\n",
              "      <td>박호천</td>\n",
              "      <td>경상남도 밀양시 상남면 외산길 7</td>\n",
              "      <td>055-353-5581</td>\n",
              "      <td>9</td>\n",
              "      <td>2023-03-01</td>\n",
              "    </tr>\n",
              "    <tr>\n",
              "      <th>1</th>\n",
              "      <td>2</td>\n",
              "      <td>노인요양공동생활가정</td>\n",
              "      <td>사랑요양원</td>\n",
              "      <td>박성욱</td>\n",
              "      <td>경상남도 밀양시 단장면 단장로 1166-29</td>\n",
              "      <td>055-356-2289</td>\n",
              "      <td>9</td>\n",
              "      <td>2023-03-01</td>\n",
              "    </tr>\n",
              "    <tr>\n",
              "      <th>2</th>\n",
              "      <td>3</td>\n",
              "      <td>노인요양공동생활가정</td>\n",
              "      <td>송남요양원</td>\n",
              "      <td>김수한</td>\n",
              "      <td>경상남도 밀양시 단장면 무릉3길 14-10</td>\n",
              "      <td>055-351-1383</td>\n",
              "      <td>9</td>\n",
              "      <td>2023-03-01</td>\n",
              "    </tr>\n",
              "    <tr>\n",
              "      <th>3</th>\n",
              "      <td>4</td>\n",
              "      <td>노인요양공동생활가정</td>\n",
              "      <td>섬김의 집</td>\n",
              "      <td>문초점</td>\n",
              "      <td>경상남도 밀양시 상남면 인산남길 26</td>\n",
              "      <td>055-351-0156</td>\n",
              "      <td>9</td>\n",
              "      <td>2023-03-01</td>\n",
              "    </tr>\n",
              "    <tr>\n",
              "      <th>4</th>\n",
              "      <td>5</td>\n",
              "      <td>노인요양시설(개정법)</td>\n",
              "      <td>강남요양원</td>\n",
              "      <td>조태자</td>\n",
              "      <td>경상남도 밀양시 삼랑진읍 청학2길 35</td>\n",
              "      <td>055-354-3003</td>\n",
              "      <td>42</td>\n",
              "      <td>2023-03-01</td>\n",
              "    </tr>\n",
              "  </tbody>\n",
              "</table>\n",
              "</div>"
            ],
            "text/plain": [
              "   연번         시설종류         시설명 시설장이름                        주소          전화번호  \\\n",
              "0   1   노인요양공동생활가정  호밥이네 노인요양원   박호천        경상남도 밀양시 상남면 외산길 7  055-353-5581   \n",
              "1   2   노인요양공동생활가정       사랑요양원   박성욱  경상남도 밀양시 단장면 단장로 1166-29  055-356-2289   \n",
              "2   3   노인요양공동생활가정       송남요양원   김수한   경상남도 밀양시 단장면 무릉3길 14-10  055-351-1383   \n",
              "3   4   노인요양공동생활가정       섬김의 집   문초점      경상남도 밀양시 상남면 인산남길 26  055-351-0156   \n",
              "4   5  노인요양시설(개정법)       강남요양원   조태자     경상남도 밀양시 삼랑진읍 청학2길 35  055-354-3003   \n",
              "\n",
              "   입소정원     데이터기준일자  \n",
              "0     9  2023-03-01  \n",
              "1     9  2023-03-01  \n",
              "2     9  2023-03-01  \n",
              "3     9  2023-03-01  \n",
              "4    42  2023-03-01  "
            ]
          },
          "execution_count": 98,
          "metadata": {},
          "output_type": "execute_result"
        }
      ],
      "source": [
        "place2.head()"
      ]
    },
    {
      "cell_type": "code",
      "execution_count": null,
      "id": "b699100f-f24b-451a-9f0f-f75d1c62fd96",
      "metadata": {
        "tags": [],
        "id": "b699100f-f24b-451a-9f0f-f75d1c62fd96"
      },
      "outputs": [],
      "source": [
        "place2 = place2.iloc[:, [2,4,6]]"
      ]
    },
    {
      "cell_type": "code",
      "execution_count": null,
      "id": "95a1d14e-17d0-4866-9abf-cda30a8f14b5",
      "metadata": {
        "tags": [],
        "id": "95a1d14e-17d0-4866-9abf-cda30a8f14b5",
        "outputId": "5efbdbee-ab62-4695-c137-88d714bd8546"
      },
      "outputs": [
        {
          "data": {
            "text/html": [
              "<div>\n",
              "<style scoped>\n",
              "    .dataframe tbody tr th:only-of-type {\n",
              "        vertical-align: middle;\n",
              "    }\n",
              "\n",
              "    .dataframe tbody tr th {\n",
              "        vertical-align: top;\n",
              "    }\n",
              "\n",
              "    .dataframe thead th {\n",
              "        text-align: right;\n",
              "    }\n",
              "</style>\n",
              "<table border=\"1\" class=\"dataframe\">\n",
              "  <thead>\n",
              "    <tr style=\"text-align: right;\">\n",
              "      <th></th>\n",
              "      <th>시설명</th>\n",
              "      <th>주소</th>\n",
              "      <th>입소정원</th>\n",
              "    </tr>\n",
              "  </thead>\n",
              "  <tbody>\n",
              "    <tr>\n",
              "      <th>0</th>\n",
              "      <td>호밥이네 노인요양원</td>\n",
              "      <td>경상남도 밀양시 상남면 외산길 7</td>\n",
              "      <td>9</td>\n",
              "    </tr>\n",
              "    <tr>\n",
              "      <th>1</th>\n",
              "      <td>사랑요양원</td>\n",
              "      <td>경상남도 밀양시 단장면 단장로 1166-29</td>\n",
              "      <td>9</td>\n",
              "    </tr>\n",
              "    <tr>\n",
              "      <th>2</th>\n",
              "      <td>송남요양원</td>\n",
              "      <td>경상남도 밀양시 단장면 무릉3길 14-10</td>\n",
              "      <td>9</td>\n",
              "    </tr>\n",
              "    <tr>\n",
              "      <th>3</th>\n",
              "      <td>섬김의 집</td>\n",
              "      <td>경상남도 밀양시 상남면 인산남길 26</td>\n",
              "      <td>9</td>\n",
              "    </tr>\n",
              "    <tr>\n",
              "      <th>4</th>\n",
              "      <td>강남요양원</td>\n",
              "      <td>경상남도 밀양시 삼랑진읍 청학2길 35</td>\n",
              "      <td>42</td>\n",
              "    </tr>\n",
              "  </tbody>\n",
              "</table>\n",
              "</div>"
            ],
            "text/plain": [
              "          시설명                        주소  입소정원\n",
              "0  호밥이네 노인요양원        경상남도 밀양시 상남면 외산길 7     9\n",
              "1       사랑요양원  경상남도 밀양시 단장면 단장로 1166-29     9\n",
              "2       송남요양원   경상남도 밀양시 단장면 무릉3길 14-10     9\n",
              "3       섬김의 집      경상남도 밀양시 상남면 인산남길 26     9\n",
              "4       강남요양원     경상남도 밀양시 삼랑진읍 청학2길 35    42"
            ]
          },
          "execution_count": 100,
          "metadata": {},
          "output_type": "execute_result"
        }
      ],
      "source": [
        "place2.head()"
      ]
    },
    {
      "cell_type": "code",
      "execution_count": null,
      "id": "14e8362e-78c3-4187-a439-5f19a02c0442",
      "metadata": {
        "tags": [],
        "id": "14e8362e-78c3-4187-a439-5f19a02c0442"
      },
      "outputs": [],
      "source": [
        "bus = pd.read_csv('경상남도 밀양시_버스정류장_20200716.csv', encoding = 'cp949')"
      ]
    },
    {
      "cell_type": "code",
      "execution_count": null,
      "id": "49ac9a72-8874-4f12-b670-d461ed838bd4",
      "metadata": {
        "tags": [],
        "id": "49ac9a72-8874-4f12-b670-d461ed838bd4",
        "outputId": "8bb85823-1446-4ed5-80af-77b4a4d98cf7"
      },
      "outputs": [
        {
          "data": {
            "text/html": [
              "<div>\n",
              "<style scoped>\n",
              "    .dataframe tbody tr th:only-of-type {\n",
              "        vertical-align: middle;\n",
              "    }\n",
              "\n",
              "    .dataframe tbody tr th {\n",
              "        vertical-align: top;\n",
              "    }\n",
              "\n",
              "    .dataframe thead th {\n",
              "        text-align: right;\n",
              "    }\n",
              "</style>\n",
              "<table border=\"1\" class=\"dataframe\">\n",
              "  <thead>\n",
              "    <tr style=\"text-align: right;\">\n",
              "      <th></th>\n",
              "      <th>연번</th>\n",
              "      <th>정류장(소)명</th>\n",
              "      <th>경도</th>\n",
              "      <th>위도</th>\n",
              "      <th>운행노선번호</th>\n",
              "      <th>기타(정류장 관련)</th>\n",
              "    </tr>\n",
              "  </thead>\n",
              "  <tbody>\n",
              "    <tr>\n",
              "      <th>0</th>\n",
              "      <td>1</td>\n",
              "      <td>KT&amp;G</td>\n",
              "      <td>128.764272</td>\n",
              "      <td>35.477956</td>\n",
              "      <td>1-2가곡,1-2금동,1-2번,1-2부산대,1가곡,1금동,1번,1부산대,1서가정,1...</td>\n",
              "      <td>NaN</td>\n",
              "    </tr>\n",
              "    <tr>\n",
              "      <th>1</th>\n",
              "      <td>2</td>\n",
              "      <td>가곡삼거리</td>\n",
              "      <td>128.767228</td>\n",
              "      <td>35.475342</td>\n",
              "      <td>1-2가곡,1-2금동,1-2번,1-2부산대,1가곡,1금동,1번,1부산대,1서가정,1...</td>\n",
              "      <td>NaN</td>\n",
              "    </tr>\n",
              "    <tr>\n",
              "      <th>2</th>\n",
              "      <td>3</td>\n",
              "      <td>가곡삼거리</td>\n",
              "      <td>128.767181</td>\n",
              "      <td>35.475017</td>\n",
              "      <td>1-2금동,1금동,4-1롯데,4-1번,4-1번.,4-1용성,4-1청운,4구기,4대항...</td>\n",
              "      <td>NaN</td>\n",
              "    </tr>\n",
              "    <tr>\n",
              "      <th>3</th>\n",
              "      <td>4</td>\n",
              "      <td>가곡삼거리</td>\n",
              "      <td>128.767700</td>\n",
              "      <td>35.474939</td>\n",
              "      <td>1-2가곡,1-2금동,1-2번,1-2부산대,1가곡,1금동,1번,1부산대,1서가정,1...</td>\n",
              "      <td>NaN</td>\n",
              "    </tr>\n",
              "    <tr>\n",
              "      <th>4</th>\n",
              "      <td>5</td>\n",
              "      <td>가곡시장</td>\n",
              "      <td>128.765547</td>\n",
              "      <td>35.476386</td>\n",
              "      <td>1-2가곡,1-2금동,1-2번,1-2부산대,1가곡,1금동,1번,1부산대,1서가정,1...</td>\n",
              "      <td>NaN</td>\n",
              "    </tr>\n",
              "  </tbody>\n",
              "</table>\n",
              "</div>"
            ],
            "text/plain": [
              "   연번 정류장(소)명          경도         위도  \\\n",
              "0   1    KT&G  128.764272  35.477956   \n",
              "1   2   가곡삼거리  128.767228  35.475342   \n",
              "2   3   가곡삼거리  128.767181  35.475017   \n",
              "3   4   가곡삼거리  128.767700  35.474939   \n",
              "4   5    가곡시장  128.765547  35.476386   \n",
              "\n",
              "                                              운행노선번호  기타(정류장 관련)  \n",
              "0  1-2가곡,1-2금동,1-2번,1-2부산대,1가곡,1금동,1번,1부산대,1서가정,1...         NaN  \n",
              "1  1-2가곡,1-2금동,1-2번,1-2부산대,1가곡,1금동,1번,1부산대,1서가정,1...         NaN  \n",
              "2  1-2금동,1금동,4-1롯데,4-1번,4-1번.,4-1용성,4-1청운,4구기,4대항...         NaN  \n",
              "3  1-2가곡,1-2금동,1-2번,1-2부산대,1가곡,1금동,1번,1부산대,1서가정,1...         NaN  \n",
              "4  1-2가곡,1-2금동,1-2번,1-2부산대,1가곡,1금동,1번,1부산대,1서가정,1...         NaN  "
            ]
          },
          "execution_count": 102,
          "metadata": {},
          "output_type": "execute_result"
        }
      ],
      "source": [
        "bus.head()"
      ]
    },
    {
      "cell_type": "code",
      "execution_count": null,
      "id": "d314807f-b18e-47c2-88eb-b8373c481c8b",
      "metadata": {
        "tags": [],
        "id": "d314807f-b18e-47c2-88eb-b8373c481c8b"
      },
      "outputs": [],
      "source": [
        "bus = bus.iloc[:,1:4]"
      ]
    },
    {
      "cell_type": "code",
      "execution_count": null,
      "id": "7a22d11b-e5a4-4b86-a2de-56b7a9b12212",
      "metadata": {
        "tags": [],
        "id": "7a22d11b-e5a4-4b86-a2de-56b7a9b12212",
        "outputId": "c3f1aaac-4161-4d41-9c51-9c4ba7a5d895"
      },
      "outputs": [
        {
          "data": {
            "text/html": [
              "<div>\n",
              "<style scoped>\n",
              "    .dataframe tbody tr th:only-of-type {\n",
              "        vertical-align: middle;\n",
              "    }\n",
              "\n",
              "    .dataframe tbody tr th {\n",
              "        vertical-align: top;\n",
              "    }\n",
              "\n",
              "    .dataframe thead th {\n",
              "        text-align: right;\n",
              "    }\n",
              "</style>\n",
              "<table border=\"1\" class=\"dataframe\">\n",
              "  <thead>\n",
              "    <tr style=\"text-align: right;\">\n",
              "      <th></th>\n",
              "      <th>정류장(소)명</th>\n",
              "      <th>경도</th>\n",
              "      <th>위도</th>\n",
              "    </tr>\n",
              "  </thead>\n",
              "  <tbody>\n",
              "    <tr>\n",
              "      <th>0</th>\n",
              "      <td>KT&amp;G</td>\n",
              "      <td>128.764272</td>\n",
              "      <td>35.477956</td>\n",
              "    </tr>\n",
              "    <tr>\n",
              "      <th>1</th>\n",
              "      <td>가곡삼거리</td>\n",
              "      <td>128.767228</td>\n",
              "      <td>35.475342</td>\n",
              "    </tr>\n",
              "    <tr>\n",
              "      <th>2</th>\n",
              "      <td>가곡삼거리</td>\n",
              "      <td>128.767181</td>\n",
              "      <td>35.475017</td>\n",
              "    </tr>\n",
              "    <tr>\n",
              "      <th>3</th>\n",
              "      <td>가곡삼거리</td>\n",
              "      <td>128.767700</td>\n",
              "      <td>35.474939</td>\n",
              "    </tr>\n",
              "    <tr>\n",
              "      <th>4</th>\n",
              "      <td>가곡시장</td>\n",
              "      <td>128.765547</td>\n",
              "      <td>35.476386</td>\n",
              "    </tr>\n",
              "  </tbody>\n",
              "</table>\n",
              "</div>"
            ],
            "text/plain": [
              "  정류장(소)명          경도         위도\n",
              "0    KT&G  128.764272  35.477956\n",
              "1   가곡삼거리  128.767228  35.475342\n",
              "2   가곡삼거리  128.767181  35.475017\n",
              "3   가곡삼거리  128.767700  35.474939\n",
              "4    가곡시장  128.765547  35.476386"
            ]
          },
          "execution_count": 104,
          "metadata": {},
          "output_type": "execute_result"
        }
      ],
      "source": [
        "bus.head()"
      ]
    },
    {
      "cell_type": "code",
      "execution_count": null,
      "id": "8c16c821-71fa-4f74-88a8-c357591e94a0",
      "metadata": {
        "tags": [],
        "id": "8c16c821-71fa-4f74-88a8-c357591e94a0",
        "outputId": "d2b1ad73-0817-4373-ba83-2c41374e0317"
      },
      "outputs": [
        {
          "data": {
            "text/html": [
              "<div>\n",
              "<style scoped>\n",
              "    .dataframe tbody tr th:only-of-type {\n",
              "        vertical-align: middle;\n",
              "    }\n",
              "\n",
              "    .dataframe tbody tr th {\n",
              "        vertical-align: top;\n",
              "    }\n",
              "\n",
              "    .dataframe thead th {\n",
              "        text-align: right;\n",
              "    }\n",
              "</style>\n",
              "<table border=\"1\" class=\"dataframe\">\n",
              "  <thead>\n",
              "    <tr style=\"text-align: right;\">\n",
              "      <th></th>\n",
              "      <th>연번</th>\n",
              "      <th>병원명</th>\n",
              "      <th>병원분류</th>\n",
              "      <th>주소</th>\n",
              "      <th>전화번호</th>\n",
              "      <th>데이터기준일자</th>\n",
              "    </tr>\n",
              "  </thead>\n",
              "  <tbody>\n",
              "    <tr>\n",
              "      <th>0</th>\n",
              "      <td>1</td>\n",
              "      <td>나노병원</td>\n",
              "      <td>병원</td>\n",
              "      <td>밀양시 중앙로 229 (삼문동)</td>\n",
              "      <td>351-1600</td>\n",
              "      <td>2022-08-01</td>\n",
              "    </tr>\n",
              "    <tr>\n",
              "      <th>1</th>\n",
              "      <td>2</td>\n",
              "      <td>의료법인지원의료재단 굿모닝병원</td>\n",
              "      <td>병원</td>\n",
              "      <td>밀양시 용평로5길 4-20 (용평동)</td>\n",
              "      <td>355-9788</td>\n",
              "      <td>2022-08-01</td>\n",
              "    </tr>\n",
              "    <tr>\n",
              "      <th>2</th>\n",
              "      <td>3</td>\n",
              "      <td>미르아이병원</td>\n",
              "      <td>병원</td>\n",
              "      <td>밀양시 미리벌중앙로 67, 2~4층 (삼문동)</td>\n",
              "      <td>716-1275</td>\n",
              "      <td>2022-08-01</td>\n",
              "    </tr>\n",
              "    <tr>\n",
              "      <th>3</th>\n",
              "      <td>4</td>\n",
              "      <td>의료법인 생명사랑의료재단 밀양윤병원</td>\n",
              "      <td>병원</td>\n",
              "      <td>밀양시 삼문중앙로 32 (삼문동)</td>\n",
              "      <td>354-2200</td>\n",
              "      <td>2022-08-01</td>\n",
              "    </tr>\n",
              "    <tr>\n",
              "      <th>4</th>\n",
              "      <td>5</td>\n",
              "      <td>행복한병원</td>\n",
              "      <td>병원</td>\n",
              "      <td>밀양시 하남읍 수산중앙로 56-2</td>\n",
              "      <td>391-0090</td>\n",
              "      <td>2022-08-01</td>\n",
              "    </tr>\n",
              "  </tbody>\n",
              "</table>\n",
              "</div>"
            ],
            "text/plain": [
              "   연번                  병원명 병원분류                         주소      전화번호  \\\n",
              "0   1                 나노병원   병원          밀양시 중앙로 229 (삼문동)  351-1600   \n",
              "1   2     의료법인지원의료재단 굿모닝병원   병원       밀양시 용평로5길 4-20 (용평동)  355-9788   \n",
              "2   3               미르아이병원   병원  밀양시 미리벌중앙로 67, 2~4층 (삼문동)  716-1275   \n",
              "3   4  의료법인 생명사랑의료재단 밀양윤병원   병원         밀양시 삼문중앙로 32 (삼문동)  354-2200   \n",
              "4   5                행복한병원   병원         밀양시 하남읍 수산중앙로 56-2  391-0090   \n",
              "\n",
              "      데이터기준일자  \n",
              "0  2022-08-01  \n",
              "1  2022-08-01  \n",
              "2  2022-08-01  \n",
              "3  2022-08-01  \n",
              "4  2022-08-01  "
            ]
          },
          "execution_count": 119,
          "metadata": {},
          "output_type": "execute_result"
        }
      ],
      "source": [
        "hospital = pd.read_csv('경상남도 밀양시_병원 현황_20220801.csv', encoding = 'cp949')\n",
        "hospital.head()"
      ]
    },
    {
      "cell_type": "code",
      "execution_count": null,
      "id": "de3e9d7e-493f-405d-ad38-e482e436b63c",
      "metadata": {
        "tags": [],
        "id": "de3e9d7e-493f-405d-ad38-e482e436b63c",
        "outputId": "c8eb6585-98e4-4ca8-d97a-d1b3b2df4054"
      },
      "outputs": [
        {
          "data": {
            "text/html": [
              "<div>\n",
              "<style scoped>\n",
              "    .dataframe tbody tr th:only-of-type {\n",
              "        vertical-align: middle;\n",
              "    }\n",
              "\n",
              "    .dataframe tbody tr th {\n",
              "        vertical-align: top;\n",
              "    }\n",
              "\n",
              "    .dataframe thead th {\n",
              "        text-align: right;\n",
              "    }\n",
              "</style>\n",
              "<table border=\"1\" class=\"dataframe\">\n",
              "  <thead>\n",
              "    <tr style=\"text-align: right;\">\n",
              "      <th></th>\n",
              "      <th>병원명</th>\n",
              "      <th>주소</th>\n",
              "    </tr>\n",
              "  </thead>\n",
              "  <tbody>\n",
              "    <tr>\n",
              "      <th>0</th>\n",
              "      <td>나노병원</td>\n",
              "      <td>밀양시 중앙로 229 (삼문동)</td>\n",
              "    </tr>\n",
              "    <tr>\n",
              "      <th>1</th>\n",
              "      <td>의료법인지원의료재단 굿모닝병원</td>\n",
              "      <td>밀양시 용평로5길 4-20 (용평동)</td>\n",
              "    </tr>\n",
              "    <tr>\n",
              "      <th>2</th>\n",
              "      <td>미르아이병원</td>\n",
              "      <td>밀양시 미리벌중앙로 67, 2~4층 (삼문동)</td>\n",
              "    </tr>\n",
              "    <tr>\n",
              "      <th>3</th>\n",
              "      <td>의료법인 생명사랑의료재단 밀양윤병원</td>\n",
              "      <td>밀양시 삼문중앙로 32 (삼문동)</td>\n",
              "    </tr>\n",
              "    <tr>\n",
              "      <th>4</th>\n",
              "      <td>행복한병원</td>\n",
              "      <td>밀양시 하남읍 수산중앙로 56-2</td>\n",
              "    </tr>\n",
              "  </tbody>\n",
              "</table>\n",
              "</div>"
            ],
            "text/plain": [
              "                   병원명                         주소\n",
              "0                 나노병원          밀양시 중앙로 229 (삼문동)\n",
              "1     의료법인지원의료재단 굿모닝병원       밀양시 용평로5길 4-20 (용평동)\n",
              "2               미르아이병원  밀양시 미리벌중앙로 67, 2~4층 (삼문동)\n",
              "3  의료법인 생명사랑의료재단 밀양윤병원         밀양시 삼문중앙로 32 (삼문동)\n",
              "4                행복한병원         밀양시 하남읍 수산중앙로 56-2"
            ]
          },
          "execution_count": 120,
          "metadata": {},
          "output_type": "execute_result"
        }
      ],
      "source": [
        "hospital = hospital.iloc[:,[1,3]]\n",
        "hospital.head()"
      ]
    },
    {
      "cell_type": "code",
      "execution_count": null,
      "id": "1369115c-67e6-41c9-a25c-0121b60a55b2",
      "metadata": {
        "tags": [],
        "id": "1369115c-67e6-41c9-a25c-0121b60a55b2",
        "outputId": "d7abc9ad-b0ea-435f-e2c9-5a161b8e15a5"
      },
      "outputs": [
        {
          "data": {
            "text/html": [
              "<div>\n",
              "<style scoped>\n",
              "    .dataframe tbody tr th:only-of-type {\n",
              "        vertical-align: middle;\n",
              "    }\n",
              "\n",
              "    .dataframe tbody tr th {\n",
              "        vertical-align: top;\n",
              "    }\n",
              "\n",
              "    .dataframe thead th {\n",
              "        text-align: right;\n",
              "    }\n",
              "</style>\n",
              "<table border=\"1\" class=\"dataframe\">\n",
              "  <thead>\n",
              "    <tr style=\"text-align: right;\">\n",
              "      <th></th>\n",
              "      <th>연번</th>\n",
              "      <th>약국명</th>\n",
              "      <th>주소</th>\n",
              "      <th>전화번호</th>\n",
              "      <th>데이터기준일자</th>\n",
              "    </tr>\n",
              "  </thead>\n",
              "  <tbody>\n",
              "    <tr>\n",
              "      <th>0</th>\n",
              "      <td>1</td>\n",
              "      <td>강약국</td>\n",
              "      <td>밀양시 삼랑진읍 외송중앙길 3</td>\n",
              "      <td>352-9955</td>\n",
              "      <td>2022-08-01</td>\n",
              "    </tr>\n",
              "    <tr>\n",
              "      <th>1</th>\n",
              "      <td>2</td>\n",
              "      <td>건강약국</td>\n",
              "      <td>밀양시 중앙로 450 (내이동)</td>\n",
              "      <td>352-0261</td>\n",
              "      <td>2022-08-01</td>\n",
              "    </tr>\n",
              "    <tr>\n",
              "      <th>2</th>\n",
              "      <td>3</td>\n",
              "      <td>광제당약국</td>\n",
              "      <td>밀양시 중앙로 349 (내일동)</td>\n",
              "      <td>354-7686</td>\n",
              "      <td>2022-08-01</td>\n",
              "    </tr>\n",
              "    <tr>\n",
              "      <th>3</th>\n",
              "      <td>4</td>\n",
              "      <td>규태약국</td>\n",
              "      <td>밀양시 삼문중앙로 36-4 (삼문동)</td>\n",
              "      <td>355-8012</td>\n",
              "      <td>2022-08-01</td>\n",
              "    </tr>\n",
              "    <tr>\n",
              "      <th>4</th>\n",
              "      <td>5</td>\n",
              "      <td>단골약국</td>\n",
              "      <td>밀양시 북성로 10, 1층 (내이동)</td>\n",
              "      <td>354-1578</td>\n",
              "      <td>2022-08-01</td>\n",
              "    </tr>\n",
              "  </tbody>\n",
              "</table>\n",
              "</div>"
            ],
            "text/plain": [
              "   연번    약국명                    주소      전화번호     데이터기준일자\n",
              "0   1    강약국      밀양시 삼랑진읍 외송중앙길 3  352-9955  2022-08-01\n",
              "1   2   건강약국     밀양시 중앙로 450 (내이동)  352-0261  2022-08-01\n",
              "2   3  광제당약국     밀양시 중앙로 349 (내일동)  354-7686  2022-08-01\n",
              "3   4   규태약국  밀양시 삼문중앙로 36-4 (삼문동)  355-8012  2022-08-01\n",
              "4   5   단골약국  밀양시 북성로 10, 1층 (내이동)  354-1578  2022-08-01"
            ]
          },
          "execution_count": 121,
          "metadata": {},
          "output_type": "execute_result"
        }
      ],
      "source": [
        "pharm = pd.read_csv('경상남도 밀양시_약국 현황_20220801.csv', encoding = 'cp949')\n",
        "pharm.head()"
      ]
    },
    {
      "cell_type": "code",
      "execution_count": null,
      "id": "0af78cc0-8c0b-4587-b931-6f919ab9b7a3",
      "metadata": {
        "tags": [],
        "id": "0af78cc0-8c0b-4587-b931-6f919ab9b7a3",
        "outputId": "eaae03c8-b706-45cf-d3e2-d5d17ca8c899"
      },
      "outputs": [
        {
          "data": {
            "text/html": [
              "<div>\n",
              "<style scoped>\n",
              "    .dataframe tbody tr th:only-of-type {\n",
              "        vertical-align: middle;\n",
              "    }\n",
              "\n",
              "    .dataframe tbody tr th {\n",
              "        vertical-align: top;\n",
              "    }\n",
              "\n",
              "    .dataframe thead th {\n",
              "        text-align: right;\n",
              "    }\n",
              "</style>\n",
              "<table border=\"1\" class=\"dataframe\">\n",
              "  <thead>\n",
              "    <tr style=\"text-align: right;\">\n",
              "      <th></th>\n",
              "      <th>약국명</th>\n",
              "      <th>주소</th>\n",
              "    </tr>\n",
              "  </thead>\n",
              "  <tbody>\n",
              "    <tr>\n",
              "      <th>0</th>\n",
              "      <td>강약국</td>\n",
              "      <td>밀양시 삼랑진읍 외송중앙길 3</td>\n",
              "    </tr>\n",
              "    <tr>\n",
              "      <th>1</th>\n",
              "      <td>건강약국</td>\n",
              "      <td>밀양시 중앙로 450 (내이동)</td>\n",
              "    </tr>\n",
              "    <tr>\n",
              "      <th>2</th>\n",
              "      <td>광제당약국</td>\n",
              "      <td>밀양시 중앙로 349 (내일동)</td>\n",
              "    </tr>\n",
              "    <tr>\n",
              "      <th>3</th>\n",
              "      <td>규태약국</td>\n",
              "      <td>밀양시 삼문중앙로 36-4 (삼문동)</td>\n",
              "    </tr>\n",
              "    <tr>\n",
              "      <th>4</th>\n",
              "      <td>단골약국</td>\n",
              "      <td>밀양시 북성로 10, 1층 (내이동)</td>\n",
              "    </tr>\n",
              "  </tbody>\n",
              "</table>\n",
              "</div>"
            ],
            "text/plain": [
              "     약국명                    주소\n",
              "0    강약국      밀양시 삼랑진읍 외송중앙길 3\n",
              "1   건강약국     밀양시 중앙로 450 (내이동)\n",
              "2  광제당약국     밀양시 중앙로 349 (내일동)\n",
              "3   규태약국  밀양시 삼문중앙로 36-4 (삼문동)\n",
              "4   단골약국  밀양시 북성로 10, 1층 (내이동)"
            ]
          },
          "execution_count": 122,
          "metadata": {},
          "output_type": "execute_result"
        }
      ],
      "source": [
        "pharm = pharm.iloc[:,1:3]\n",
        "pharm.head()"
      ]
    },
    {
      "cell_type": "code",
      "execution_count": null,
      "id": "5ad692c3-d6bf-4a83-9a8b-6764775a2029",
      "metadata": {
        "tags": [],
        "id": "5ad692c3-d6bf-4a83-9a8b-6764775a2029",
        "outputId": "adb8e8bf-d54c-4ec2-e318-962620bc4d2e"
      },
      "outputs": [
        {
          "data": {
            "text/html": [
              "<div>\n",
              "<style scoped>\n",
              "    .dataframe tbody tr th:only-of-type {\n",
              "        vertical-align: middle;\n",
              "    }\n",
              "\n",
              "    .dataframe tbody tr th {\n",
              "        vertical-align: top;\n",
              "    }\n",
              "\n",
              "    .dataframe thead th {\n",
              "        text-align: right;\n",
              "    }\n",
              "</style>\n",
              "<table border=\"1\" class=\"dataframe\">\n",
              "  <thead>\n",
              "    <tr style=\"text-align: right;\">\n",
              "      <th></th>\n",
              "      <th>이름</th>\n",
              "      <th>병원</th>\n",
              "      <th>주소</th>\n",
              "      <th>전화번호</th>\n",
              "    </tr>\n",
              "  </thead>\n",
              "  <tbody>\n",
              "    <tr>\n",
              "      <th>0</th>\n",
              "      <td>금송의원</td>\n",
              "      <td>의원</td>\n",
              "      <td>밀양시 삼랑진읍 천태로 50</td>\n",
              "      <td>055-351-1370</td>\n",
              "    </tr>\n",
              "    <tr>\n",
              "      <th>1</th>\n",
              "      <td>송광호의원</td>\n",
              "      <td>의원</td>\n",
              "      <td>밀양시 삼랑진읍 천태로 14-1</td>\n",
              "      <td>055-351-0367</td>\n",
              "    </tr>\n",
              "    <tr>\n",
              "      <th>2</th>\n",
              "      <td>오용창 내과의원</td>\n",
              "      <td>의원</td>\n",
              "      <td>밀양시 삼랑진읍 천태로 14-1</td>\n",
              "      <td>055-353-6933</td>\n",
              "    </tr>\n",
              "    <tr>\n",
              "      <th>3</th>\n",
              "      <td>신통의원</td>\n",
              "      <td>의원</td>\n",
              "      <td>삼랑진 천태로 75</td>\n",
              "      <td>055-351-5005</td>\n",
              "    </tr>\n",
              "    <tr>\n",
              "      <th>4</th>\n",
              "      <td>인성의원</td>\n",
              "      <td>의원</td>\n",
              "      <td>밀양시 하남읍 수산중앙로 21</td>\n",
              "      <td>055-391-2288</td>\n",
              "    </tr>\n",
              "  </tbody>\n",
              "</table>\n",
              "</div>"
            ],
            "text/plain": [
              "         이름  병원                 주소          전화번호\n",
              "0      금송의원  의원    밀양시 삼랑진읍 천태로 50  055-351-1370\n",
              "1     송광호의원  의원  밀양시 삼랑진읍 천태로 14-1  055-351-0367\n",
              "2  오용창 내과의원  의원  밀양시 삼랑진읍 천태로 14-1  055-353-6933\n",
              "3      신통의원  의원         삼랑진 천태로 75  055-351-5005\n",
              "4      인성의원  의원   밀양시 하남읍 수산중앙로 21  055-391-2288"
            ]
          },
          "execution_count": 123,
          "metadata": {},
          "output_type": "execute_result"
        }
      ],
      "source": [
        "clinic = pd.read_csv('경상남도 밀양시_의원현황_09_22_2014.csv', encoding = 'cp949')\n",
        "clinic.head()"
      ]
    },
    {
      "cell_type": "code",
      "execution_count": null,
      "id": "fb0e4066-d61a-41e4-a4c7-3d7611c9d4c0",
      "metadata": {
        "tags": [],
        "id": "fb0e4066-d61a-41e4-a4c7-3d7611c9d4c0",
        "outputId": "d754f1f9-8774-43ee-c74e-41e092c64c0f"
      },
      "outputs": [
        {
          "data": {
            "text/html": [
              "<div>\n",
              "<style scoped>\n",
              "    .dataframe tbody tr th:only-of-type {\n",
              "        vertical-align: middle;\n",
              "    }\n",
              "\n",
              "    .dataframe tbody tr th {\n",
              "        vertical-align: top;\n",
              "    }\n",
              "\n",
              "    .dataframe thead th {\n",
              "        text-align: right;\n",
              "    }\n",
              "</style>\n",
              "<table border=\"1\" class=\"dataframe\">\n",
              "  <thead>\n",
              "    <tr style=\"text-align: right;\">\n",
              "      <th></th>\n",
              "      <th>이름</th>\n",
              "      <th>주소</th>\n",
              "    </tr>\n",
              "  </thead>\n",
              "  <tbody>\n",
              "    <tr>\n",
              "      <th>0</th>\n",
              "      <td>금송의원</td>\n",
              "      <td>밀양시 삼랑진읍 천태로 50</td>\n",
              "    </tr>\n",
              "    <tr>\n",
              "      <th>1</th>\n",
              "      <td>송광호의원</td>\n",
              "      <td>밀양시 삼랑진읍 천태로 14-1</td>\n",
              "    </tr>\n",
              "    <tr>\n",
              "      <th>2</th>\n",
              "      <td>오용창 내과의원</td>\n",
              "      <td>밀양시 삼랑진읍 천태로 14-1</td>\n",
              "    </tr>\n",
              "    <tr>\n",
              "      <th>3</th>\n",
              "      <td>신통의원</td>\n",
              "      <td>삼랑진 천태로 75</td>\n",
              "    </tr>\n",
              "    <tr>\n",
              "      <th>4</th>\n",
              "      <td>인성의원</td>\n",
              "      <td>밀양시 하남읍 수산중앙로 21</td>\n",
              "    </tr>\n",
              "  </tbody>\n",
              "</table>\n",
              "</div>"
            ],
            "text/plain": [
              "         이름                 주소\n",
              "0      금송의원    밀양시 삼랑진읍 천태로 50\n",
              "1     송광호의원  밀양시 삼랑진읍 천태로 14-1\n",
              "2  오용창 내과의원  밀양시 삼랑진읍 천태로 14-1\n",
              "3      신통의원         삼랑진 천태로 75\n",
              "4      인성의원   밀양시 하남읍 수산중앙로 21"
            ]
          },
          "execution_count": 124,
          "metadata": {},
          "output_type": "execute_result"
        }
      ],
      "source": [
        "clinic = clinic.iloc[:,[0,2]]\n",
        "clinic.head()"
      ]
    },
    {
      "cell_type": "code",
      "execution_count": null,
      "id": "528a7edb-0700-4021-9b87-463b0cbdb40f",
      "metadata": {
        "tags": [],
        "id": "528a7edb-0700-4021-9b87-463b0cbdb40f",
        "outputId": "a3c5cf3c-03c0-4b6b-88c3-386e143f0616"
      },
      "outputs": [
        {
          "name": "stdout",
          "output_type": "stream",
          "text": [
            "<class 'pandas.core.frame.DataFrame'>\n",
            "RangeIndex: 48 entries, 0 to 47\n",
            "Data columns (total 2 columns):\n",
            " #   Column  Non-Null Count  Dtype \n",
            "---  ------  --------------  ----- \n",
            " 0   이름      48 non-null     object\n",
            " 1   주소      48 non-null     object\n",
            "dtypes: object(2)\n",
            "memory usage: 900.0+ bytes\n"
          ]
        }
      ],
      "source": [
        "clinic.info()"
      ]
    },
    {
      "cell_type": "code",
      "execution_count": null,
      "id": "a25100d4-e93a-49df-8671-32f57b2395a2",
      "metadata": {
        "tags": [],
        "id": "a25100d4-e93a-49df-8671-32f57b2395a2"
      },
      "outputs": [],
      "source": [
        "hospital['이름'] = hospital['병원명']\n",
        "hospital = hospital.drop(columns=['병원명'])"
      ]
    },
    {
      "cell_type": "code",
      "execution_count": null,
      "id": "d4c5b4dc-f946-4916-ae50-83f4d5560a85",
      "metadata": {
        "tags": [],
        "id": "d4c5b4dc-f946-4916-ae50-83f4d5560a85",
        "outputId": "00d7b590-8dcd-431b-b4db-a27fb06bb3f6"
      },
      "outputs": [
        {
          "name": "stdout",
          "output_type": "stream",
          "text": [
            "<class 'pandas.core.frame.DataFrame'>\n",
            "Int64Index: 125 entries, 0 to 124\n",
            "Data columns (total 3 columns):\n",
            " #   Column  Non-Null Count  Dtype \n",
            "---  ------  --------------  ----- \n",
            " 0   주소_x    110 non-null    object\n",
            " 1   이름      125 non-null    object\n",
            " 2   주소_y    48 non-null     object\n",
            "dtypes: object(3)\n",
            "memory usage: 3.9+ KB\n"
          ]
        }
      ],
      "source": [
        "hos = pd.merge(hospital, clinic, on = '이름', how = 'outer')\n",
        "hos.info()"
      ]
    },
    {
      "cell_type": "code",
      "execution_count": null,
      "id": "5d7ddee4-f738-4f95-b293-ab64d01dc70f",
      "metadata": {
        "tags": [],
        "id": "5d7ddee4-f738-4f95-b293-ab64d01dc70f",
        "outputId": "f846d3be-27c8-4de5-9ab9-46431755a26d"
      },
      "outputs": [
        {
          "data": {
            "text/plain": [
              "Series([], Name: 주소, dtype: object)"
            ]
          },
          "execution_count": 213,
          "metadata": {},
          "output_type": "execute_result"
        }
      ],
      "source": [
        "hos['주소'] = hos['주소_x']\n",
        "hos[hos['주소'] == None]['주소']"
      ]
    },
    {
      "cell_type": "code",
      "execution_count": null,
      "id": "960a2c76-bdcb-47d7-9144-9f34f79ac376",
      "metadata": {
        "tags": [],
        "id": "960a2c76-bdcb-47d7-9144-9f34f79ac376",
        "outputId": "97a8ed22-1b33-4d47-f0a3-ed7d5723b405"
      },
      "outputs": [
        {
          "name": "stdout",
          "output_type": "stream",
          "text": [
            "<class 'pandas.core.frame.DataFrame'>\n",
            "Int64Index: 125 entries, 0 to 124\n",
            "Data columns (total 4 columns):\n",
            " #   Column  Non-Null Count  Dtype \n",
            "---  ------  --------------  ----- \n",
            " 0   주소_x    110 non-null    object\n",
            " 1   이름      125 non-null    object\n",
            " 2   주소_y    48 non-null     object\n",
            " 3   주소      110 non-null    object\n",
            "dtypes: object(4)\n",
            "memory usage: 4.9+ KB\n"
          ]
        }
      ],
      "source": [
        "hos.info()"
      ]
    },
    {
      "cell_type": "code",
      "execution_count": null,
      "id": "d280392d-6023-46fc-b4ff-bc66ed63401b",
      "metadata": {
        "tags": [],
        "id": "d280392d-6023-46fc-b4ff-bc66ed63401b",
        "outputId": "4aa5af29-32cf-48fb-e354-b4970a1dd320"
      },
      "outputs": [
        {
          "data": {
            "text/html": [
              "<div>\n",
              "<style scoped>\n",
              "    .dataframe tbody tr th:only-of-type {\n",
              "        vertical-align: middle;\n",
              "    }\n",
              "\n",
              "    .dataframe tbody tr th {\n",
              "        vertical-align: top;\n",
              "    }\n",
              "\n",
              "    .dataframe thead th {\n",
              "        text-align: right;\n",
              "    }\n",
              "</style>\n",
              "<table border=\"1\" class=\"dataframe\">\n",
              "  <thead>\n",
              "    <tr style=\"text-align: right;\">\n",
              "      <th></th>\n",
              "      <th>주소_x</th>\n",
              "      <th>이름</th>\n",
              "      <th>주소_y</th>\n",
              "      <th>주소</th>\n",
              "    </tr>\n",
              "  </thead>\n",
              "  <tbody>\n",
              "    <tr>\n",
              "      <th>0</th>\n",
              "      <td>밀양시 중앙로 229 (삼문동)</td>\n",
              "      <td>나노병원</td>\n",
              "      <td>NaN</td>\n",
              "      <td>밀양시 중앙로 229 (삼문동)</td>\n",
              "    </tr>\n",
              "    <tr>\n",
              "      <th>1</th>\n",
              "      <td>밀양시 용평로5길 4-20 (용평동)</td>\n",
              "      <td>의료법인지원의료재단 굿모닝병원</td>\n",
              "      <td>NaN</td>\n",
              "      <td>밀양시 용평로5길 4-20 (용평동)</td>\n",
              "    </tr>\n",
              "    <tr>\n",
              "      <th>2</th>\n",
              "      <td>밀양시 미리벌중앙로 67, 2~4층 (삼문동)</td>\n",
              "      <td>미르아이병원</td>\n",
              "      <td>NaN</td>\n",
              "      <td>밀양시 미리벌중앙로 67, 2~4층 (삼문동)</td>\n",
              "    </tr>\n",
              "    <tr>\n",
              "      <th>3</th>\n",
              "      <td>밀양시 삼문중앙로 32 (삼문동)</td>\n",
              "      <td>의료법인 생명사랑의료재단 밀양윤병원</td>\n",
              "      <td>NaN</td>\n",
              "      <td>밀양시 삼문중앙로 32 (삼문동)</td>\n",
              "    </tr>\n",
              "    <tr>\n",
              "      <th>4</th>\n",
              "      <td>밀양시 하남읍 수산중앙로 56-2</td>\n",
              "      <td>행복한병원</td>\n",
              "      <td>NaN</td>\n",
              "      <td>밀양시 하남읍 수산중앙로 56-2</td>\n",
              "    </tr>\n",
              "  </tbody>\n",
              "</table>\n",
              "</div>"
            ],
            "text/plain": [
              "                        주소_x                   이름 주소_y  \\\n",
              "0          밀양시 중앙로 229 (삼문동)                 나노병원  NaN   \n",
              "1       밀양시 용평로5길 4-20 (용평동)     의료법인지원의료재단 굿모닝병원  NaN   \n",
              "2  밀양시 미리벌중앙로 67, 2~4층 (삼문동)               미르아이병원  NaN   \n",
              "3         밀양시 삼문중앙로 32 (삼문동)  의료법인 생명사랑의료재단 밀양윤병원  NaN   \n",
              "4         밀양시 하남읍 수산중앙로 56-2                행복한병원  NaN   \n",
              "\n",
              "                          주소  \n",
              "0          밀양시 중앙로 229 (삼문동)  \n",
              "1       밀양시 용평로5길 4-20 (용평동)  \n",
              "2  밀양시 미리벌중앙로 67, 2~4층 (삼문동)  \n",
              "3         밀양시 삼문중앙로 32 (삼문동)  \n",
              "4         밀양시 하남읍 수산중앙로 56-2  "
            ]
          },
          "execution_count": 204,
          "metadata": {},
          "output_type": "execute_result"
        }
      ],
      "source": [
        "hos.head()"
      ]
    },
    {
      "cell_type": "code",
      "execution_count": null,
      "id": "7687ba26-db38-4046-92e4-b5fe912c8673",
      "metadata": {
        "tags": [],
        "id": "7687ba26-db38-4046-92e4-b5fe912c8673"
      },
      "outputs": [],
      "source": [
        "import numpy as np"
      ]
    },
    {
      "cell_type": "code",
      "execution_count": null,
      "id": "b991189f-5c37-411f-bd34-82fb35dedad5",
      "metadata": {
        "tags": [],
        "id": "b991189f-5c37-411f-bd34-82fb35dedad5",
        "outputId": "e528a633-c567-4ee8-8e35-9ca05ae2500e"
      },
      "outputs": [
        {
          "data": {
            "text/plain": [
              "0"
            ]
          },
          "execution_count": 208,
          "metadata": {},
          "output_type": "execute_result"
        }
      ],
      "source": [
        "for i in range(len(hos)):\n",
        "    con = np.logical_and(hos['주소_x'][i] is None, hos['주소_y'][i] is None)\n",
        "con.sum()"
      ]
    },
    {
      "cell_type": "code",
      "execution_count": null,
      "id": "a5ac67c0-4f19-4d2f-b4f8-58b877a4fbb0",
      "metadata": {
        "tags": [],
        "id": "a5ac67c0-4f19-4d2f-b4f8-58b877a4fbb0"
      },
      "outputs": [],
      "source": [
        "for i in range(len(hos)):\n",
        "    if hos['주소'][i] is None:\n",
        "        hos['주소'][i] = hos['주소_y'][i]"
      ]
    },
    {
      "cell_type": "code",
      "execution_count": null,
      "id": "00bdf3e8-11e6-4e95-ba96-174045255bd0",
      "metadata": {
        "tags": [],
        "id": "00bdf3e8-11e6-4e95-ba96-174045255bd0",
        "outputId": "4f448ed3-0642-41bb-da3f-0c730e852e8c"
      },
      "outputs": [
        {
          "name": "stdout",
          "output_type": "stream",
          "text": [
            "<class 'pandas.core.frame.DataFrame'>\n",
            "Int64Index: 125 entries, 0 to 124\n",
            "Data columns (total 2 columns):\n",
            " #   Column  Non-Null Count  Dtype \n",
            "---  ------  --------------  ----- \n",
            " 0   이름      125 non-null    object\n",
            " 1   주소      110 non-null    object\n",
            "dtypes: object(2)\n",
            "memory usage: 7.0+ KB\n"
          ]
        }
      ],
      "source": [
        "hos.info()"
      ]
    },
    {
      "cell_type": "code",
      "execution_count": null,
      "id": "ba6afd65-9c27-446f-a232-518cf0eb72a2",
      "metadata": {
        "tags": [],
        "id": "ba6afd65-9c27-446f-a232-518cf0eb72a2"
      },
      "outputs": [],
      "source": [
        "hos = hos.drop(columns = ['주소_x', '주소_y'])"
      ]
    },
    {
      "cell_type": "code",
      "execution_count": null,
      "id": "5f5c8b0f-b281-4be0-964e-8efe6fc3a291",
      "metadata": {
        "tags": [],
        "id": "5f5c8b0f-b281-4be0-964e-8efe6fc3a291",
        "outputId": "4fdd2989-3181-4f57-ad30-553a4f6ae387"
      },
      "outputs": [
        {
          "data": {
            "text/html": [
              "<div>\n",
              "<style scoped>\n",
              "    .dataframe tbody tr th:only-of-type {\n",
              "        vertical-align: middle;\n",
              "    }\n",
              "\n",
              "    .dataframe tbody tr th {\n",
              "        vertical-align: top;\n",
              "    }\n",
              "\n",
              "    .dataframe thead th {\n",
              "        text-align: right;\n",
              "    }\n",
              "</style>\n",
              "<table border=\"1\" class=\"dataframe\">\n",
              "  <thead>\n",
              "    <tr style=\"text-align: right;\">\n",
              "      <th></th>\n",
              "      <th>이름</th>\n",
              "      <th>주소</th>\n",
              "    </tr>\n",
              "  </thead>\n",
              "  <tbody>\n",
              "    <tr>\n",
              "      <th>0</th>\n",
              "      <td>나노병원</td>\n",
              "      <td>밀양시 중앙로 229 (삼문동)</td>\n",
              "    </tr>\n",
              "    <tr>\n",
              "      <th>1</th>\n",
              "      <td>의료법인지원의료재단 굿모닝병원</td>\n",
              "      <td>밀양시 용평로5길 4-20 (용평동)</td>\n",
              "    </tr>\n",
              "    <tr>\n",
              "      <th>2</th>\n",
              "      <td>미르아이병원</td>\n",
              "      <td>밀양시 미리벌중앙로 67, 2~4층 (삼문동)</td>\n",
              "    </tr>\n",
              "    <tr>\n",
              "      <th>3</th>\n",
              "      <td>의료법인 생명사랑의료재단 밀양윤병원</td>\n",
              "      <td>밀양시 삼문중앙로 32 (삼문동)</td>\n",
              "    </tr>\n",
              "    <tr>\n",
              "      <th>4</th>\n",
              "      <td>행복한병원</td>\n",
              "      <td>밀양시 하남읍 수산중앙로 56-2</td>\n",
              "    </tr>\n",
              "  </tbody>\n",
              "</table>\n",
              "</div>"
            ],
            "text/plain": [
              "                    이름                         주소\n",
              "0                 나노병원          밀양시 중앙로 229 (삼문동)\n",
              "1     의료법인지원의료재단 굿모닝병원       밀양시 용평로5길 4-20 (용평동)\n",
              "2               미르아이병원  밀양시 미리벌중앙로 67, 2~4층 (삼문동)\n",
              "3  의료법인 생명사랑의료재단 밀양윤병원         밀양시 삼문중앙로 32 (삼문동)\n",
              "4                행복한병원         밀양시 하남읍 수산중앙로 56-2"
            ]
          },
          "execution_count": 198,
          "metadata": {},
          "output_type": "execute_result"
        }
      ],
      "source": [
        "hos.head()"
      ]
    },
    {
      "cell_type": "code",
      "execution_count": null,
      "id": "5f531c20-ffd1-4e92-aefb-ea7343c4c121",
      "metadata": {
        "tags": [],
        "id": "5f531c20-ffd1-4e92-aefb-ea7343c4c121",
        "outputId": "15cb8144-69a1-405c-cc43-4eb9532111d9"
      },
      "outputs": [
        {
          "name": "stdout",
          "output_type": "stream",
          "text": [
            "<class 'pandas.core.frame.DataFrame'>\n",
            "Int64Index: 125 entries, 0 to 124\n",
            "Data columns (total 2 columns):\n",
            " #   Column  Non-Null Count  Dtype \n",
            "---  ------  --------------  ----- \n",
            " 0   이름      125 non-null    object\n",
            " 1   주소      110 non-null    object\n",
            "dtypes: object(2)\n",
            "memory usage: 7.0+ KB\n"
          ]
        }
      ],
      "source": [
        "hos.info()"
      ]
    },
    {
      "cell_type": "code",
      "execution_count": null,
      "id": "e32b1d0d-f523-4743-bb98-d7fa2565d790",
      "metadata": {
        "tags": [],
        "id": "e32b1d0d-f523-4743-bb98-d7fa2565d790",
        "outputId": "b5374cea-3a85-4c36-b019-a234944726e3"
      },
      "outputs": [
        {
          "data": {
            "text/html": [
              "<div>\n",
              "<style scoped>\n",
              "    .dataframe tbody tr th:only-of-type {\n",
              "        vertical-align: middle;\n",
              "    }\n",
              "\n",
              "    .dataframe tbody tr th {\n",
              "        vertical-align: top;\n",
              "    }\n",
              "\n",
              "    .dataframe thead th {\n",
              "        text-align: right;\n",
              "    }\n",
              "</style>\n",
              "<table border=\"1\" class=\"dataframe\">\n",
              "  <thead>\n",
              "    <tr style=\"text-align: right;\">\n",
              "      <th></th>\n",
              "      <th>시설명</th>\n",
              "      <th>소재지도로명주소</th>\n",
              "      <th>소재지지번주소</th>\n",
              "      <th>면적(제곱미터)</th>\n",
              "      <th>시설유형</th>\n",
              "      <th>수용인원(명)</th>\n",
              "      <th>준공년도</th>\n",
              "      <th>관리기관</th>\n",
              "      <th>데이터기준일자</th>\n",
              "    </tr>\n",
              "  </thead>\n",
              "  <tbody>\n",
              "    <tr>\n",
              "      <th>0</th>\n",
              "      <td>밀양종합운동장</td>\n",
              "      <td>밀양시 밀양대로 2057-21</td>\n",
              "      <td>밀양시 교동 1111</td>\n",
              "      <td>4177.92</td>\n",
              "      <td>육상경기장</td>\n",
              "      <td>10000.0</td>\n",
              "      <td>1997</td>\n",
              "      <td>밀양시시설관리공단</td>\n",
              "      <td>2022-08-29</td>\n",
              "    </tr>\n",
              "    <tr>\n",
              "      <th>1</th>\n",
              "      <td>삼문공설운동장</td>\n",
              "      <td>NaN</td>\n",
              "      <td>밀양시 삼문동 15-48</td>\n",
              "      <td>10595.00</td>\n",
              "      <td>기타</td>\n",
              "      <td>4000.0</td>\n",
              "      <td>2003</td>\n",
              "      <td>밀양시시설관리공단</td>\n",
              "      <td>2022-08-29</td>\n",
              "    </tr>\n",
              "    <tr>\n",
              "      <th>2</th>\n",
              "      <td>밀양종합운동장 보조경기장</td>\n",
              "      <td>밀양시 시청로 26</td>\n",
              "      <td>밀양시 교동 1117</td>\n",
              "      <td>7920.00</td>\n",
              "      <td>축구장</td>\n",
              "      <td>3000.0</td>\n",
              "      <td>2005</td>\n",
              "      <td>밀양시시설관리공단</td>\n",
              "      <td>2022-08-29</td>\n",
              "    </tr>\n",
              "    <tr>\n",
              "      <th>3</th>\n",
              "      <td>가곡야구장</td>\n",
              "      <td>NaN</td>\n",
              "      <td>밀양시 가곡동 266-6</td>\n",
              "      <td>11593.00</td>\n",
              "      <td>야구장</td>\n",
              "      <td>NaN</td>\n",
              "      <td>2012</td>\n",
              "      <td>밀양시시설관리공단</td>\n",
              "      <td>2022-08-29</td>\n",
              "    </tr>\n",
              "    <tr>\n",
              "      <th>4</th>\n",
              "      <td>정문야구장</td>\n",
              "      <td>밀양시 산외면 산외로 42-57</td>\n",
              "      <td>밀양시 산외면 남기리 835</td>\n",
              "      <td>9936.00</td>\n",
              "      <td>야구장</td>\n",
              "      <td>NaN</td>\n",
              "      <td>2019</td>\n",
              "      <td>밀양시시설관리공단</td>\n",
              "      <td>2022-08-29</td>\n",
              "    </tr>\n",
              "  </tbody>\n",
              "</table>\n",
              "</div>"
            ],
            "text/plain": [
              "             시설명           소재지도로명주소          소재지지번주소  면적(제곱미터)   시설유형  \\\n",
              "0        밀양종합운동장   밀양시 밀양대로 2057-21      밀양시 교동 1111   4177.92  육상경기장   \n",
              "1        삼문공설운동장                NaN    밀양시 삼문동 15-48  10595.00     기타   \n",
              "2  밀양종합운동장 보조경기장         밀양시 시청로 26      밀양시 교동 1117   7920.00    축구장   \n",
              "3          가곡야구장                NaN    밀양시 가곡동 266-6  11593.00    야구장   \n",
              "4          정문야구장  밀양시 산외면 산외로 42-57  밀양시 산외면 남기리 835   9936.00    야구장   \n",
              "\n",
              "   수용인원(명)  준공년도       관리기관     데이터기준일자  \n",
              "0  10000.0  1997  밀양시시설관리공단  2022-08-29  \n",
              "1   4000.0  2003  밀양시시설관리공단  2022-08-29  \n",
              "2   3000.0  2005  밀양시시설관리공단  2022-08-29  \n",
              "3      NaN  2012  밀양시시설관리공단  2022-08-29  \n",
              "4      NaN  2019  밀양시시설관리공단  2022-08-29  "
            ]
          },
          "execution_count": 19,
          "metadata": {},
          "output_type": "execute_result"
        }
      ],
      "source": [
        "sports_facility = pd.read_csv('경상남도 밀양시_체육시설 현황_20220829.csv', encoding = 'cp949')\n",
        "sports_facility.head()"
      ]
    },
    {
      "cell_type": "code",
      "execution_count": null,
      "id": "dad3efeb-ca50-4b77-8dc5-638053b7f51b",
      "metadata": {
        "tags": [],
        "id": "dad3efeb-ca50-4b77-8dc5-638053b7f51b",
        "outputId": "accd86e3-298f-406f-851f-1eeddb121220"
      },
      "outputs": [
        {
          "data": {
            "text/html": [
              "<div>\n",
              "<style scoped>\n",
              "    .dataframe tbody tr th:only-of-type {\n",
              "        vertical-align: middle;\n",
              "    }\n",
              "\n",
              "    .dataframe tbody tr th {\n",
              "        vertical-align: top;\n",
              "    }\n",
              "\n",
              "    .dataframe thead th {\n",
              "        text-align: right;\n",
              "    }\n",
              "</style>\n",
              "<table border=\"1\" class=\"dataframe\">\n",
              "  <thead>\n",
              "    <tr style=\"text-align: right;\">\n",
              "      <th></th>\n",
              "      <th>시설명</th>\n",
              "      <th>소재지도로명주소</th>\n",
              "      <th>소재지지번주소</th>\n",
              "    </tr>\n",
              "  </thead>\n",
              "  <tbody>\n",
              "    <tr>\n",
              "      <th>0</th>\n",
              "      <td>밀양종합운동장</td>\n",
              "      <td>밀양시 밀양대로 2057-21</td>\n",
              "      <td>밀양시 교동 1111</td>\n",
              "    </tr>\n",
              "    <tr>\n",
              "      <th>1</th>\n",
              "      <td>삼문공설운동장</td>\n",
              "      <td>NaN</td>\n",
              "      <td>밀양시 삼문동 15-48</td>\n",
              "    </tr>\n",
              "    <tr>\n",
              "      <th>2</th>\n",
              "      <td>밀양종합운동장 보조경기장</td>\n",
              "      <td>밀양시 시청로 26</td>\n",
              "      <td>밀양시 교동 1117</td>\n",
              "    </tr>\n",
              "    <tr>\n",
              "      <th>3</th>\n",
              "      <td>가곡야구장</td>\n",
              "      <td>NaN</td>\n",
              "      <td>밀양시 가곡동 266-6</td>\n",
              "    </tr>\n",
              "    <tr>\n",
              "      <th>4</th>\n",
              "      <td>정문야구장</td>\n",
              "      <td>밀양시 산외면 산외로 42-57</td>\n",
              "      <td>밀양시 산외면 남기리 835</td>\n",
              "    </tr>\n",
              "  </tbody>\n",
              "</table>\n",
              "</div>"
            ],
            "text/plain": [
              "             시설명           소재지도로명주소          소재지지번주소\n",
              "0        밀양종합운동장   밀양시 밀양대로 2057-21      밀양시 교동 1111\n",
              "1        삼문공설운동장                NaN    밀양시 삼문동 15-48\n",
              "2  밀양종합운동장 보조경기장         밀양시 시청로 26      밀양시 교동 1117\n",
              "3          가곡야구장                NaN    밀양시 가곡동 266-6\n",
              "4          정문야구장  밀양시 산외면 산외로 42-57  밀양시 산외면 남기리 835"
            ]
          },
          "execution_count": 20,
          "metadata": {},
          "output_type": "execute_result"
        }
      ],
      "source": [
        "sports_facility = sports_facility.iloc[:, 0:3]\n",
        "sports_facility.head()"
      ]
    },
    {
      "cell_type": "code",
      "execution_count": null,
      "id": "16d12878-344c-4083-b28e-087cdd6e96dc",
      "metadata": {
        "tags": [],
        "id": "16d12878-344c-4083-b28e-087cdd6e96dc",
        "outputId": "1e4e3e02-e7ee-47f8-df15-540240c25d1b"
      },
      "outputs": [
        {
          "data": {
            "text/html": [
              "<div>\n",
              "<style scoped>\n",
              "    .dataframe tbody tr th:only-of-type {\n",
              "        vertical-align: middle;\n",
              "    }\n",
              "\n",
              "    .dataframe tbody tr th {\n",
              "        vertical-align: top;\n",
              "    }\n",
              "\n",
              "    .dataframe thead th {\n",
              "        text-align: right;\n",
              "    }\n",
              "</style>\n",
              "<table border=\"1\" class=\"dataframe\">\n",
              "  <thead>\n",
              "    <tr style=\"text-align: right;\">\n",
              "      <th></th>\n",
              "      <th>관리번호</th>\n",
              "      <th>공원명</th>\n",
              "      <th>공원구분</th>\n",
              "      <th>소재지도로명주소</th>\n",
              "      <th>소재지지번주소</th>\n",
              "      <th>위도</th>\n",
              "      <th>경도</th>\n",
              "      <th>공원면적</th>\n",
              "      <th>공원보유시설(운동시설)</th>\n",
              "      <th>공원보유시설(유희시설)</th>\n",
              "      <th>공원보유시설(편익시설)</th>\n",
              "      <th>공원보유시설(교양시설)</th>\n",
              "      <th>공원보유시설(기타시설)</th>\n",
              "      <th>지정고시일</th>\n",
              "      <th>관리기관명</th>\n",
              "      <th>전화번호</th>\n",
              "      <th>데이터기준일자</th>\n",
              "    </tr>\n",
              "  </thead>\n",
              "  <tbody>\n",
              "    <tr>\n",
              "      <th>0</th>\n",
              "      <td>48270-00002</td>\n",
              "      <td>무봉공원</td>\n",
              "      <td>근린공원</td>\n",
              "      <td>NaN</td>\n",
              "      <td>경상남도 밀양시 내일동 35-10</td>\n",
              "      <td>35.492838</td>\n",
              "      <td>128.759414</td>\n",
              "      <td>92356.0</td>\n",
              "      <td>NaN</td>\n",
              "      <td>NaN</td>\n",
              "      <td>NaN</td>\n",
              "      <td>NaN</td>\n",
              "      <td>NaN</td>\n",
              "      <td>1974-09-24</td>\n",
              "      <td>경상남도 밀양시청</td>\n",
              "      <td>055-359-5363</td>\n",
              "      <td>2023-07-12</td>\n",
              "    </tr>\n",
              "    <tr>\n",
              "      <th>1</th>\n",
              "      <td>48270-00003</td>\n",
              "      <td>유환공원</td>\n",
              "      <td>근린공원</td>\n",
              "      <td>NaN</td>\n",
              "      <td>경상남도 밀양시 삼문동 15-48</td>\n",
              "      <td>35.486289</td>\n",
              "      <td>128.757024</td>\n",
              "      <td>19850.0</td>\n",
              "      <td>NaN</td>\n",
              "      <td>NaN</td>\n",
              "      <td>NaN</td>\n",
              "      <td>NaN</td>\n",
              "      <td>NaN</td>\n",
              "      <td>1974-09-24</td>\n",
              "      <td>경상남도 밀양시청</td>\n",
              "      <td>055-359-5363</td>\n",
              "      <td>2023-07-12</td>\n",
              "    </tr>\n",
              "    <tr>\n",
              "      <th>2</th>\n",
              "      <td>48270-00004</td>\n",
              "      <td>내이동 제1공원</td>\n",
              "      <td>어린이공원</td>\n",
              "      <td>NaN</td>\n",
              "      <td>경상남도 밀양시 내이동 1179-5</td>\n",
              "      <td>35.499775</td>\n",
              "      <td>128.743541</td>\n",
              "      <td>1642.3</td>\n",
              "      <td>NaN</td>\n",
              "      <td>NaN</td>\n",
              "      <td>NaN</td>\n",
              "      <td>NaN</td>\n",
              "      <td>NaN</td>\n",
              "      <td>1985-02-07</td>\n",
              "      <td>경상남도 밀양시청</td>\n",
              "      <td>055-359-5363</td>\n",
              "      <td>2023-07-12</td>\n",
              "    </tr>\n",
              "    <tr>\n",
              "      <th>3</th>\n",
              "      <td>48270-00005</td>\n",
              "      <td>내이동 제2공원</td>\n",
              "      <td>어린이공원</td>\n",
              "      <td>NaN</td>\n",
              "      <td>경상남도 밀양시 내이동 1202-4</td>\n",
              "      <td>35.497180</td>\n",
              "      <td>128.744495</td>\n",
              "      <td>1639.7</td>\n",
              "      <td>NaN</td>\n",
              "      <td>NaN</td>\n",
              "      <td>NaN</td>\n",
              "      <td>NaN</td>\n",
              "      <td>NaN</td>\n",
              "      <td>1985-02-07</td>\n",
              "      <td>경상남도 밀양시청</td>\n",
              "      <td>055-359-5363</td>\n",
              "      <td>2023-07-12</td>\n",
              "    </tr>\n",
              "    <tr>\n",
              "      <th>4</th>\n",
              "      <td>48270-00006</td>\n",
              "      <td>수산공원</td>\n",
              "      <td>어린이공원</td>\n",
              "      <td>NaN</td>\n",
              "      <td>경상남도 밀양시 하남읍 수산리 489-38</td>\n",
              "      <td>35.376782</td>\n",
              "      <td>128.711554</td>\n",
              "      <td>1557.9</td>\n",
              "      <td>NaN</td>\n",
              "      <td>NaN</td>\n",
              "      <td>NaN</td>\n",
              "      <td>NaN</td>\n",
              "      <td>NaN</td>\n",
              "      <td>1990-12-07</td>\n",
              "      <td>경상남도 밀양시청</td>\n",
              "      <td>055-359-5363</td>\n",
              "      <td>2023-07-12</td>\n",
              "    </tr>\n",
              "  </tbody>\n",
              "</table>\n",
              "</div>"
            ],
            "text/plain": [
              "          관리번호       공원명   공원구분  소재지도로명주소                  소재지지번주소         위도  \\\n",
              "0  48270-00002      무봉공원   근린공원       NaN       경상남도 밀양시 내일동 35-10  35.492838   \n",
              "1  48270-00003      유환공원   근린공원       NaN       경상남도 밀양시 삼문동 15-48  35.486289   \n",
              "2  48270-00004  내이동 제1공원  어린이공원       NaN      경상남도 밀양시 내이동 1179-5  35.499775   \n",
              "3  48270-00005  내이동 제2공원  어린이공원       NaN      경상남도 밀양시 내이동 1202-4  35.497180   \n",
              "4  48270-00006      수산공원  어린이공원       NaN  경상남도 밀양시 하남읍 수산리 489-38  35.376782   \n",
              "\n",
              "           경도     공원면적  공원보유시설(운동시설) 공원보유시설(유희시설) 공원보유시설(편익시설)  공원보유시설(교양시설)  \\\n",
              "0  128.759414  92356.0           NaN          NaN          NaN           NaN   \n",
              "1  128.757024  19850.0           NaN          NaN          NaN           NaN   \n",
              "2  128.743541   1642.3           NaN          NaN          NaN           NaN   \n",
              "3  128.744495   1639.7           NaN          NaN          NaN           NaN   \n",
              "4  128.711554   1557.9           NaN          NaN          NaN           NaN   \n",
              "\n",
              "   공원보유시설(기타시설)       지정고시일      관리기관명          전화번호     데이터기준일자  \n",
              "0           NaN  1974-09-24  경상남도 밀양시청  055-359-5363  2023-07-12  \n",
              "1           NaN  1974-09-24  경상남도 밀양시청  055-359-5363  2023-07-12  \n",
              "2           NaN  1985-02-07  경상남도 밀양시청  055-359-5363  2023-07-12  \n",
              "3           NaN  1985-02-07  경상남도 밀양시청  055-359-5363  2023-07-12  \n",
              "4           NaN  1990-12-07  경상남도 밀양시청  055-359-5363  2023-07-12  "
            ]
          },
          "execution_count": 21,
          "metadata": {},
          "output_type": "execute_result"
        }
      ],
      "source": [
        "park = pd.read_csv('경상남도_밀양시_도시공원정보_20230712.csv', encoding = 'cp949')\n",
        "park.head()"
      ]
    },
    {
      "cell_type": "code",
      "execution_count": null,
      "id": "20f3f87d-efdd-45e7-baa9-507ddd989149",
      "metadata": {
        "tags": [],
        "id": "20f3f87d-efdd-45e7-baa9-507ddd989149",
        "outputId": "3ab1cd8a-44f5-4af9-daef-5d91dce1b6c2"
      },
      "outputs": [
        {
          "data": {
            "text/html": [
              "<div>\n",
              "<style scoped>\n",
              "    .dataframe tbody tr th:only-of-type {\n",
              "        vertical-align: middle;\n",
              "    }\n",
              "\n",
              "    .dataframe tbody tr th {\n",
              "        vertical-align: top;\n",
              "    }\n",
              "\n",
              "    .dataframe thead th {\n",
              "        text-align: right;\n",
              "    }\n",
              "</style>\n",
              "<table border=\"1\" class=\"dataframe\">\n",
              "  <thead>\n",
              "    <tr style=\"text-align: right;\">\n",
              "      <th></th>\n",
              "      <th>공원명</th>\n",
              "      <th>소재지지번주소</th>\n",
              "      <th>위도</th>\n",
              "      <th>경도</th>\n",
              "    </tr>\n",
              "  </thead>\n",
              "  <tbody>\n",
              "    <tr>\n",
              "      <th>0</th>\n",
              "      <td>무봉공원</td>\n",
              "      <td>경상남도 밀양시 내일동 35-10</td>\n",
              "      <td>35.492838</td>\n",
              "      <td>128.759414</td>\n",
              "    </tr>\n",
              "    <tr>\n",
              "      <th>1</th>\n",
              "      <td>유환공원</td>\n",
              "      <td>경상남도 밀양시 삼문동 15-48</td>\n",
              "      <td>35.486289</td>\n",
              "      <td>128.757024</td>\n",
              "    </tr>\n",
              "    <tr>\n",
              "      <th>2</th>\n",
              "      <td>내이동 제1공원</td>\n",
              "      <td>경상남도 밀양시 내이동 1179-5</td>\n",
              "      <td>35.499775</td>\n",
              "      <td>128.743541</td>\n",
              "    </tr>\n",
              "    <tr>\n",
              "      <th>3</th>\n",
              "      <td>내이동 제2공원</td>\n",
              "      <td>경상남도 밀양시 내이동 1202-4</td>\n",
              "      <td>35.497180</td>\n",
              "      <td>128.744495</td>\n",
              "    </tr>\n",
              "    <tr>\n",
              "      <th>4</th>\n",
              "      <td>수산공원</td>\n",
              "      <td>경상남도 밀양시 하남읍 수산리 489-38</td>\n",
              "      <td>35.376782</td>\n",
              "      <td>128.711554</td>\n",
              "    </tr>\n",
              "  </tbody>\n",
              "</table>\n",
              "</div>"
            ],
            "text/plain": [
              "        공원명                  소재지지번주소         위도          경도\n",
              "0      무봉공원       경상남도 밀양시 내일동 35-10  35.492838  128.759414\n",
              "1      유환공원       경상남도 밀양시 삼문동 15-48  35.486289  128.757024\n",
              "2  내이동 제1공원      경상남도 밀양시 내이동 1179-5  35.499775  128.743541\n",
              "3  내이동 제2공원      경상남도 밀양시 내이동 1202-4  35.497180  128.744495\n",
              "4      수산공원  경상남도 밀양시 하남읍 수산리 489-38  35.376782  128.711554"
            ]
          },
          "execution_count": 22,
          "metadata": {},
          "output_type": "execute_result"
        }
      ],
      "source": [
        "park = park.iloc[:, [1,4,5,6]]\n",
        "park.head()"
      ]
    },
    {
      "cell_type": "code",
      "execution_count": null,
      "id": "71c82a33-39ee-4e7d-89bc-2d9f888002cf",
      "metadata": {
        "tags": [],
        "id": "71c82a33-39ee-4e7d-89bc-2d9f888002cf",
        "outputId": "ad0e1665-e560-4a95-d6e0-fa939e315487"
      },
      "outputs": [
        {
          "data": {
            "text/html": [
              "<div>\n",
              "<style scoped>\n",
              "    .dataframe tbody tr th:only-of-type {\n",
              "        vertical-align: middle;\n",
              "    }\n",
              "\n",
              "    .dataframe tbody tr th {\n",
              "        vertical-align: top;\n",
              "    }\n",
              "\n",
              "    .dataframe thead th {\n",
              "        text-align: right;\n",
              "    }\n",
              "</style>\n",
              "<table border=\"1\" class=\"dataframe\">\n",
              "  <thead>\n",
              "    <tr style=\"text-align: right;\">\n",
              "      <th></th>\n",
              "      <th>연번</th>\n",
              "      <th>관할</th>\n",
              "      <th>위 치</th>\n",
              "      <th>설치종류</th>\n",
              "      <th>설치연도</th>\n",
              "      <th>설치구분</th>\n",
              "    </tr>\n",
              "  </thead>\n",
              "  <tbody>\n",
              "    <tr>\n",
              "      <th>0</th>\n",
              "      <td>1</td>\n",
              "      <td>교동</td>\n",
              "      <td>남천강변로 55-3</td>\n",
              "      <td>가로변소화기</td>\n",
              "      <td>미상</td>\n",
              "      <td>상업지역</td>\n",
              "    </tr>\n",
              "    <tr>\n",
              "      <th>1</th>\n",
              "      <td>2</td>\n",
              "      <td>교동</td>\n",
              "      <td>삼문중앙3길 29-8 앞</td>\n",
              "      <td>가로변소화기</td>\n",
              "      <td>미상</td>\n",
              "      <td>상업지역</td>\n",
              "    </tr>\n",
              "    <tr>\n",
              "      <th>2</th>\n",
              "      <td>3</td>\n",
              "      <td>교동</td>\n",
              "      <td>중앙로 362</td>\n",
              "      <td>가로변소화기</td>\n",
              "      <td>미상</td>\n",
              "      <td>상업지역</td>\n",
              "    </tr>\n",
              "    <tr>\n",
              "      <th>3</th>\n",
              "      <td>4</td>\n",
              "      <td>교동</td>\n",
              "      <td>북성로 23-1</td>\n",
              "      <td>가로변소화기</td>\n",
              "      <td>미상</td>\n",
              "      <td>상업지역</td>\n",
              "    </tr>\n",
              "    <tr>\n",
              "      <th>4</th>\n",
              "      <td>5</td>\n",
              "      <td>교동</td>\n",
              "      <td>내일동 중앙로 346</td>\n",
              "      <td>가로변소화기</td>\n",
              "      <td>미상</td>\n",
              "      <td>상업지역</td>\n",
              "    </tr>\n",
              "  </tbody>\n",
              "</table>\n",
              "</div>"
            ],
            "text/plain": [
              "   연번  관할            위 치    설치종류 설치연도  설치구분\n",
              "0   1  교동     남천강변로 55-3  가로변소화기   미상  상업지역\n",
              "1   2  교동  삼문중앙3길 29-8 앞  가로변소화기   미상  상업지역\n",
              "2   3  교동        중앙로 362  가로변소화기   미상  상업지역\n",
              "3   4  교동       북성로 23-1  가로변소화기   미상  상업지역\n",
              "4   5  교동    내일동 중앙로 346  가로변소화기   미상  상업지역"
            ]
          },
          "execution_count": 23,
          "metadata": {},
          "output_type": "execute_result"
        }
      ],
      "source": [
        "fire_ex = pd.read_csv('경상남도_밀양소방서 가로변소화기 설치 현황_20220630.csv', encoding = 'cp949')\n",
        "fire_ex.head()"
      ]
    },
    {
      "cell_type": "code",
      "execution_count": null,
      "id": "d2162c34-99c4-4ed9-a729-b2082441ec5a",
      "metadata": {
        "tags": [],
        "id": "d2162c34-99c4-4ed9-a729-b2082441ec5a",
        "outputId": "2df16b5f-1808-4d6a-f981-deb5a5890bf2"
      },
      "outputs": [
        {
          "data": {
            "text/html": [
              "<div>\n",
              "<style scoped>\n",
              "    .dataframe tbody tr th:only-of-type {\n",
              "        vertical-align: middle;\n",
              "    }\n",
              "\n",
              "    .dataframe tbody tr th {\n",
              "        vertical-align: top;\n",
              "    }\n",
              "\n",
              "    .dataframe thead th {\n",
              "        text-align: right;\n",
              "    }\n",
              "</style>\n",
              "<table border=\"1\" class=\"dataframe\">\n",
              "  <thead>\n",
              "    <tr style=\"text-align: right;\">\n",
              "      <th></th>\n",
              "      <th>관할</th>\n",
              "      <th>위 치</th>\n",
              "    </tr>\n",
              "  </thead>\n",
              "  <tbody>\n",
              "    <tr>\n",
              "      <th>0</th>\n",
              "      <td>교동</td>\n",
              "      <td>남천강변로 55-3</td>\n",
              "    </tr>\n",
              "    <tr>\n",
              "      <th>1</th>\n",
              "      <td>교동</td>\n",
              "      <td>삼문중앙3길 29-8 앞</td>\n",
              "    </tr>\n",
              "    <tr>\n",
              "      <th>2</th>\n",
              "      <td>교동</td>\n",
              "      <td>중앙로 362</td>\n",
              "    </tr>\n",
              "    <tr>\n",
              "      <th>3</th>\n",
              "      <td>교동</td>\n",
              "      <td>북성로 23-1</td>\n",
              "    </tr>\n",
              "    <tr>\n",
              "      <th>4</th>\n",
              "      <td>교동</td>\n",
              "      <td>내일동 중앙로 346</td>\n",
              "    </tr>\n",
              "  </tbody>\n",
              "</table>\n",
              "</div>"
            ],
            "text/plain": [
              "   관할            위 치\n",
              "0  교동     남천강변로 55-3\n",
              "1  교동  삼문중앙3길 29-8 앞\n",
              "2  교동        중앙로 362\n",
              "3  교동       북성로 23-1\n",
              "4  교동    내일동 중앙로 346"
            ]
          },
          "execution_count": 24,
          "metadata": {},
          "output_type": "execute_result"
        }
      ],
      "source": [
        "fire_ex = fire_ex.iloc[:,1:3]\n",
        "fire_ex.head()"
      ]
    },
    {
      "cell_type": "code",
      "execution_count": null,
      "id": "f0ee8e2f-0534-42ea-8260-04e0a14df515",
      "metadata": {
        "tags": [],
        "id": "f0ee8e2f-0534-42ea-8260-04e0a14df515"
      },
      "outputs": [],
      "source": [
        "import requests\n",
        "\n",
        "# Kakao Maps API 애플리케이션 키\n",
        "api_key = \"4453f3f08fff99d136036fd50dd34909\""
      ]
    },
    {
      "cell_type": "code",
      "execution_count": null,
      "id": "be7482b7-2106-4c6e-8517-8223f95559de",
      "metadata": {
        "tags": [],
        "id": "be7482b7-2106-4c6e-8517-8223f95559de"
      },
      "outputs": [],
      "source": [
        "place1['위도'] = None\n",
        "place1['경도'] = None\n",
        "\n",
        "for i in range(len(place1)):\n",
        "    address = place1['경로당 주소'][i]\n",
        "\n",
        "    # Kakao Maps Geocoding API 요청 URL\n",
        "    url = f\"https://dapi.kakao.com/v2/local/search/address.json?query={address}\"\n",
        "\n",
        "    # API 요청 헤더 설정\n",
        "    headers = {\"Authorization\": f\"KakaoAK {api_key}\"}\n",
        "\n",
        "    # API 요청 및 응답 데이터 가져오기\n",
        "    response = requests.get(url, headers=headers)\n",
        "    data = response.json()\n",
        "\n",
        "    # 결과 확인 및 좌표 추출\n",
        "    if data.get('documents'):\n",
        "        coordinate = data['documents'][0]['address']\n",
        "        latitude = coordinate['y']\n",
        "        longitude = coordinate['x']\n",
        "        place1['위도'][i] = latitude\n",
        "        place1['경도'][i] = longitude"
      ]
    },
    {
      "cell_type": "code",
      "execution_count": null,
      "id": "6fa05ed9-5230-44df-9fee-25118b742cd9",
      "metadata": {
        "tags": [],
        "id": "6fa05ed9-5230-44df-9fee-25118b742cd9",
        "outputId": "58bb9012-e96d-4b16-93cb-4a1a9fbf1761"
      },
      "outputs": [
        {
          "data": {
            "text/html": [
              "<div>\n",
              "<style scoped>\n",
              "    .dataframe tbody tr th:only-of-type {\n",
              "        vertical-align: middle;\n",
              "    }\n",
              "\n",
              "    .dataframe tbody tr th {\n",
              "        vertical-align: top;\n",
              "    }\n",
              "\n",
              "    .dataframe thead th {\n",
              "        text-align: right;\n",
              "    }\n",
              "</style>\n",
              "<table border=\"1\" class=\"dataframe\">\n",
              "  <thead>\n",
              "    <tr style=\"text-align: right;\">\n",
              "      <th></th>\n",
              "      <th>읍면동</th>\n",
              "      <th>경로당명</th>\n",
              "      <th>경로당 주소</th>\n",
              "      <th>위도</th>\n",
              "      <th>경도</th>\n",
              "    </tr>\n",
              "  </thead>\n",
              "  <tbody>\n",
              "    <tr>\n",
              "      <th>0</th>\n",
              "      <td>삼랑진읍</td>\n",
              "      <td>임천분회경로당</td>\n",
              "      <td>밀양시 삼랑진읍 임천3길 10</td>\n",
              "      <td>35.451987562436</td>\n",
              "      <td>128.797022405584</td>\n",
              "    </tr>\n",
              "    <tr>\n",
              "      <th>1</th>\n",
              "      <td>삼랑진읍</td>\n",
              "      <td>금곡경로당</td>\n",
              "      <td>밀양시 삼랑진읍 임천5길 33</td>\n",
              "      <td>35.4538562147539</td>\n",
              "      <td>128.791671434325</td>\n",
              "    </tr>\n",
              "    <tr>\n",
              "      <th>2</th>\n",
              "      <td>삼랑진읍</td>\n",
              "      <td>숭진경로당</td>\n",
              "      <td>밀양시 삼랑진읍 숭진석탑길 86</td>\n",
              "      <td>35.4575344140353</td>\n",
              "      <td>128.806680883629</td>\n",
              "    </tr>\n",
              "    <tr>\n",
              "      <th>3</th>\n",
              "      <td>삼랑진읍</td>\n",
              "      <td>금호경로당</td>\n",
              "      <td>밀양시 삼랑진읍 숭진길 56</td>\n",
              "      <td>35.4559036478478</td>\n",
              "      <td>128.803766024339</td>\n",
              "    </tr>\n",
              "    <tr>\n",
              "      <th>4</th>\n",
              "      <td>삼랑진읍</td>\n",
              "      <td>청학경로당</td>\n",
              "      <td>밀양시 삼랑진읍 청학1길 77</td>\n",
              "      <td>35.4481912932693</td>\n",
              "      <td>128.812990188562</td>\n",
              "    </tr>\n",
              "  </tbody>\n",
              "</table>\n",
              "</div>"
            ],
            "text/plain": [
              "    읍면동     경로당명             경로당 주소                위도                경도\n",
              "0  삼랑진읍  임천분회경로당   밀양시 삼랑진읍 임천3길 10   35.451987562436  128.797022405584\n",
              "1  삼랑진읍    금곡경로당   밀양시 삼랑진읍 임천5길 33  35.4538562147539  128.791671434325\n",
              "2  삼랑진읍    숭진경로당  밀양시 삼랑진읍 숭진석탑길 86  35.4575344140353  128.806680883629\n",
              "3  삼랑진읍    금호경로당    밀양시 삼랑진읍 숭진길 56  35.4559036478478  128.803766024339\n",
              "4  삼랑진읍    청학경로당   밀양시 삼랑진읍 청학1길 77  35.4481912932693  128.812990188562"
            ]
          },
          "execution_count": 31,
          "metadata": {},
          "output_type": "execute_result"
        }
      ],
      "source": [
        "place1.head()"
      ]
    },
    {
      "cell_type": "code",
      "execution_count": null,
      "id": "1c085e76-2b0a-4c42-8c7c-2583c6b03661",
      "metadata": {
        "tags": [],
        "id": "1c085e76-2b0a-4c42-8c7c-2583c6b03661",
        "outputId": "d59f0025-2b92-4dad-9c25-99339f988965"
      },
      "outputs": [
        {
          "name": "stdout",
          "output_type": "stream",
          "text": [
            "<class 'pandas.core.frame.DataFrame'>\n",
            "RangeIndex: 440 entries, 0 to 439\n",
            "Data columns (total 5 columns):\n",
            " #   Column  Non-Null Count  Dtype \n",
            "---  ------  --------------  ----- \n",
            " 0   읍면동     440 non-null    object\n",
            " 1   경로당명    440 non-null    object\n",
            " 2   경로당 주소  440 non-null    object\n",
            " 3   위도      438 non-null    object\n",
            " 4   경도      438 non-null    object\n",
            "dtypes: object(5)\n",
            "memory usage: 17.3+ KB\n"
          ]
        }
      ],
      "source": [
        "place1.info()"
      ]
    },
    {
      "cell_type": "code",
      "execution_count": null,
      "id": "3092341a-492f-437e-8fc8-fb29dfb6c949",
      "metadata": {
        "tags": [],
        "id": "3092341a-492f-437e-8fc8-fb29dfb6c949",
        "outputId": "d14b8978-51d9-4964-e4a5-3be6bf42ae56"
      },
      "outputs": [
        {
          "name": "stdout",
          "output_type": "stream",
          "text": [
            "215\n",
            "밀양시 단장면 바드래길 412\n",
            "314\n",
            "밀양시 무안면 가복4길 2-3\n"
          ]
        }
      ],
      "source": [
        "for i in range(len(place1)):\n",
        "    if place1['위도'][i] == None:\n",
        "        print(i)\n",
        "        print(place1['경로당 주소'][i])"
      ]
    },
    {
      "cell_type": "code",
      "execution_count": null,
      "id": "26286bed-8d09-4971-90f1-4cb439791a7d",
      "metadata": {
        "tags": [],
        "id": "26286bed-8d09-4971-90f1-4cb439791a7d"
      },
      "outputs": [],
      "source": [
        "place1['경로당 주소'][215] = '밀양시 단장면 바드리길 412'\n",
        "place1['경로당 주소'][314] = '밀양시 무안면 가복4길 4'"
      ]
    },
    {
      "cell_type": "code",
      "execution_count": null,
      "id": "1ca74afd-d135-4164-a313-83d6c8ad4eb0",
      "metadata": {
        "tags": [],
        "id": "1ca74afd-d135-4164-a313-83d6c8ad4eb0"
      },
      "outputs": [],
      "source": [
        "for i in range(len(place1)):\n",
        "    address = place1['경로당 주소'][i]\n",
        "\n",
        "    # Kakao Maps Geocoding API 요청 URL\n",
        "    url = f\"https://dapi.kakao.com/v2/local/search/address.json?query={address}\"\n",
        "\n",
        "    # API 요청 헤더 설정\n",
        "    headers = {\"Authorization\": f\"KakaoAK {api_key}\"}\n",
        "\n",
        "    # API 요청 및 응답 데이터 가져오기\n",
        "    response = requests.get(url, headers=headers)\n",
        "    data = response.json()\n",
        "\n",
        "    # 결과 확인 및 좌표 추출\n",
        "    if data.get('documents'):\n",
        "        coordinate = data['documents'][0]['address']\n",
        "        latitude = coordinate['y']\n",
        "        longitude = coordinate['x']\n",
        "        place1['위도'][i] = latitude\n",
        "        place1['경도'][i] = longitude"
      ]
    },
    {
      "cell_type": "code",
      "execution_count": null,
      "id": "f43e4c2e-719f-47d8-9892-ad7b8d4f27c0",
      "metadata": {
        "tags": [],
        "id": "f43e4c2e-719f-47d8-9892-ad7b8d4f27c0",
        "outputId": "92e6d9a5-0b90-4f31-c8ce-e3393d90844f"
      },
      "outputs": [
        {
          "name": "stdout",
          "output_type": "stream",
          "text": [
            "<class 'pandas.core.frame.DataFrame'>\n",
            "RangeIndex: 440 entries, 0 to 439\n",
            "Data columns (total 5 columns):\n",
            " #   Column  Non-Null Count  Dtype \n",
            "---  ------  --------------  ----- \n",
            " 0   읍면동     440 non-null    object\n",
            " 1   경로당명    440 non-null    object\n",
            " 2   경로당 주소  440 non-null    object\n",
            " 3   위도      440 non-null    object\n",
            " 4   경도      440 non-null    object\n",
            "dtypes: object(5)\n",
            "memory usage: 17.3+ KB\n"
          ]
        }
      ],
      "source": [
        "place1.info()"
      ]
    },
    {
      "cell_type": "code",
      "execution_count": null,
      "id": "0757ad84-0a32-4dca-900e-b29f52c49e3b",
      "metadata": {
        "tags": [],
        "id": "0757ad84-0a32-4dca-900e-b29f52c49e3b"
      },
      "outputs": [],
      "source": [
        "import requests\n",
        "\n",
        "# Kakao Maps API 애플리케이션 키\n",
        "api_key = \"4453f3f08fff99d136036fd50dd34909\""
      ]
    },
    {
      "cell_type": "code",
      "execution_count": null,
      "id": "e3f357ce-69f7-4117-bede-1ba2013ee06e",
      "metadata": {
        "tags": [],
        "id": "e3f357ce-69f7-4117-bede-1ba2013ee06e",
        "outputId": "1f98d4fa-21e7-4888-96af-f3ed81e947c0"
      },
      "outputs": [
        {
          "name": "stderr",
          "output_type": "stream",
          "text": [
            "C:\\Users\\JaeIn\\AppData\\Local\\Temp\\ipykernel_4016\\1757123953.py:23: SettingWithCopyWarning: \n",
            "A value is trying to be set on a copy of a slice from a DataFrame\n",
            "\n",
            "See the caveats in the documentation: https://pandas.pydata.org/pandas-docs/stable/user_guide/indexing.html#returning-a-view-versus-a-copy\n",
            "  place2['위도'][i] = latitude\n",
            "C:\\Users\\JaeIn\\AppData\\Local\\Temp\\ipykernel_4016\\1757123953.py:24: SettingWithCopyWarning: \n",
            "A value is trying to be set on a copy of a slice from a DataFrame\n",
            "\n",
            "See the caveats in the documentation: https://pandas.pydata.org/pandas-docs/stable/user_guide/indexing.html#returning-a-view-versus-a-copy\n",
            "  place2['경도'][i] = longitude\n"
          ]
        },
        {
          "name": "stdout",
          "output_type": "stream",
          "text": [
            "<class 'pandas.core.frame.DataFrame'>\n",
            "RangeIndex: 41 entries, 0 to 40\n",
            "Data columns (total 5 columns):\n",
            " #   Column  Non-Null Count  Dtype \n",
            "---  ------  --------------  ----- \n",
            " 0   시설명     41 non-null     object\n",
            " 1   주소      41 non-null     object\n",
            " 2   입소정원    41 non-null     int64 \n",
            " 3   위도      41 non-null     object\n",
            " 4   경도      41 non-null     object\n",
            "dtypes: int64(1), object(4)\n",
            "memory usage: 1.7+ KB\n"
          ]
        }
      ],
      "source": [
        "place2['위도'] = None\n",
        "place2['경도'] = None\n",
        "\n",
        "\n",
        "for i in range(len(place2)):\n",
        "    address = place2['주소'][i]\n",
        "\n",
        "    # Kakao Maps Geocoding API 요청 URL\n",
        "    url = f\"https://dapi.kakao.com/v2/local/search/address.json?query={address}\"\n",
        "\n",
        "    # API 요청 헤더 설정\n",
        "    headers = {\"Authorization\": f\"KakaoAK {api_key}\"}\n",
        "\n",
        "    # API 요청 및 응답 데이터 가져오기\n",
        "    response = requests.get(url, headers=headers)\n",
        "    data = response.json()\n",
        "\n",
        "    # 결과 확인 및 좌표 추출\n",
        "    if data.get('documents'):\n",
        "        coordinate = data['documents'][0]['address']\n",
        "        latitude = coordinate['y']\n",
        "        longitude = coordinate['x']\n",
        "        place2['위도'][i] = latitude\n",
        "        place2['경도'][i] = longitude\n",
        "\n",
        "place2.info()"
      ]
    },
    {
      "cell_type": "code",
      "execution_count": null,
      "id": "2ffc1afd-4938-446e-9ea5-c5a58b6265f9",
      "metadata": {
        "tags": [],
        "id": "2ffc1afd-4938-446e-9ea5-c5a58b6265f9",
        "outputId": "2a1fe869-4dc6-458f-ae77-8283341db851"
      },
      "outputs": [
        {
          "name": "stdout",
          "output_type": "stream",
          "text": [
            "<class 'pandas.core.frame.DataFrame'>\n",
            "Int64Index: 125 entries, 0 to 124\n",
            "Data columns (total 4 columns):\n",
            " #   Column  Non-Null Count  Dtype \n",
            "---  ------  --------------  ----- \n",
            " 0   이름      125 non-null    object\n",
            " 1   주소      125 non-null    object\n",
            " 2   위도      0 non-null      object\n",
            " 3   경도      0 non-null      object\n",
            "dtypes: object(4)\n",
            "memory usage: 9.0+ KB\n"
          ]
        }
      ],
      "source": [
        "hos['위도'] = None\n",
        "hos['경도'] = None\n",
        "\n",
        "\n",
        "for i in range(len(hos)):\n",
        "    address = hos['주소'][i]\n",
        "\n",
        "    # Kakao Maps Geocoding API 요청 URL\n",
        "    url = f\"https://dapi.kakao.com/v2/local/search/address.json?query={address}\"\n",
        "\n",
        "    # API 요청 헤더 설정\n",
        "    headers = {\"Authorization\": f\"KakaoAK {api_key}\"}\n",
        "\n",
        "    # API 요청 및 응답 데이터 가져오기\n",
        "    response = requests.get(url, headers=headers)\n",
        "    data = response.json()\n",
        "\n",
        "    # 결과 확인 및 좌표 추출\n",
        "    if data.get('documents'):\n",
        "        coordinate = data['documents'][0]['address']\n",
        "        latitude = coordinate['y']\n",
        "        longitude = coordinate['x']\n",
        "        hos['위도'][i] = latitude\n",
        "        hos['경도'][i] = longitude\n",
        "\n",
        "hos.info()"
      ]
    },
    {
      "cell_type": "code",
      "execution_count": null,
      "id": "7491e946-1fe8-401c-ae65-589dd44a3151",
      "metadata": {
        "tags": [],
        "id": "7491e946-1fe8-401c-ae65-589dd44a3151",
        "outputId": "bcb22c21-6d85-46dd-9598-fb42a9c90f82"
      },
      "outputs": [
        {
          "name": "stdout",
          "output_type": "stream",
          "text": [
            "21\n",
            "밀양시 부북면 용지리 26\n"
          ]
        }
      ],
      "source": [
        "for i in range(len(hos)):\n",
        "    if hos['위도'][i] == None:\n",
        "        print(i)\n",
        "        print(hos['주소'][i])"
      ]
    },
    {
      "cell_type": "code",
      "execution_count": null,
      "id": "cfd36522-9009-494f-8c9a-f8d699266a13",
      "metadata": {
        "tags": [],
        "id": "cfd36522-9009-494f-8c9a-f8d699266a13"
      },
      "outputs": [],
      "source": [
        "ad = ['밀양시 미리벌중앙로 67', '밀양시 부북면 용지리', '밀양시 삼문동 161-6', '밀양시 중앙로 381', '밀양시 내이2길 28',\n",
        "     '밀양시 북성로 10', '밀양시 삼랑진읍 송지리 416-1', '밀양시 백민로 56']\n",
        "idx = [2,21,30,35,57,65,75,96]\n",
        "\n",
        "for i in range(len(ad)):\n",
        "    hospital['주소'][idx[i]] = ad[i]"
      ]
    },
    {
      "cell_type": "code",
      "execution_count": null,
      "id": "307a4734-feab-4cea-8c4b-143dc1067a23",
      "metadata": {
        "id": "307a4734-feab-4cea-8c4b-143dc1067a23",
        "outputId": "31c07c07-b3e0-48c8-a13c-6022ca48d866"
      },
      "outputs": [
        {
          "name": "stdout",
          "output_type": "stream",
          "text": [
            "<class 'pandas.core.frame.DataFrame'>\n",
            "RangeIndex: 110 entries, 0 to 109\n",
            "Data columns (total 4 columns):\n",
            " #   Column  Non-Null Count  Dtype \n",
            "---  ------  --------------  ----- \n",
            " 0   병원명     110 non-null    object\n",
            " 1   주소      110 non-null    object\n",
            " 2   위도      110 non-null    object\n",
            " 3   경도      110 non-null    object\n",
            "dtypes: object(4)\n",
            "memory usage: 3.6+ KB\n"
          ]
        }
      ],
      "source": [
        "for i in range(len(hospital)):\n",
        "    address = hospital['주소'][i]\n",
        "\n",
        "    # Kakao Maps Geocoding API 요청 URL\n",
        "    url = f\"https://dapi.kakao.com/v2/local/search/address.json?query={address}\"\n",
        "\n",
        "    # API 요청 헤더 설정\n",
        "    headers = {\"Authorization\": f\"KakaoAK {api_key}\"}\n",
        "\n",
        "    # API 요청 및 응답 데이터 가져오기\n",
        "    response = requests.get(url, headers=headers)\n",
        "    data = response.json()\n",
        "\n",
        "    # 결과 확인 및 좌표 추출\n",
        "    if data.get('documents'):\n",
        "        coordinate = data['documents'][0]['address']\n",
        "        latitude = coordinate['y']\n",
        "        longitude = coordinate['x']\n",
        "        hospital['위도'][i] = latitude\n",
        "        hospital['경도'][i] = longitude\n",
        "\n",
        "hospital.info()"
      ]
    },
    {
      "cell_type": "code",
      "execution_count": null,
      "id": "21c1d07a-dd1d-462c-a66a-d884244553ea",
      "metadata": {
        "tags": [],
        "id": "21c1d07a-dd1d-462c-a66a-d884244553ea",
        "outputId": "7a52e159-c439-4f28-9bfd-17137172046b"
      },
      "outputs": [
        {
          "name": "stdout",
          "output_type": "stream",
          "text": [
            "<class 'pandas.core.frame.DataFrame'>\n",
            "RangeIndex: 47 entries, 0 to 46\n",
            "Data columns (total 4 columns):\n",
            " #   Column  Non-Null Count  Dtype \n",
            "---  ------  --------------  ----- \n",
            " 0   약국명     47 non-null     object\n",
            " 1   주소      47 non-null     object\n",
            " 2   위도      47 non-null     object\n",
            " 3   경도      47 non-null     object\n",
            "dtypes: object(4)\n",
            "memory usage: 1.6+ KB\n"
          ]
        }
      ],
      "source": [
        "pharm['위도'] = None\n",
        "pharm['경도'] = None\n",
        "\n",
        "\n",
        "for i in range(len(pharm)):\n",
        "    address = pharm['주소'][i]\n",
        "\n",
        "    # Kakao Maps Geocoding API 요청 URL\n",
        "    url = f\"https://dapi.kakao.com/v2/local/search/address.json?query={address}\"\n",
        "\n",
        "    # API 요청 헤더 설정\n",
        "    headers = {\"Authorization\": f\"KakaoAK {api_key}\"}\n",
        "\n",
        "    # API 요청 및 응답 데이터 가져오기\n",
        "    response = requests.get(url, headers=headers)\n",
        "    data = response.json()\n",
        "\n",
        "    # 결과 확인 및 좌표 추출\n",
        "    if data.get('documents'):\n",
        "        coordinate = data['documents'][0]['address']\n",
        "        latitude = coordinate['y']\n",
        "        longitude = coordinate['x']\n",
        "        pharm['위도'][i] = latitude\n",
        "        pharm['경도'][i] = longitude\n",
        "\n",
        "pharm.info()"
      ]
    },
    {
      "cell_type": "code",
      "execution_count": null,
      "id": "ced35a39-c957-4527-9961-c6f814f5e4bb",
      "metadata": {
        "tags": [],
        "id": "ced35a39-c957-4527-9961-c6f814f5e4bb",
        "outputId": "19c8cbca-e36b-4837-beeb-146ebb448520"
      },
      "outputs": [
        {
          "name": "stdout",
          "output_type": "stream",
          "text": [
            "<class 'pandas.core.frame.DataFrame'>\n",
            "RangeIndex: 48 entries, 0 to 47\n",
            "Data columns (total 4 columns):\n",
            " #   Column  Non-Null Count  Dtype \n",
            "---  ------  --------------  ----- \n",
            " 0   이름      48 non-null     object\n",
            " 1   주소      48 non-null     object\n",
            " 2   위도      44 non-null     object\n",
            " 3   경도      44 non-null     object\n",
            "dtypes: object(4)\n",
            "memory usage: 1.6+ KB\n"
          ]
        }
      ],
      "source": [
        "clinic['위도'] = None\n",
        "clinic['경도'] = None\n",
        "\n",
        "\n",
        "for i in range(len(clinic)):\n",
        "    address = clinic['주소'][i]\n",
        "\n",
        "    # Kakao Maps Geocoding API 요청 URL\n",
        "    url = f\"https://dapi.kakao.com/v2/local/search/address.json?query={address}\"\n",
        "\n",
        "    # API 요청 헤더 설정\n",
        "    headers = {\"Authorization\": f\"KakaoAK {api_key}\"}\n",
        "\n",
        "    # API 요청 및 응답 데이터 가져오기\n",
        "    response = requests.get(url, headers=headers)\n",
        "    data = response.json()\n",
        "\n",
        "    # 결과 확인 및 좌표 추출\n",
        "    if data.get('documents'):\n",
        "        coordinate = data['documents'][0]['address']\n",
        "        latitude = coordinate['y']\n",
        "        longitude = coordinate['x']\n",
        "        clinic['위도'][i] = latitude\n",
        "        clinic['경도'][i] = longitude\n",
        "\n",
        "pharm.info()"
      ]
    },
    {
      "cell_type": "code",
      "execution_count": null,
      "id": "061fe90b-6150-495a-ae4d-6647664fbe60",
      "metadata": {
        "tags": [],
        "id": "061fe90b-6150-495a-ae4d-6647664fbe60",
        "outputId": "918a3c27-1391-40d9-b59a-edd8f64b2e53"
      },
      "outputs": [
        {
          "name": "stdout",
          "output_type": "stream",
          "text": [
            "9\n",
            "밀양시 부북면 춘화로 124\n",
            "38\n",
            "삼문동 165번지 6호 (1층,3층)\n",
            "39\n",
            "밀양시 삼문동 165번지 6호(2층)\n",
            "47\n",
            "삼문동 171번지 14호 세종메디칼빌딩\n"
          ]
        }
      ],
      "source": [
        "for i in range(len(clinic)):\n",
        "    if clinic['위도'][i] == None:\n",
        "        print(i)\n",
        "        print(clinic['주소'][i])"
      ]
    },
    {
      "cell_type": "code",
      "execution_count": null,
      "id": "d93caff9-9415-4772-a0d7-8c02f3b13283",
      "metadata": {
        "tags": [],
        "id": "d93caff9-9415-4772-a0d7-8c02f3b13283",
        "outputId": "042b9257-436d-4317-9664-85c6b29f885f"
      },
      "outputs": [
        {
          "data": {
            "text/html": [
              "<div>\n",
              "<style scoped>\n",
              "    .dataframe tbody tr th:only-of-type {\n",
              "        vertical-align: middle;\n",
              "    }\n",
              "\n",
              "    .dataframe tbody tr th {\n",
              "        vertical-align: top;\n",
              "    }\n",
              "\n",
              "    .dataframe thead th {\n",
              "        text-align: right;\n",
              "    }\n",
              "</style>\n",
              "<table border=\"1\" class=\"dataframe\">\n",
              "  <thead>\n",
              "    <tr style=\"text-align: right;\">\n",
              "      <th></th>\n",
              "      <th>병원명</th>\n",
              "      <th>주소</th>\n",
              "      <th>위도</th>\n",
              "      <th>경도</th>\n",
              "    </tr>\n",
              "  </thead>\n",
              "  <tbody>\n",
              "    <tr>\n",
              "      <th>0</th>\n",
              "      <td>나노병원</td>\n",
              "      <td>밀양시 중앙로 229 (삼문동)</td>\n",
              "      <td>35.4840221149895</td>\n",
              "      <td>128.757819803457</td>\n",
              "    </tr>\n",
              "    <tr>\n",
              "      <th>1</th>\n",
              "      <td>의료법인지원의료재단 굿모닝병원</td>\n",
              "      <td>밀양시 용평로5길 4-20 (용평동)</td>\n",
              "      <td>35.4903012664108</td>\n",
              "      <td>128.767928883868</td>\n",
              "    </tr>\n",
              "    <tr>\n",
              "      <th>2</th>\n",
              "      <td>미르아이병원</td>\n",
              "      <td>밀양시 미리벌중앙로 67</td>\n",
              "      <td>35.4837443098754</td>\n",
              "      <td>128.748453961647</td>\n",
              "    </tr>\n",
              "    <tr>\n",
              "      <th>3</th>\n",
              "      <td>의료법인 생명사랑의료재단 밀양윤병원</td>\n",
              "      <td>밀양시 삼문중앙로 32 (삼문동)</td>\n",
              "      <td>35.4846366784066</td>\n",
              "      <td>128.755625294951</td>\n",
              "    </tr>\n",
              "    <tr>\n",
              "      <th>4</th>\n",
              "      <td>행복한병원</td>\n",
              "      <td>밀양시 하남읍 수산중앙로 56-2</td>\n",
              "      <td>35.3746457475769</td>\n",
              "      <td>128.711516096764</td>\n",
              "    </tr>\n",
              "  </tbody>\n",
              "</table>\n",
              "</div>"
            ],
            "text/plain": [
              "                   병원명                    주소                위도  \\\n",
              "0                 나노병원     밀양시 중앙로 229 (삼문동)  35.4840221149895   \n",
              "1     의료법인지원의료재단 굿모닝병원  밀양시 용평로5길 4-20 (용평동)  35.4903012664108   \n",
              "2               미르아이병원         밀양시 미리벌중앙로 67  35.4837443098754   \n",
              "3  의료법인 생명사랑의료재단 밀양윤병원    밀양시 삼문중앙로 32 (삼문동)  35.4846366784066   \n",
              "4                행복한병원    밀양시 하남읍 수산중앙로 56-2  35.3746457475769   \n",
              "\n",
              "                 경도  \n",
              "0  128.757819803457  \n",
              "1  128.767928883868  \n",
              "2  128.748453961647  \n",
              "3  128.755625294951  \n",
              "4  128.711516096764  "
            ]
          },
          "execution_count": 54,
          "metadata": {},
          "output_type": "execute_result"
        }
      ],
      "source": [
        "hospital.head()"
      ]
    },
    {
      "cell_type": "code",
      "execution_count": null,
      "id": "f0f18108-e9c2-4e53-9378-aa9ca005264e",
      "metadata": {
        "tags": [],
        "id": "f0f18108-e9c2-4e53-9378-aa9ca005264e",
        "outputId": "f5dc9cc9-a62a-464b-add1-75d69a0ce242"
      },
      "outputs": [
        {
          "data": {
            "text/html": [
              "<div>\n",
              "<style scoped>\n",
              "    .dataframe tbody tr th:only-of-type {\n",
              "        vertical-align: middle;\n",
              "    }\n",
              "\n",
              "    .dataframe tbody tr th {\n",
              "        vertical-align: top;\n",
              "    }\n",
              "\n",
              "    .dataframe thead th {\n",
              "        text-align: right;\n",
              "    }\n",
              "</style>\n",
              "<table border=\"1\" class=\"dataframe\">\n",
              "  <thead>\n",
              "    <tr style=\"text-align: right;\">\n",
              "      <th></th>\n",
              "      <th>이름</th>\n",
              "      <th>주소</th>\n",
              "      <th>위도</th>\n",
              "      <th>경도</th>\n",
              "    </tr>\n",
              "  </thead>\n",
              "  <tbody>\n",
              "    <tr>\n",
              "      <th>0</th>\n",
              "      <td>금송의원</td>\n",
              "      <td>밀양시 삼랑진읍 천태로 50</td>\n",
              "      <td>35.3994042611188</td>\n",
              "      <td>128.840523409959</td>\n",
              "    </tr>\n",
              "    <tr>\n",
              "      <th>1</th>\n",
              "      <td>송광호의원</td>\n",
              "      <td>밀양시 삼랑진읍 천태로 14-1</td>\n",
              "      <td>35.3969873896075</td>\n",
              "      <td>128.838270815263</td>\n",
              "    </tr>\n",
              "    <tr>\n",
              "      <th>2</th>\n",
              "      <td>오용창 내과의원</td>\n",
              "      <td>밀양시 삼랑진읍 천태로 14-1</td>\n",
              "      <td>35.3969873896075</td>\n",
              "      <td>128.838270815263</td>\n",
              "    </tr>\n",
              "    <tr>\n",
              "      <th>3</th>\n",
              "      <td>신통의원</td>\n",
              "      <td>삼랑진 천태로 75</td>\n",
              "      <td>35.4000592101797</td>\n",
              "      <td>128.842882418026</td>\n",
              "    </tr>\n",
              "    <tr>\n",
              "      <th>4</th>\n",
              "      <td>인성의원</td>\n",
              "      <td>밀양시 하남읍 수산중앙로 21</td>\n",
              "      <td>35.3749654566926</td>\n",
              "      <td>128.707710594656</td>\n",
              "    </tr>\n",
              "  </tbody>\n",
              "</table>\n",
              "</div>"
            ],
            "text/plain": [
              "         이름                 주소                위도                경도\n",
              "0      금송의원    밀양시 삼랑진읍 천태로 50  35.3994042611188  128.840523409959\n",
              "1     송광호의원  밀양시 삼랑진읍 천태로 14-1  35.3969873896075  128.838270815263\n",
              "2  오용창 내과의원  밀양시 삼랑진읍 천태로 14-1  35.3969873896075  128.838270815263\n",
              "3      신통의원         삼랑진 천태로 75  35.4000592101797  128.842882418026\n",
              "4      인성의원   밀양시 하남읍 수산중앙로 21  35.3749654566926  128.707710594656"
            ]
          },
          "execution_count": 55,
          "metadata": {},
          "output_type": "execute_result"
        }
      ],
      "source": [
        "clinic.head()"
      ]
    },
    {
      "cell_type": "code",
      "execution_count": null,
      "id": "9910fb54-b538-463a-af9d-b553314396c5",
      "metadata": {
        "tags": [],
        "id": "9910fb54-b538-463a-af9d-b553314396c5",
        "outputId": "d5b97a6c-63a8-465e-e2f4-ec4843a625d7"
      },
      "outputs": [
        {
          "data": {
            "text/html": [
              "<div>\n",
              "<style scoped>\n",
              "    .dataframe tbody tr th:only-of-type {\n",
              "        vertical-align: middle;\n",
              "    }\n",
              "\n",
              "    .dataframe tbody tr th {\n",
              "        vertical-align: top;\n",
              "    }\n",
              "\n",
              "    .dataframe thead th {\n",
              "        text-align: right;\n",
              "    }\n",
              "</style>\n",
              "<table border=\"1\" class=\"dataframe\">\n",
              "  <thead>\n",
              "    <tr style=\"text-align: right;\">\n",
              "      <th></th>\n",
              "      <th>주소</th>\n",
              "      <th>위도</th>\n",
              "      <th>경도</th>\n",
              "      <th>이름</th>\n",
              "    </tr>\n",
              "  </thead>\n",
              "  <tbody>\n",
              "    <tr>\n",
              "      <th>0</th>\n",
              "      <td>밀양시 중앙로 229 (삼문동)</td>\n",
              "      <td>35.4840221149895</td>\n",
              "      <td>128.757819803457</td>\n",
              "      <td>나노병원</td>\n",
              "    </tr>\n",
              "    <tr>\n",
              "      <th>1</th>\n",
              "      <td>밀양시 용평로5길 4-20 (용평동)</td>\n",
              "      <td>35.4903012664108</td>\n",
              "      <td>128.767928883868</td>\n",
              "      <td>의료법인지원의료재단 굿모닝병원</td>\n",
              "    </tr>\n",
              "    <tr>\n",
              "      <th>2</th>\n",
              "      <td>밀양시 미리벌중앙로 67</td>\n",
              "      <td>35.4837443098754</td>\n",
              "      <td>128.748453961647</td>\n",
              "      <td>미르아이병원</td>\n",
              "    </tr>\n",
              "    <tr>\n",
              "      <th>3</th>\n",
              "      <td>밀양시 삼문중앙로 32 (삼문동)</td>\n",
              "      <td>35.4846366784066</td>\n",
              "      <td>128.755625294951</td>\n",
              "      <td>의료법인 생명사랑의료재단 밀양윤병원</td>\n",
              "    </tr>\n",
              "    <tr>\n",
              "      <th>4</th>\n",
              "      <td>밀양시 하남읍 수산중앙로 56-2</td>\n",
              "      <td>35.3746457475769</td>\n",
              "      <td>128.711516096764</td>\n",
              "      <td>행복한병원</td>\n",
              "    </tr>\n",
              "  </tbody>\n",
              "</table>\n",
              "</div>"
            ],
            "text/plain": [
              "                     주소                위도                경도  \\\n",
              "0     밀양시 중앙로 229 (삼문동)  35.4840221149895  128.757819803457   \n",
              "1  밀양시 용평로5길 4-20 (용평동)  35.4903012664108  128.767928883868   \n",
              "2         밀양시 미리벌중앙로 67  35.4837443098754  128.748453961647   \n",
              "3    밀양시 삼문중앙로 32 (삼문동)  35.4846366784066  128.755625294951   \n",
              "4    밀양시 하남읍 수산중앙로 56-2  35.3746457475769  128.711516096764   \n",
              "\n",
              "                    이름  \n",
              "0                 나노병원  \n",
              "1     의료법인지원의료재단 굿모닝병원  \n",
              "2               미르아이병원  \n",
              "3  의료법인 생명사랑의료재단 밀양윤병원  \n",
              "4                행복한병원  "
            ]
          },
          "execution_count": 90,
          "metadata": {},
          "output_type": "execute_result"
        }
      ],
      "source": [
        "hospital.head()"
      ]
    },
    {
      "cell_type": "code",
      "execution_count": null,
      "id": "04b4c372-ce12-4b6a-825b-365a2636b0ef",
      "metadata": {
        "id": "04b4c372-ce12-4b6a-825b-365a2636b0ef"
      },
      "outputs": [],
      "source": []
    },
    {
      "cell_type": "code",
      "execution_count": null,
      "id": "c7ab9a66-aa3a-4cae-abb6-e4aa7a07e9a2",
      "metadata": {
        "id": "c7ab9a66-aa3a-4cae-abb6-e4aa7a07e9a2"
      },
      "outputs": [],
      "source": []
    },
    {
      "cell_type": "code",
      "execution_count": null,
      "id": "8715281b-516c-4863-abcc-3407eed51c50",
      "metadata": {
        "id": "8715281b-516c-4863-abcc-3407eed51c50"
      },
      "outputs": [],
      "source": []
    },
    {
      "cell_type": "code",
      "execution_count": null,
      "id": "efada895-5025-4be9-ab40-7fd206a7150a",
      "metadata": {
        "id": "efada895-5025-4be9-ab40-7fd206a7150a"
      },
      "outputs": [],
      "source": []
    },
    {
      "cell_type": "code",
      "execution_count": null,
      "id": "f0b4e2a5-2e4d-4fef-a872-16d8a770c874",
      "metadata": {
        "id": "f0b4e2a5-2e4d-4fef-a872-16d8a770c874"
      },
      "outputs": [],
      "source": []
    },
    {
      "cell_type": "code",
      "execution_count": null,
      "id": "59f635dd-fb43-49df-860c-41211d78865b",
      "metadata": {
        "id": "59f635dd-fb43-49df-860c-41211d78865b"
      },
      "outputs": [],
      "source": [
        "'밀양시 부북면 용지리 26', '밀양시 삼문동 165-1', '밀양시 삼문동 165-1', '밀양시 삼문중앙로 49'"
      ]
    }
  ],
  "metadata": {
    "kernelspec": {
      "display_name": "Python 3 (ipykernel)",
      "language": "python",
      "name": "python3"
    },
    "language_info": {
      "codemirror_mode": {
        "name": "ipython",
        "version": 3
      },
      "file_extension": ".py",
      "mimetype": "text/x-python",
      "name": "python",
      "nbconvert_exporter": "python",
      "pygments_lexer": "ipython3",
      "version": "3.11.3"
    },
    "colab": {
      "provenance": [],
      "include_colab_link": true
    }
  },
  "nbformat": 4,
  "nbformat_minor": 5
}