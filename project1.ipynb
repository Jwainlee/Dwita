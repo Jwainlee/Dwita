{
  "cells": [
    {
      "cell_type": "markdown",
      "metadata": {
        "id": "view-in-github",
        "colab_type": "text"
      },
      "source": [
        "<a href=\"https://colab.research.google.com/github/Jwainlee/Dwita/blob/main/project1.ipynb\" target=\"_parent\"><img src=\"https://colab.research.google.com/assets/colab-badge.svg\" alt=\"Open In Colab\"/></a>"
      ]
    },
    {
      "cell_type": "markdown",
      "id": "d8ae7a57-6abf-49e6-87da-f5cfeb4f2e2c",
      "metadata": {
        "id": "d8ae7a57-6abf-49e6-87da-f5cfeb4f2e2c"
      },
      "source": [
        "# Data 불러오기"
      ]
    },
    {
      "cell_type": "code",
      "execution_count": null,
      "id": "c8ca54ed-3e28-4cdc-9e63-f65c676df6a3",
      "metadata": {
        "tags": [],
        "id": "c8ca54ed-3e28-4cdc-9e63-f65c676df6a3"
      },
      "outputs": [],
      "source": [
        "import pandas as pd\n",
        "import matplotlib.pyplot as plt\n",
        "import numpy as np"
      ]
    },
    {
      "cell_type": "code",
      "execution_count": null,
      "id": "6ecf6976-9408-4900-b9a4-9e86e6cb003d",
      "metadata": {
        "tags": [],
        "id": "6ecf6976-9408-4900-b9a4-9e86e6cb003d"
      },
      "outputs": [],
      "source": [
        "time = pd.read_csv('time.csv')"
      ]
    },
    {
      "cell_type": "code",
      "execution_count": null,
      "id": "ba987fbf-f55e-4ab8-bc25-8945ad6baacb",
      "metadata": {
        "tags": [],
        "id": "ba987fbf-f55e-4ab8-bc25-8945ad6baacb",
        "outputId": "8bef3c0d-16b7-49a6-db88-b366c3213860"
      },
      "outputs": [
        {
          "data": {
            "text/html": [
              "<div>\n",
              "<style scoped>\n",
              "    .dataframe tbody tr th:only-of-type {\n",
              "        vertical-align: middle;\n",
              "    }\n",
              "\n",
              "    .dataframe tbody tr th {\n",
              "        vertical-align: top;\n",
              "    }\n",
              "\n",
              "    .dataframe thead th {\n",
              "        text-align: right;\n",
              "    }\n",
              "</style>\n",
              "<table border=\"1\" class=\"dataframe\">\n",
              "  <thead>\n",
              "    <tr style=\"text-align: right;\">\n",
              "      <th></th>\n",
              "      <th>시도명</th>\n",
              "      <th>시군구명</th>\n",
              "      <th>도로종류</th>\n",
              "      <th>도로노선명</th>\n",
              "      <th>소재지도로명주소</th>\n",
              "      <th>소재지지번주소</th>\n",
              "      <th>위도</th>\n",
              "      <th>경도</th>\n",
              "      <th>신호등화순서</th>\n",
              "      <th>신호등화시간</th>\n",
              "    </tr>\n",
              "  </thead>\n",
              "  <tbody>\n",
              "    <tr>\n",
              "      <th>0</th>\n",
              "      <td>경기도</td>\n",
              "      <td>의정부시</td>\n",
              "      <td>시도</td>\n",
              "      <td>문충로</td>\n",
              "      <td>NaN</td>\n",
              "      <td>경기도 의정부시 고산동 443-3</td>\n",
              "      <td>37.731043</td>\n",
              "      <td>127.107660</td>\n",
              "      <td>녹색+적색</td>\n",
              "      <td>26+124</td>\n",
              "    </tr>\n",
              "    <tr>\n",
              "      <th>1</th>\n",
              "      <td>경기도</td>\n",
              "      <td>의정부시</td>\n",
              "      <td>시도</td>\n",
              "      <td>오목로</td>\n",
              "      <td>NaN</td>\n",
              "      <td>경기도 의정부시 낙양동 711</td>\n",
              "      <td>37.748752</td>\n",
              "      <td>127.099990</td>\n",
              "      <td>녹색+적색</td>\n",
              "      <td>28+121</td>\n",
              "    </tr>\n",
              "    <tr>\n",
              "      <th>2</th>\n",
              "      <td>경기도</td>\n",
              "      <td>의정부시</td>\n",
              "      <td>시도</td>\n",
              "      <td>오목로</td>\n",
              "      <td>NaN</td>\n",
              "      <td>경기도 의정부시 낙양동 711</td>\n",
              "      <td>37.748752</td>\n",
              "      <td>127.099994</td>\n",
              "      <td>녹색+적색</td>\n",
              "      <td>25+124</td>\n",
              "    </tr>\n",
              "    <tr>\n",
              "      <th>3</th>\n",
              "      <td>경기도</td>\n",
              "      <td>의정부시</td>\n",
              "      <td>시도</td>\n",
              "      <td>문충로</td>\n",
              "      <td>NaN</td>\n",
              "      <td>경기도 의정부시 고산동 443-8</td>\n",
              "      <td>37.731095</td>\n",
              "      <td>127.107354</td>\n",
              "      <td>녹색+적색</td>\n",
              "      <td>26+124</td>\n",
              "    </tr>\n",
              "    <tr>\n",
              "      <th>4</th>\n",
              "      <td>경기도</td>\n",
              "      <td>의정부시</td>\n",
              "      <td>시도</td>\n",
              "      <td>오목로</td>\n",
              "      <td>NaN</td>\n",
              "      <td>경기도 의정부시 낙양동 711</td>\n",
              "      <td>37.748752</td>\n",
              "      <td>127.099994</td>\n",
              "      <td>녹색+적색</td>\n",
              "      <td>25+124</td>\n",
              "    </tr>\n",
              "    <tr>\n",
              "      <th>5</th>\n",
              "      <td>경기도</td>\n",
              "      <td>의정부시</td>\n",
              "      <td>시도</td>\n",
              "      <td>오목로</td>\n",
              "      <td>NaN</td>\n",
              "      <td>경기도 의정부시 낙양동 711</td>\n",
              "      <td>37.748752</td>\n",
              "      <td>127.099994</td>\n",
              "      <td>녹색+적색</td>\n",
              "      <td>28+121</td>\n",
              "    </tr>\n",
              "    <tr>\n",
              "      <th>6</th>\n",
              "      <td>경기도</td>\n",
              "      <td>의정부시</td>\n",
              "      <td>시도</td>\n",
              "      <td>민락로</td>\n",
              "      <td>NaN</td>\n",
              "      <td>경기도 의정부시 용현동 65-26</td>\n",
              "      <td>37.730285</td>\n",
              "      <td>127.086177</td>\n",
              "      <td>녹색+적색</td>\n",
              "      <td>34+164</td>\n",
              "    </tr>\n",
              "    <tr>\n",
              "      <th>7</th>\n",
              "      <td>경기도</td>\n",
              "      <td>의정부시</td>\n",
              "      <td>시도</td>\n",
              "      <td>호국로</td>\n",
              "      <td>NaN</td>\n",
              "      <td>경기도 의정부시 가능동 803</td>\n",
              "      <td>37.742864</td>\n",
              "      <td>127.027216</td>\n",
              "      <td>녹색+적색</td>\n",
              "      <td>19+78</td>\n",
              "    </tr>\n",
              "    <tr>\n",
              "      <th>8</th>\n",
              "      <td>경기도</td>\n",
              "      <td>의정부시</td>\n",
              "      <td>시도</td>\n",
              "      <td>호국로</td>\n",
              "      <td>NaN</td>\n",
              "      <td>경기도 의정부시 가능동 803</td>\n",
              "      <td>37.742871</td>\n",
              "      <td>127.027216</td>\n",
              "      <td>녹색+적색</td>\n",
              "      <td>19+78</td>\n",
              "    </tr>\n",
              "    <tr>\n",
              "      <th>9</th>\n",
              "      <td>경기도</td>\n",
              "      <td>의정부시</td>\n",
              "      <td>시도</td>\n",
              "      <td>호국로</td>\n",
              "      <td>NaN</td>\n",
              "      <td>경기도 의정부시 가능동 701-26</td>\n",
              "      <td>37.742824</td>\n",
              "      <td>127.028856</td>\n",
              "      <td>녹색+적색</td>\n",
              "      <td>20+80</td>\n",
              "    </tr>\n",
              "  </tbody>\n",
              "</table>\n",
              "</div>"
            ],
            "text/plain": [
              "   시도명  시군구명 도로종류 도로노선명 소재지도로명주소              소재지지번주소         위도          경도  \\\n",
              "0  경기도  의정부시   시도   문충로      NaN   경기도 의정부시 고산동 443-3  37.731043  127.107660   \n",
              "1  경기도  의정부시   시도   오목로      NaN     경기도 의정부시 낙양동 711  37.748752  127.099990   \n",
              "2  경기도  의정부시   시도   오목로      NaN     경기도 의정부시 낙양동 711  37.748752  127.099994   \n",
              "3  경기도  의정부시   시도   문충로      NaN   경기도 의정부시 고산동 443-8  37.731095  127.107354   \n",
              "4  경기도  의정부시   시도   오목로      NaN     경기도 의정부시 낙양동 711  37.748752  127.099994   \n",
              "5  경기도  의정부시   시도   오목로      NaN     경기도 의정부시 낙양동 711  37.748752  127.099994   \n",
              "6  경기도  의정부시   시도   민락로      NaN   경기도 의정부시 용현동 65-26  37.730285  127.086177   \n",
              "7  경기도  의정부시   시도   호국로      NaN     경기도 의정부시 가능동 803  37.742864  127.027216   \n",
              "8  경기도  의정부시   시도   호국로      NaN     경기도 의정부시 가능동 803  37.742871  127.027216   \n",
              "9  경기도  의정부시   시도   호국로      NaN  경기도 의정부시 가능동 701-26  37.742824  127.028856   \n",
              "\n",
              "  신호등화순서  신호등화시간  \n",
              "0  녹색+적색  26+124  \n",
              "1  녹색+적색  28+121  \n",
              "2  녹색+적색  25+124  \n",
              "3  녹색+적색  26+124  \n",
              "4  녹색+적색  25+124  \n",
              "5  녹색+적색  28+121  \n",
              "6  녹색+적색  34+164  \n",
              "7  녹색+적색   19+78  \n",
              "8  녹색+적색   19+78  \n",
              "9  녹색+적색   20+80  "
            ]
          },
          "execution_count": 4,
          "metadata": {},
          "output_type": "execute_result"
        }
      ],
      "source": [
        "time.head(10)"
      ]
    },
    {
      "cell_type": "code",
      "execution_count": null,
      "id": "0358342e-6ac4-4748-bbfb-712b7901c06c",
      "metadata": {
        "tags": [],
        "id": "0358342e-6ac4-4748-bbfb-712b7901c06c"
      },
      "outputs": [],
      "source": [
        "screen = pd.read_csv('충청북도 청주시_그늘막 현황_20230605.csv')"
      ]
    },
    {
      "cell_type": "code",
      "execution_count": null,
      "id": "3732f078-b708-4fde-90b2-3eafb8631e74",
      "metadata": {
        "tags": [],
        "id": "3732f078-b708-4fde-90b2-3eafb8631e74"
      },
      "outputs": [],
      "source": [
        "screen = screen[['시군구', '읍면동', '설치장소', '설치 도로명주소', '설치 지번주소']]"
      ]
    },
    {
      "cell_type": "code",
      "execution_count": null,
      "id": "430e16fb-0866-4e28-a62b-24d9abee4d33",
      "metadata": {
        "tags": [],
        "id": "430e16fb-0866-4e28-a62b-24d9abee4d33",
        "outputId": "aed14ae9-83bf-4921-dceb-0dd75fe73be7"
      },
      "outputs": [
        {
          "data": {
            "text/html": [
              "<div>\n",
              "<style scoped>\n",
              "    .dataframe tbody tr th:only-of-type {\n",
              "        vertical-align: middle;\n",
              "    }\n",
              "\n",
              "    .dataframe tbody tr th {\n",
              "        vertical-align: top;\n",
              "    }\n",
              "\n",
              "    .dataframe thead th {\n",
              "        text-align: right;\n",
              "    }\n",
              "</style>\n",
              "<table border=\"1\" class=\"dataframe\">\n",
              "  <thead>\n",
              "    <tr style=\"text-align: right;\">\n",
              "      <th></th>\n",
              "      <th>시군구</th>\n",
              "      <th>읍면동</th>\n",
              "      <th>설치장소</th>\n",
              "      <th>설치 도로명주소</th>\n",
              "      <th>설치 지번주소</th>\n",
              "    </tr>\n",
              "  </thead>\n",
              "  <tbody>\n",
              "    <tr>\n",
              "      <th>0</th>\n",
              "      <td>청주시상당구</td>\n",
              "      <td>중앙동</td>\n",
              "      <td>포토이즘 앞</td>\n",
              "      <td>상당구 사직대로 371</td>\n",
              "      <td>북문로2가 54-2</td>\n",
              "    </tr>\n",
              "    <tr>\n",
              "      <th>1</th>\n",
              "      <td>청주시상당구</td>\n",
              "      <td>중앙동</td>\n",
              "      <td>신한은행 앞</td>\n",
              "      <td>상당구 사직대로 343</td>\n",
              "      <td>NaN</td>\n",
              "    </tr>\n",
              "    <tr>\n",
              "      <th>2</th>\n",
              "      <td>청주시상당구</td>\n",
              "      <td>중앙동</td>\n",
              "      <td>한성저축은행 맞은편</td>\n",
              "      <td>상당구 상당로 145</td>\n",
              "      <td>북문로3가 119</td>\n",
              "    </tr>\n",
              "    <tr>\n",
              "      <th>3</th>\n",
              "      <td>청주시상당구</td>\n",
              "      <td>중앙동</td>\n",
              "      <td>방아다리 추어탕집 앞</td>\n",
              "      <td>NaN</td>\n",
              "      <td>북문로3가 113</td>\n",
              "    </tr>\n",
              "    <tr>\n",
              "      <th>4</th>\n",
              "      <td>청주시상당구</td>\n",
              "      <td>중앙동</td>\n",
              "      <td>상당공원사거리 교통섬</td>\n",
              "      <td>NaN</td>\n",
              "      <td>북문로2가 39-3</td>\n",
              "    </tr>\n",
              "  </tbody>\n",
              "</table>\n",
              "</div>"
            ],
            "text/plain": [
              "      시군구  읍면동         설치장소      설치 도로명주소     설치 지번주소\n",
              "0  청주시상당구  중앙동       포토이즘 앞  상당구 사직대로 371  북문로2가 54-2\n",
              "1  청주시상당구  중앙동       신한은행 앞  상당구 사직대로 343         NaN\n",
              "2  청주시상당구  중앙동   한성저축은행 맞은편   상당구 상당로 145   북문로3가 119\n",
              "3  청주시상당구  중앙동  방아다리 추어탕집 앞           NaN   북문로3가 113\n",
              "4  청주시상당구  중앙동  상당공원사거리 교통섬           NaN  북문로2가 39-3"
            ]
          },
          "execution_count": 7,
          "metadata": {},
          "output_type": "execute_result"
        }
      ],
      "source": [
        "screen.head()"
      ]
    },
    {
      "cell_type": "code",
      "execution_count": null,
      "id": "9c14286a-82a8-4b9e-83d9-e3286c8de21a",
      "metadata": {
        "tags": [],
        "id": "9c14286a-82a8-4b9e-83d9-e3286c8de21a"
      },
      "outputs": [],
      "source": [
        "bus_sys = pd.read_csv('충청북도_청주시_버스정보시스템_20211110.csv', encoding = 'cp949')"
      ]
    },
    {
      "cell_type": "markdown",
      "id": "b95f334c-4286-4d55-b7b7-dd2d95151b06",
      "metadata": {
        "id": "b95f334c-4286-4d55-b7b7-dd2d95151b06"
      },
      "source": [
        "**컬럼 선택**"
      ]
    },
    {
      "cell_type": "code",
      "execution_count": null,
      "id": "15103d0e-2771-489f-b1c0-c801a6ea4e74",
      "metadata": {
        "tags": [],
        "id": "15103d0e-2771-489f-b1c0-c801a6ea4e74"
      },
      "outputs": [],
      "source": [
        "bus_sys['정류장명'] = bus_sys['정류소명']\n",
        "bus_sys = bus_sys[['정류장명', '경도', '위도']]"
      ]
    },
    {
      "cell_type": "code",
      "execution_count": null,
      "id": "0fb0a9ba-19c9-4c2b-a5c5-f1a466d89f49",
      "metadata": {
        "tags": [],
        "id": "0fb0a9ba-19c9-4c2b-a5c5-f1a466d89f49",
        "outputId": "5e29a783-a77d-423b-a1d6-feec24ea08da"
      },
      "outputs": [
        {
          "data": {
            "text/html": [
              "<div>\n",
              "<style scoped>\n",
              "    .dataframe tbody tr th:only-of-type {\n",
              "        vertical-align: middle;\n",
              "    }\n",
              "\n",
              "    .dataframe tbody tr th {\n",
              "        vertical-align: top;\n",
              "    }\n",
              "\n",
              "    .dataframe thead th {\n",
              "        text-align: right;\n",
              "    }\n",
              "</style>\n",
              "<table border=\"1\" class=\"dataframe\">\n",
              "  <thead>\n",
              "    <tr style=\"text-align: right;\">\n",
              "      <th></th>\n",
              "      <th>정류장명</th>\n",
              "      <th>경도</th>\n",
              "      <th>위도</th>\n",
              "    </tr>\n",
              "  </thead>\n",
              "  <tbody>\n",
              "    <tr>\n",
              "      <th>0</th>\n",
              "      <td>ADO(에이디오)</td>\n",
              "      <td>127.421797</td>\n",
              "      <td>36.699732</td>\n",
              "    </tr>\n",
              "    <tr>\n",
              "      <th>1</th>\n",
              "      <td>CJB컨벤션센터</td>\n",
              "      <td>127.469359</td>\n",
              "      <td>36.619056</td>\n",
              "    </tr>\n",
              "    <tr>\n",
              "      <th>2</th>\n",
              "      <td>CJB컨벤션센터</td>\n",
              "      <td>127.469152</td>\n",
              "      <td>36.618715</td>\n",
              "    </tr>\n",
              "    <tr>\n",
              "      <th>3</th>\n",
              "      <td>GS메디칼</td>\n",
              "      <td>127.330315</td>\n",
              "      <td>36.643881</td>\n",
              "    </tr>\n",
              "    <tr>\n",
              "      <th>4</th>\n",
              "      <td>GS메디칼</td>\n",
              "      <td>127.329457</td>\n",
              "      <td>36.643960</td>\n",
              "    </tr>\n",
              "  </tbody>\n",
              "</table>\n",
              "</div>"
            ],
            "text/plain": [
              "        정류장명          경도         위도\n",
              "0  ADO(에이디오)  127.421797  36.699732\n",
              "1   CJB컨벤션센터  127.469359  36.619056\n",
              "2   CJB컨벤션센터  127.469152  36.618715\n",
              "3      GS메디칼  127.330315  36.643881\n",
              "4      GS메디칼  127.329457  36.643960"
            ]
          },
          "execution_count": 10,
          "metadata": {},
          "output_type": "execute_result"
        }
      ],
      "source": [
        "bus_sys.head()"
      ]
    },
    {
      "cell_type": "code",
      "execution_count": null,
      "id": "d9d1f48e-26b3-4ff7-8475-32f466816fae",
      "metadata": {
        "tags": [],
        "id": "d9d1f48e-26b3-4ff7-8475-32f466816fae"
      },
      "outputs": [],
      "source": [
        "bus_cj = pd.read_csv('충청북도 청주시_청주시내버스 주요승강장 이용인원_20201224.csv', encoding = 'cp949')"
      ]
    },
    {
      "cell_type": "code",
      "execution_count": null,
      "id": "b913b9c7-5876-480b-be21-05e090ae4e11",
      "metadata": {
        "tags": [],
        "id": "b913b9c7-5876-480b-be21-05e090ae4e11"
      },
      "outputs": [],
      "source": [
        "bus_cj = bus_cj[['정류장명', '승차소계', '하차소계', '총 이용인원']]"
      ]
    },
    {
      "cell_type": "code",
      "execution_count": null,
      "id": "de5d0984-d2d6-4238-8395-19e73141501f",
      "metadata": {
        "tags": [],
        "id": "de5d0984-d2d6-4238-8395-19e73141501f",
        "outputId": "0b2f8402-8d61-457e-dd2d-b3249ab8afa7"
      },
      "outputs": [
        {
          "data": {
            "text/html": [
              "<div>\n",
              "<style scoped>\n",
              "    .dataframe tbody tr th:only-of-type {\n",
              "        vertical-align: middle;\n",
              "    }\n",
              "\n",
              "    .dataframe tbody tr th {\n",
              "        vertical-align: top;\n",
              "    }\n",
              "\n",
              "    .dataframe thead th {\n",
              "        text-align: right;\n",
              "    }\n",
              "</style>\n",
              "<table border=\"1\" class=\"dataframe\">\n",
              "  <thead>\n",
              "    <tr style=\"text-align: right;\">\n",
              "      <th></th>\n",
              "      <th>정류장명</th>\n",
              "      <th>승차소계</th>\n",
              "      <th>하차소계</th>\n",
              "      <th>총 이용인원</th>\n",
              "    </tr>\n",
              "  </thead>\n",
              "  <tbody>\n",
              "    <tr>\n",
              "      <th>0</th>\n",
              "      <td>시외버스터미널</td>\n",
              "      <td>6,170</td>\n",
              "      <td>2,719</td>\n",
              "      <td>8,890</td>\n",
              "    </tr>\n",
              "    <tr>\n",
              "      <th>1</th>\n",
              "      <td>지하상가</td>\n",
              "      <td>4,005</td>\n",
              "      <td>1,144</td>\n",
              "      <td>5,148</td>\n",
              "    </tr>\n",
              "    <tr>\n",
              "      <th>2</th>\n",
              "      <td>도청</td>\n",
              "      <td>2,719</td>\n",
              "      <td>1,971</td>\n",
              "      <td>4,692</td>\n",
              "    </tr>\n",
              "    <tr>\n",
              "      <th>3</th>\n",
              "      <td>서운동</td>\n",
              "      <td>2,640</td>\n",
              "      <td>1,536</td>\n",
              "      <td>4,178</td>\n",
              "    </tr>\n",
              "    <tr>\n",
              "      <th>4</th>\n",
              "      <td>도청</td>\n",
              "      <td>2,435</td>\n",
              "      <td>1,319</td>\n",
              "      <td>3,755</td>\n",
              "    </tr>\n",
              "  </tbody>\n",
              "</table>\n",
              "</div>"
            ],
            "text/plain": [
              "      정류장명   승차소계   하차소계 총 이용인원\n",
              "0  시외버스터미널  6,170  2,719  8,890\n",
              "1     지하상가  4,005  1,144  5,148\n",
              "2       도청  2,719  1,971  4,692\n",
              "3      서운동  2,640  1,536  4,178\n",
              "4       도청  2,435  1,319  3,755"
            ]
          },
          "execution_count": 13,
          "metadata": {},
          "output_type": "execute_result"
        }
      ],
      "source": [
        "bus_cj.head()"
      ]
    },
    {
      "cell_type": "code",
      "execution_count": null,
      "id": "a80d5b9a-6b51-450e-8d2d-b75bd9b0c471",
      "metadata": {
        "tags": [],
        "id": "a80d5b9a-6b51-450e-8d2d-b75bd9b0c471"
      },
      "outputs": [],
      "source": [
        "df = pd.merge(bus_cj, bus_sys, how='left', on='정류장명')"
      ]
    },
    {
      "cell_type": "code",
      "execution_count": null,
      "id": "dbfde6e5-29b4-46a2-b105-c9e90f8a6196",
      "metadata": {
        "tags": [],
        "id": "dbfde6e5-29b4-46a2-b105-c9e90f8a6196",
        "outputId": "bf2ccec0-bdde-403f-cb53-625c278f7ddd"
      },
      "outputs": [
        {
          "data": {
            "text/html": [
              "<div>\n",
              "<style scoped>\n",
              "    .dataframe tbody tr th:only-of-type {\n",
              "        vertical-align: middle;\n",
              "    }\n",
              "\n",
              "    .dataframe tbody tr th {\n",
              "        vertical-align: top;\n",
              "    }\n",
              "\n",
              "    .dataframe thead th {\n",
              "        text-align: right;\n",
              "    }\n",
              "</style>\n",
              "<table border=\"1\" class=\"dataframe\">\n",
              "  <thead>\n",
              "    <tr style=\"text-align: right;\">\n",
              "      <th></th>\n",
              "      <th>정류장명</th>\n",
              "      <th>승차소계</th>\n",
              "      <th>하차소계</th>\n",
              "      <th>총 이용인원</th>\n",
              "      <th>경도</th>\n",
              "      <th>위도</th>\n",
              "    </tr>\n",
              "  </thead>\n",
              "  <tbody>\n",
              "    <tr>\n",
              "      <th>0</th>\n",
              "      <td>시외버스터미널</td>\n",
              "      <td>6,170</td>\n",
              "      <td>2,719</td>\n",
              "      <td>8,890</td>\n",
              "      <td>127.431529</td>\n",
              "      <td>36.625579</td>\n",
              "    </tr>\n",
              "    <tr>\n",
              "      <th>1</th>\n",
              "      <td>지하상가</td>\n",
              "      <td>4,005</td>\n",
              "      <td>1,144</td>\n",
              "      <td>5,148</td>\n",
              "      <td>127.488093</td>\n",
              "      <td>36.636995</td>\n",
              "    </tr>\n",
              "    <tr>\n",
              "      <th>2</th>\n",
              "      <td>지하상가</td>\n",
              "      <td>4,005</td>\n",
              "      <td>1,144</td>\n",
              "      <td>5,148</td>\n",
              "      <td>127.488556</td>\n",
              "      <td>36.636827</td>\n",
              "    </tr>\n",
              "    <tr>\n",
              "      <th>3</th>\n",
              "      <td>도청</td>\n",
              "      <td>2,719</td>\n",
              "      <td>1,971</td>\n",
              "      <td>4,692</td>\n",
              "      <td>127.490759</td>\n",
              "      <td>36.634176</td>\n",
              "    </tr>\n",
              "    <tr>\n",
              "      <th>4</th>\n",
              "      <td>도청</td>\n",
              "      <td>2,719</td>\n",
              "      <td>1,971</td>\n",
              "      <td>4,692</td>\n",
              "      <td>127.490451</td>\n",
              "      <td>36.634972</td>\n",
              "    </tr>\n",
              "  </tbody>\n",
              "</table>\n",
              "</div>"
            ],
            "text/plain": [
              "      정류장명   승차소계   하차소계 총 이용인원          경도         위도\n",
              "0  시외버스터미널  6,170  2,719  8,890  127.431529  36.625579\n",
              "1     지하상가  4,005  1,144  5,148  127.488093  36.636995\n",
              "2     지하상가  4,005  1,144  5,148  127.488556  36.636827\n",
              "3       도청  2,719  1,971  4,692  127.490759  36.634176\n",
              "4       도청  2,719  1,971  4,692  127.490451  36.634972"
            ]
          },
          "execution_count": 15,
          "metadata": {},
          "output_type": "execute_result"
        }
      ],
      "source": [
        "df.head()"
      ]
    },
    {
      "cell_type": "code",
      "execution_count": null,
      "id": "b0a2594d-3af0-4e35-a0c0-c28c84e4da3b",
      "metadata": {
        "tags": [],
        "id": "b0a2594d-3af0-4e35-a0c0-c28c84e4da3b",
        "outputId": "06b601c3-fb30-45b2-dec1-2a028d73b4fa"
      },
      "outputs": [
        {
          "name": "stdout",
          "output_type": "stream",
          "text": [
            "<class 'pandas.core.frame.DataFrame'>\n",
            "Int64Index: 87 entries, 0 to 86\n",
            "Data columns (total 6 columns):\n",
            " #   Column  Non-Null Count  Dtype  \n",
            "---  ------  --------------  -----  \n",
            " 0   정류장명    87 non-null     object \n",
            " 1   승차소계    87 non-null     object \n",
            " 2   하차소계    87 non-null     object \n",
            " 3   총 이용인원  87 non-null     object \n",
            " 4   경도      75 non-null     float64\n",
            " 5   위도      75 non-null     float64\n",
            "dtypes: float64(2), object(4)\n",
            "memory usage: 4.8+ KB\n"
          ]
        }
      ],
      "source": [
        "df.info()"
      ]
    },
    {
      "cell_type": "code",
      "execution_count": null,
      "id": "5450922d-8c66-4059-bbab-37182a8ad834",
      "metadata": {
        "tags": [],
        "id": "5450922d-8c66-4059-bbab-37182a8ad834",
        "outputId": "a5238898-608f-4572-d33f-f96d5b5a42fd"
      },
      "outputs": [
        {
          "data": {
            "text/html": [
              "<div>\n",
              "<style scoped>\n",
              "    .dataframe tbody tr th:only-of-type {\n",
              "        vertical-align: middle;\n",
              "    }\n",
              "\n",
              "    .dataframe tbody tr th {\n",
              "        vertical-align: top;\n",
              "    }\n",
              "\n",
              "    .dataframe thead th {\n",
              "        text-align: right;\n",
              "    }\n",
              "</style>\n",
              "<table border=\"1\" class=\"dataframe\">\n",
              "  <thead>\n",
              "    <tr style=\"text-align: right;\">\n",
              "      <th></th>\n",
              "      <th>정류장명</th>\n",
              "      <th>승차소계</th>\n",
              "      <th>하차소계</th>\n",
              "      <th>총 이용인원</th>\n",
              "      <th>경도</th>\n",
              "      <th>위도</th>\n",
              "    </tr>\n",
              "  </thead>\n",
              "  <tbody>\n",
              "    <tr>\n",
              "      <th>23</th>\n",
              "      <td>고속.시외터미널</td>\n",
              "      <td>1,875</td>\n",
              "      <td>1,310</td>\n",
              "      <td>3,185</td>\n",
              "      <td>NaN</td>\n",
              "      <td>NaN</td>\n",
              "    </tr>\n",
              "    <tr>\n",
              "      <th>31</th>\n",
              "      <td>문화산업단지</td>\n",
              "      <td>1,686</td>\n",
              "      <td>918</td>\n",
              "      <td>2,605</td>\n",
              "      <td>NaN</td>\n",
              "      <td>NaN</td>\n",
              "    </tr>\n",
              "    <tr>\n",
              "      <th>43</th>\n",
              "      <td>문화산업단지</td>\n",
              "      <td>1,371</td>\n",
              "      <td>530</td>\n",
              "      <td>1,902</td>\n",
              "      <td>NaN</td>\n",
              "      <td>NaN</td>\n",
              "    </tr>\n",
              "    <tr>\n",
              "      <th>54</th>\n",
              "      <td>조치원역</td>\n",
              "      <td>1,395</td>\n",
              "      <td>357</td>\n",
              "      <td>1,753</td>\n",
              "      <td>NaN</td>\n",
              "      <td>NaN</td>\n",
              "    </tr>\n",
              "    <tr>\n",
              "      <th>60</th>\n",
              "      <td>사직사거리</td>\n",
              "      <td>908</td>\n",
              "      <td>712</td>\n",
              "      <td>1,620</td>\n",
              "      <td>NaN</td>\n",
              "      <td>NaN</td>\n",
              "    </tr>\n",
              "    <tr>\n",
              "      <th>65</th>\n",
              "      <td>사직사거리</td>\n",
              "      <td>1,028</td>\n",
              "      <td>368</td>\n",
              "      <td>1,396</td>\n",
              "      <td>NaN</td>\n",
              "      <td>NaN</td>\n",
              "    </tr>\n",
              "    <tr>\n",
              "      <th>68</th>\n",
              "      <td>분평주공2단지</td>\n",
              "      <td>1,254</td>\n",
              "      <td>61</td>\n",
              "      <td>1,315</td>\n",
              "      <td>NaN</td>\n",
              "      <td>NaN</td>\n",
              "    </tr>\n",
              "    <tr>\n",
              "      <th>71</th>\n",
              "      <td>중앙여고,사창시장</td>\n",
              "      <td>1,000</td>\n",
              "      <td>261</td>\n",
              "      <td>1,262</td>\n",
              "      <td>NaN</td>\n",
              "      <td>NaN</td>\n",
              "    </tr>\n",
              "    <tr>\n",
              "      <th>80</th>\n",
              "      <td>월곡리.충청대학</td>\n",
              "      <td>1,082</td>\n",
              "      <td>31</td>\n",
              "      <td>1,113</td>\n",
              "      <td>NaN</td>\n",
              "      <td>NaN</td>\n",
              "    </tr>\n",
              "    <tr>\n",
              "      <th>81</th>\n",
              "      <td>오송역</td>\n",
              "      <td>687</td>\n",
              "      <td>418</td>\n",
              "      <td>1,105</td>\n",
              "      <td>NaN</td>\n",
              "      <td>NaN</td>\n",
              "    </tr>\n",
              "    <tr>\n",
              "      <th>82</th>\n",
              "      <td>분평뜨란채1단지</td>\n",
              "      <td>1,004</td>\n",
              "      <td>97</td>\n",
              "      <td>1,101</td>\n",
              "      <td>NaN</td>\n",
              "      <td>NaN</td>\n",
              "    </tr>\n",
              "    <tr>\n",
              "      <th>84</th>\n",
              "      <td>중앙여고,사창시장</td>\n",
              "      <td>780</td>\n",
              "      <td>304</td>\n",
              "      <td>1,084</td>\n",
              "      <td>NaN</td>\n",
              "      <td>NaN</td>\n",
              "    </tr>\n",
              "  </tbody>\n",
              "</table>\n",
              "</div>"
            ],
            "text/plain": [
              "         정류장명   승차소계   하차소계 총 이용인원  경도  위도\n",
              "23   고속.시외터미널  1,875  1,310  3,185 NaN NaN\n",
              "31     문화산업단지  1,686    918  2,605 NaN NaN\n",
              "43     문화산업단지  1,371    530  1,902 NaN NaN\n",
              "54       조치원역  1,395    357  1,753 NaN NaN\n",
              "60      사직사거리    908    712  1,620 NaN NaN\n",
              "65      사직사거리  1,028    368  1,396 NaN NaN\n",
              "68    분평주공2단지  1,254     61  1,315 NaN NaN\n",
              "71  중앙여고,사창시장  1,000    261  1,262 NaN NaN\n",
              "80   월곡리.충청대학  1,082     31  1,113 NaN NaN\n",
              "81        오송역    687    418  1,105 NaN NaN\n",
              "82   분평뜨란채1단지  1,004     97  1,101 NaN NaN\n",
              "84  중앙여고,사창시장    780    304  1,084 NaN NaN"
            ]
          },
          "execution_count": 17,
          "metadata": {},
          "output_type": "execute_result"
        }
      ],
      "source": [
        "df[df['경도'].isnull()]"
      ]
    },
    {
      "cell_type": "code",
      "execution_count": null,
      "id": "11356abb-396d-4498-a1a6-da671ee75126",
      "metadata": {
        "tags": [],
        "id": "11356abb-396d-4498-a1a6-da671ee75126",
        "outputId": "858e7c9f-da13-4690-a266-245111467d65"
      },
      "outputs": [
        {
          "name": "stdout",
          "output_type": "stream",
          "text": [
            "<class 'pandas.core.frame.DataFrame'>\n",
            "RangeIndex: 2770 entries, 0 to 2769\n",
            "Data columns (total 3 columns):\n",
            " #   Column  Non-Null Count  Dtype  \n",
            "---  ------  --------------  -----  \n",
            " 0   정류장명    2770 non-null   object \n",
            " 1   경도      2770 non-null   float64\n",
            " 2   위도      2770 non-null   float64\n",
            "dtypes: float64(2), object(1)\n",
            "memory usage: 65.1+ KB\n"
          ]
        }
      ],
      "source": [
        "bus_sys.info()"
      ]
    },
    {
      "cell_type": "code",
      "execution_count": null,
      "id": "63efdbbe-d50d-4fc4-9654-92c601535ef4",
      "metadata": {
        "tags": [],
        "id": "63efdbbe-d50d-4fc4-9654-92c601535ef4",
        "outputId": "090f5903-f960-4eb2-f78e-c1bd63654915"
      },
      "outputs": [
        {
          "data": {
            "text/html": [
              "<div>\n",
              "<style scoped>\n",
              "    .dataframe tbody tr th:only-of-type {\n",
              "        vertical-align: middle;\n",
              "    }\n",
              "\n",
              "    .dataframe tbody tr th {\n",
              "        vertical-align: top;\n",
              "    }\n",
              "\n",
              "    .dataframe thead th {\n",
              "        text-align: right;\n",
              "    }\n",
              "</style>\n",
              "<table border=\"1\" class=\"dataframe\">\n",
              "  <thead>\n",
              "    <tr style=\"text-align: right;\">\n",
              "      <th></th>\n",
              "      <th>정류장명</th>\n",
              "      <th>경도</th>\n",
              "      <th>위도</th>\n",
              "    </tr>\n",
              "  </thead>\n",
              "  <tbody>\n",
              "    <tr>\n",
              "      <th>184</th>\n",
              "      <td>고속.시외터미널</td>\n",
              "      <td>고속.시외터미널</td>\n",
              "      <td>고속.시외터미널</td>\n",
              "    </tr>\n",
              "    <tr>\n",
              "      <th>185</th>\n",
              "      <td>고속버스터미널</td>\n",
              "      <td>127.430153</td>\n",
              "      <td>36.626537</td>\n",
              "    </tr>\n",
              "    <tr>\n",
              "      <th>186</th>\n",
              "      <td>고속버스터미널</td>\n",
              "      <td>127.429987</td>\n",
              "      <td>36.625935</td>\n",
              "    </tr>\n",
              "    <tr>\n",
              "      <th>388</th>\n",
              "      <td>남부터미널</td>\n",
              "      <td>127.479214</td>\n",
              "      <td>36.608712</td>\n",
              "    </tr>\n",
              "    <tr>\n",
              "      <th>1244</th>\n",
              "      <td>서부소방서.터미널시장</td>\n",
              "      <td>127.436391</td>\n",
              "      <td>36.627537</td>\n",
              "    </tr>\n",
              "    <tr>\n",
              "      <th>1365</th>\n",
              "      <td>세종고속시외버스터미널</td>\n",
              "      <td>127.273946</td>\n",
              "      <td>36.46937</td>\n",
              "    </tr>\n",
              "    <tr>\n",
              "      <th>1366</th>\n",
              "      <td>세종고속시외버스터미널</td>\n",
              "      <td>127.273825</td>\n",
              "      <td>36.469338</td>\n",
              "    </tr>\n",
              "    <tr>\n",
              "      <th>1367</th>\n",
              "      <td>세종고속시외버스터미널(지하)</td>\n",
              "      <td>127.273235</td>\n",
              "      <td>36.470816</td>\n",
              "    </tr>\n",
              "    <tr>\n",
              "      <th>1368</th>\n",
              "      <td>세종고속시외버스터미널(지하)</td>\n",
              "      <td>127.273138</td>\n",
              "      <td>36.470691</td>\n",
              "    </tr>\n",
              "    <tr>\n",
              "      <th>1372</th>\n",
              "      <td>세종터미널 종료</td>\n",
              "      <td>127.27309</td>\n",
              "      <td>36.468936</td>\n",
              "    </tr>\n",
              "    <tr>\n",
              "      <th>1373</th>\n",
              "      <td>세종터미널 출발</td>\n",
              "      <td>127.271742</td>\n",
              "      <td>36.470135</td>\n",
              "    </tr>\n",
              "    <tr>\n",
              "      <th>1484</th>\n",
              "      <td>시외버스터미널</td>\n",
              "      <td>127.431529</td>\n",
              "      <td>36.625579</td>\n",
              "    </tr>\n",
              "    <tr>\n",
              "      <th>2115</th>\n",
              "      <td>조치원터미널</td>\n",
              "      <td>127.303697</td>\n",
              "      <td>36.602726</td>\n",
              "    </tr>\n",
              "    <tr>\n",
              "      <th>2116</th>\n",
              "      <td>조치원터미널</td>\n",
              "      <td>127.30362</td>\n",
              "      <td>36.602513</td>\n",
              "    </tr>\n",
              "    <tr>\n",
              "      <th>2214</th>\n",
              "      <td>진천터미널 승차</td>\n",
              "      <td>127.438666</td>\n",
              "      <td>36.859868</td>\n",
              "    </tr>\n",
              "    <tr>\n",
              "      <th>2215</th>\n",
              "      <td>진천터미널 하차</td>\n",
              "      <td>127.438128</td>\n",
              "      <td>36.859934</td>\n",
              "    </tr>\n",
              "  </tbody>\n",
              "</table>\n",
              "</div>"
            ],
            "text/plain": [
              "                 정류장명          경도         위도\n",
              "184          고속.시외터미널    고속.시외터미널   고속.시외터미널\n",
              "185           고속버스터미널  127.430153  36.626537\n",
              "186           고속버스터미널  127.429987  36.625935\n",
              "388             남부터미널  127.479214  36.608712\n",
              "1244      서부소방서.터미널시장  127.436391  36.627537\n",
              "1365      세종고속시외버스터미널  127.273946   36.46937\n",
              "1366      세종고속시외버스터미널  127.273825  36.469338\n",
              "1367  세종고속시외버스터미널(지하)  127.273235  36.470816\n",
              "1368  세종고속시외버스터미널(지하)  127.273138  36.470691\n",
              "1372         세종터미널 종료   127.27309  36.468936\n",
              "1373         세종터미널 출발  127.271742  36.470135\n",
              "1484          시외버스터미널  127.431529  36.625579\n",
              "2115           조치원터미널  127.303697  36.602726\n",
              "2116           조치원터미널   127.30362  36.602513\n",
              "2214         진천터미널 승차  127.438666  36.859868\n",
              "2215         진천터미널 하차  127.438128  36.859934"
            ]
          },
          "execution_count": 325,
          "metadata": {},
          "output_type": "execute_result"
        }
      ],
      "source": [
        "bus_sys[bus_sys['정류장명'].str.contains('터미널')]"
      ]
    },
    {
      "cell_type": "code",
      "execution_count": null,
      "id": "93d56e85-3b50-47fe-a7a7-100515dd97d6",
      "metadata": {
        "tags": [],
        "id": "93d56e85-3b50-47fe-a7a7-100515dd97d6"
      },
      "outputs": [],
      "source": [
        "bus_sys[bus_sys['정류장명'] == '고속.시외버스터미널'] = '고속.시외터미널'"
      ]
    },
    {
      "cell_type": "code",
      "execution_count": null,
      "id": "8a209aeb-221c-4aae-be1b-70c79257e678",
      "metadata": {
        "tags": [],
        "id": "8a209aeb-221c-4aae-be1b-70c79257e678",
        "outputId": "54c78a50-4e31-4b6c-af73-a9dda181511c"
      },
      "outputs": [
        {
          "data": {
            "text/html": [
              "<div>\n",
              "<style scoped>\n",
              "    .dataframe tbody tr th:only-of-type {\n",
              "        vertical-align: middle;\n",
              "    }\n",
              "\n",
              "    .dataframe tbody tr th {\n",
              "        vertical-align: top;\n",
              "    }\n",
              "\n",
              "    .dataframe thead th {\n",
              "        text-align: right;\n",
              "    }\n",
              "</style>\n",
              "<table border=\"1\" class=\"dataframe\">\n",
              "  <thead>\n",
              "    <tr style=\"text-align: right;\">\n",
              "      <th></th>\n",
              "      <th>정류장명</th>\n",
              "      <th>경도</th>\n",
              "      <th>위도</th>\n",
              "    </tr>\n",
              "  </thead>\n",
              "  <tbody>\n",
              "    <tr>\n",
              "      <th>2315</th>\n",
              "      <td>청주문화산업단지입구</td>\n",
              "      <td>127.492345</td>\n",
              "      <td>36.657559</td>\n",
              "    </tr>\n",
              "    <tr>\n",
              "      <th>2326</th>\n",
              "      <td>청주시문화산업단지정문</td>\n",
              "      <td>127.492253</td>\n",
              "      <td>36.657672</td>\n",
              "    </tr>\n",
              "  </tbody>\n",
              "</table>\n",
              "</div>"
            ],
            "text/plain": [
              "             정류장명          경도         위도\n",
              "2315   청주문화산업단지입구  127.492345  36.657559\n",
              "2326  청주시문화산업단지정문  127.492253  36.657672"
            ]
          },
          "execution_count": 22,
          "metadata": {},
          "output_type": "execute_result"
        }
      ],
      "source": [
        "bus_sys[bus_sys['정류장명'].str.contains('문화산업')]"
      ]
    },
    {
      "cell_type": "code",
      "execution_count": null,
      "id": "1c3577a8-f9f5-47c8-b8ed-0b87c3e8d43e",
      "metadata": {
        "tags": [],
        "id": "1c3577a8-f9f5-47c8-b8ed-0b87c3e8d43e"
      },
      "outputs": [],
      "source": [
        "bus_sys[bus_sys['정류장명'] == '청주문화산업단지입구'] = '문화산업단지'"
      ]
    },
    {
      "cell_type": "code",
      "execution_count": null,
      "id": "2ec7d686-6afb-4124-a9e9-6767625cca32",
      "metadata": {
        "tags": [],
        "id": "2ec7d686-6afb-4124-a9e9-6767625cca32",
        "outputId": "ace379ac-7032-459c-a764-2f9af8fdf6fc"
      },
      "outputs": [
        {
          "data": {
            "text/html": [
              "<div>\n",
              "<style scoped>\n",
              "    .dataframe tbody tr th:only-of-type {\n",
              "        vertical-align: middle;\n",
              "    }\n",
              "\n",
              "    .dataframe tbody tr th {\n",
              "        vertical-align: top;\n",
              "    }\n",
              "\n",
              "    .dataframe thead th {\n",
              "        text-align: right;\n",
              "    }\n",
              "</style>\n",
              "<table border=\"1\" class=\"dataframe\">\n",
              "  <thead>\n",
              "    <tr style=\"text-align: right;\">\n",
              "      <th></th>\n",
              "      <th>정류장명</th>\n",
              "      <th>경도</th>\n",
              "      <th>위도</th>\n",
              "    </tr>\n",
              "  </thead>\n",
              "  <tbody>\n",
              "    <tr>\n",
              "      <th>2113</th>\n",
              "      <td>조치원역 승차</td>\n",
              "      <td>127.297033</td>\n",
              "      <td>36.60104</td>\n",
              "    </tr>\n",
              "    <tr>\n",
              "      <th>2114</th>\n",
              "      <td>조치원역 하차</td>\n",
              "      <td>127.296999</td>\n",
              "      <td>36.601303</td>\n",
              "    </tr>\n",
              "  </tbody>\n",
              "</table>\n",
              "</div>"
            ],
            "text/plain": [
              "         정류장명          경도         위도\n",
              "2113  조치원역 승차  127.297033   36.60104\n",
              "2114  조치원역 하차  127.296999  36.601303"
            ]
          },
          "execution_count": 24,
          "metadata": {},
          "output_type": "execute_result"
        }
      ],
      "source": [
        "bus_sys[bus_sys['정류장명'].str.contains('조치원역')]"
      ]
    },
    {
      "cell_type": "code",
      "execution_count": null,
      "id": "4200e713-b736-427c-aa0f-da86405eefd9",
      "metadata": {
        "tags": [],
        "id": "4200e713-b736-427c-aa0f-da86405eefd9"
      },
      "outputs": [],
      "source": [
        "bus_sys[bus_sys['정류장명'] == '조치원역 승차'] = '조치원역'\n",
        "bus_sys[bus_sys['정류장명'] == '조치원역 하차'] = '조치원역'"
      ]
    },
    {
      "cell_type": "code",
      "execution_count": null,
      "id": "92133e00-3c73-4f48-8cc5-c03782ae6c12",
      "metadata": {
        "tags": [],
        "id": "92133e00-3c73-4f48-8cc5-c03782ae6c12",
        "outputId": "ca7c5119-4a0b-48e3-fa73-1e5acffe8b20"
      },
      "outputs": [
        {
          "data": {
            "text/html": [
              "<div>\n",
              "<style scoped>\n",
              "    .dataframe tbody tr th:only-of-type {\n",
              "        vertical-align: middle;\n",
              "    }\n",
              "\n",
              "    .dataframe tbody tr th {\n",
              "        vertical-align: top;\n",
              "    }\n",
              "\n",
              "    .dataframe thead th {\n",
              "        text-align: right;\n",
              "    }\n",
              "</style>\n",
              "<table border=\"1\" class=\"dataframe\">\n",
              "  <thead>\n",
              "    <tr style=\"text-align: right;\">\n",
              "      <th></th>\n",
              "      <th>정류장명</th>\n",
              "      <th>경도</th>\n",
              "      <th>위도</th>\n",
              "    </tr>\n",
              "  </thead>\n",
              "  <tbody>\n",
              "    <tr>\n",
              "      <th>1102</th>\n",
              "      <td>사직사거리.시립미술관</td>\n",
              "      <td>127.477944</td>\n",
              "      <td>36.635937</td>\n",
              "    </tr>\n",
              "    <tr>\n",
              "      <th>1103</th>\n",
              "      <td>사직사거리.시립미술관</td>\n",
              "      <td>127.478111</td>\n",
              "      <td>36.63573</td>\n",
              "    </tr>\n",
              "  </tbody>\n",
              "</table>\n",
              "</div>"
            ],
            "text/plain": [
              "             정류장명          경도         위도\n",
              "1102  사직사거리.시립미술관  127.477944  36.635937\n",
              "1103  사직사거리.시립미술관  127.478111   36.63573"
            ]
          },
          "execution_count": 26,
          "metadata": {},
          "output_type": "execute_result"
        }
      ],
      "source": [
        "bus_sys[bus_sys['정류장명'].str.contains('사직사거리')]"
      ]
    },
    {
      "cell_type": "code",
      "execution_count": null,
      "id": "4b5c21c2-e908-4ed7-b23a-0d31bbbcc122",
      "metadata": {
        "tags": [],
        "id": "4b5c21c2-e908-4ed7-b23a-0d31bbbcc122"
      },
      "outputs": [],
      "source": [
        "bus_sys[bus_sys['정류장명'] == '사직사거리.시립미술관'] = '사직사거리'"
      ]
    },
    {
      "cell_type": "code",
      "execution_count": null,
      "id": "95d6210b-d5ca-4bb5-8418-46c3363d9948",
      "metadata": {
        "tags": [],
        "id": "95d6210b-d5ca-4bb5-8418-46c3363d9948",
        "outputId": "21ac795c-df62-405f-98a6-f4021e8540b2"
      },
      "outputs": [
        {
          "data": {
            "text/html": [
              "<div>\n",
              "<style scoped>\n",
              "    .dataframe tbody tr th:only-of-type {\n",
              "        vertical-align: middle;\n",
              "    }\n",
              "\n",
              "    .dataframe tbody tr th {\n",
              "        vertical-align: top;\n",
              "    }\n",
              "\n",
              "    .dataframe thead th {\n",
              "        text-align: right;\n",
              "    }\n",
              "</style>\n",
              "<table border=\"1\" class=\"dataframe\">\n",
              "  <thead>\n",
              "    <tr style=\"text-align: right;\">\n",
              "      <th></th>\n",
              "      <th>정류장명</th>\n",
              "      <th>경도</th>\n",
              "      <th>위도</th>\n",
              "    </tr>\n",
              "  </thead>\n",
              "  <tbody>\n",
              "    <tr>\n",
              "      <th>1043</th>\n",
              "      <td>분평휴먼시아2단지아파트</td>\n",
              "      <td>127.492587</td>\n",
              "      <td>36.61128</td>\n",
              "    </tr>\n",
              "    <tr>\n",
              "      <th>1044</th>\n",
              "      <td>분평휴먼시아5단지아파트</td>\n",
              "      <td>127.497094</td>\n",
              "      <td>36.608011</td>\n",
              "    </tr>\n",
              "    <tr>\n",
              "      <th>1045</th>\n",
              "      <td>분평휴먼시아5단지아파트</td>\n",
              "      <td>127.496859</td>\n",
              "      <td>36.608031</td>\n",
              "    </tr>\n",
              "    <tr>\n",
              "      <th>1046</th>\n",
              "      <td>분평휴먼시아6단지</td>\n",
              "      <td>127.491692</td>\n",
              "      <td>36.60606</td>\n",
              "    </tr>\n",
              "    <tr>\n",
              "      <th>1047</th>\n",
              "      <td>분평휴먼시아6단지아파트</td>\n",
              "      <td>127.489729</td>\n",
              "      <td>36.607356</td>\n",
              "    </tr>\n",
              "    <tr>\n",
              "      <th>1048</th>\n",
              "      <td>분평휴먼시아6단지아파트</td>\n",
              "      <td>127.492708</td>\n",
              "      <td>36.606302</td>\n",
              "    </tr>\n",
              "    <tr>\n",
              "      <th>1049</th>\n",
              "      <td>분평휴먼시아7단지아파트</td>\n",
              "      <td>127.489495</td>\n",
              "      <td>36.607304</td>\n",
              "    </tr>\n",
              "  </tbody>\n",
              "</table>\n",
              "</div>"
            ],
            "text/plain": [
              "              정류장명          경도         위도\n",
              "1043  분평휴먼시아2단지아파트  127.492587   36.61128\n",
              "1044  분평휴먼시아5단지아파트  127.497094  36.608011\n",
              "1045  분평휴먼시아5단지아파트  127.496859  36.608031\n",
              "1046     분평휴먼시아6단지  127.491692   36.60606\n",
              "1047  분평휴먼시아6단지아파트  127.489729  36.607356\n",
              "1048  분평휴먼시아6단지아파트  127.492708  36.606302\n",
              "1049  분평휴먼시아7단지아파트  127.489495  36.607304"
            ]
          },
          "execution_count": 28,
          "metadata": {},
          "output_type": "execute_result"
        }
      ],
      "source": [
        "bus_sys[bus_sys['정류장명'].str.contains('분평휴먼시아')]"
      ]
    },
    {
      "cell_type": "code",
      "execution_count": null,
      "id": "6bf9b03d-8670-4ebb-8a75-895d199aa4b4",
      "metadata": {
        "tags": [],
        "id": "6bf9b03d-8670-4ebb-8a75-895d199aa4b4"
      },
      "outputs": [],
      "source": [
        "bus_sys[bus_sys['정류장명'] == '분평휴먼시아2단지아파트'] = '분평주공2단지'"
      ]
    },
    {
      "cell_type": "code",
      "execution_count": null,
      "id": "4ed84a9b-0106-4a97-a420-30689974ed8c",
      "metadata": {
        "tags": [],
        "id": "4ed84a9b-0106-4a97-a420-30689974ed8c",
        "outputId": "595cc1c4-f51b-49c4-fa69-e611ed803a12"
      },
      "outputs": [
        {
          "data": {
            "text/html": [
              "<div>\n",
              "<style scoped>\n",
              "    .dataframe tbody tr th:only-of-type {\n",
              "        vertical-align: middle;\n",
              "    }\n",
              "\n",
              "    .dataframe tbody tr th {\n",
              "        vertical-align: top;\n",
              "    }\n",
              "\n",
              "    .dataframe thead th {\n",
              "        text-align: right;\n",
              "    }\n",
              "</style>\n",
              "<table border=\"1\" class=\"dataframe\">\n",
              "  <thead>\n",
              "    <tr style=\"text-align: right;\">\n",
              "      <th></th>\n",
              "      <th>정류장명</th>\n",
              "      <th>경도</th>\n",
              "      <th>위도</th>\n",
              "    </tr>\n",
              "  </thead>\n",
              "  <tbody>\n",
              "    <tr>\n",
              "      <th>2157</th>\n",
              "      <td>중앙여고.사창시장</td>\n",
              "      <td>127.463598</td>\n",
              "      <td>36.635012</td>\n",
              "    </tr>\n",
              "    <tr>\n",
              "      <th>2158</th>\n",
              "      <td>중앙여고.사창시장</td>\n",
              "      <td>127.464154</td>\n",
              "      <td>36.63526</td>\n",
              "    </tr>\n",
              "  </tbody>\n",
              "</table>\n",
              "</div>"
            ],
            "text/plain": [
              "           정류장명          경도         위도\n",
              "2157  중앙여고.사창시장  127.463598  36.635012\n",
              "2158  중앙여고.사창시장  127.464154   36.63526"
            ]
          },
          "execution_count": 30,
          "metadata": {},
          "output_type": "execute_result"
        }
      ],
      "source": [
        "bus_sys[bus_sys['정류장명'].str.contains('중앙여고')]"
      ]
    },
    {
      "cell_type": "code",
      "execution_count": null,
      "id": "a374f3b4-a2de-48aa-86e8-8154899d56f6",
      "metadata": {
        "tags": [],
        "id": "a374f3b4-a2de-48aa-86e8-8154899d56f6"
      },
      "outputs": [],
      "source": [
        "bus_sys[bus_sys['정류장명'] == '중앙여고.사창시장'] = '중앙여고,사창시장'"
      ]
    },
    {
      "cell_type": "code",
      "execution_count": null,
      "id": "f2ed87ac-8c61-4729-8a62-8c924ed4a18f",
      "metadata": {
        "tags": [],
        "id": "f2ed87ac-8c61-4729-8a62-8c924ed4a18f",
        "outputId": "e050d4de-43f9-4800-be63-ccce03b7dc46"
      },
      "outputs": [
        {
          "data": {
            "text/html": [
              "<div>\n",
              "<style scoped>\n",
              "    .dataframe tbody tr th:only-of-type {\n",
              "        vertical-align: middle;\n",
              "    }\n",
              "\n",
              "    .dataframe tbody tr th {\n",
              "        vertical-align: top;\n",
              "    }\n",
              "\n",
              "    .dataframe thead th {\n",
              "        text-align: right;\n",
              "    }\n",
              "</style>\n",
              "<table border=\"1\" class=\"dataframe\">\n",
              "  <thead>\n",
              "    <tr style=\"text-align: right;\">\n",
              "      <th></th>\n",
              "      <th>정류장명</th>\n",
              "      <th>경도</th>\n",
              "      <th>위도</th>\n",
              "    </tr>\n",
              "  </thead>\n",
              "  <tbody>\n",
              "    <tr>\n",
              "      <th>1909</th>\n",
              "      <td>월곡리</td>\n",
              "      <td>127.374093</td>\n",
              "      <td>36.623647</td>\n",
              "    </tr>\n",
              "    <tr>\n",
              "      <th>1910</th>\n",
              "      <td>월곡리.충청대학교</td>\n",
              "      <td>127.369895</td>\n",
              "      <td>36.624113</td>\n",
              "    </tr>\n",
              "  </tbody>\n",
              "</table>\n",
              "</div>"
            ],
            "text/plain": [
              "           정류장명          경도         위도\n",
              "1909        월곡리  127.374093  36.623647\n",
              "1910  월곡리.충청대학교  127.369895  36.624113"
            ]
          },
          "execution_count": 32,
          "metadata": {},
          "output_type": "execute_result"
        }
      ],
      "source": [
        "bus_sys[bus_sys['정류장명'].str.contains('월곡리')]"
      ]
    },
    {
      "cell_type": "code",
      "execution_count": null,
      "id": "c023dc8d-1a24-4b2e-a368-2e8ed213061d",
      "metadata": {
        "tags": [],
        "id": "c023dc8d-1a24-4b2e-a368-2e8ed213061d"
      },
      "outputs": [],
      "source": [
        "bus_sys[bus_sys['정류장명'] == '월곡리.충청대학교'] = '월곡리.충청대학'"
      ]
    },
    {
      "cell_type": "code",
      "execution_count": null,
      "id": "43b11c24-3654-4b64-8492-8f9abfeddcb3",
      "metadata": {
        "tags": [],
        "id": "43b11c24-3654-4b64-8492-8f9abfeddcb3",
        "outputId": "aff868d7-8cda-41e6-95f9-0df98e783b76"
      },
      "outputs": [
        {
          "data": {
            "text/html": [
              "<div>\n",
              "<style scoped>\n",
              "    .dataframe tbody tr th:only-of-type {\n",
              "        vertical-align: middle;\n",
              "    }\n",
              "\n",
              "    .dataframe tbody tr th {\n",
              "        vertical-align: top;\n",
              "    }\n",
              "\n",
              "    .dataframe thead th {\n",
              "        text-align: right;\n",
              "    }\n",
              "</style>\n",
              "<table border=\"1\" class=\"dataframe\">\n",
              "  <thead>\n",
              "    <tr style=\"text-align: right;\">\n",
              "      <th></th>\n",
              "      <th>정류장명</th>\n",
              "      <th>경도</th>\n",
              "      <th>위도</th>\n",
              "    </tr>\n",
              "  </thead>\n",
              "  <tbody>\n",
              "    <tr>\n",
              "      <th>1691</th>\n",
              "      <td>오송역 동아라이크텐아파트</td>\n",
              "      <td>127.309018</td>\n",
              "      <td>36.617231</td>\n",
              "    </tr>\n",
              "    <tr>\n",
              "      <th>1692</th>\n",
              "      <td>오송역 동아라이크텐아파트</td>\n",
              "      <td>127.309659</td>\n",
              "      <td>36.61686</td>\n",
              "    </tr>\n",
              "    <tr>\n",
              "      <th>1693</th>\n",
              "      <td>오송역3.4</td>\n",
              "      <td>127.327214</td>\n",
              "      <td>36.619296</td>\n",
              "    </tr>\n",
              "    <tr>\n",
              "      <th>1694</th>\n",
              "      <td>오송역5</td>\n",
              "      <td>127.3271</td>\n",
              "      <td>36.619384</td>\n",
              "    </tr>\n",
              "    <tr>\n",
              "      <th>1695</th>\n",
              "      <td>오송역6</td>\n",
              "      <td>127.326997</td>\n",
              "      <td>36.619461</td>\n",
              "    </tr>\n",
              "    <tr>\n",
              "      <th>1696</th>\n",
              "      <td>오송역7</td>\n",
              "      <td>127.326916</td>\n",
              "      <td>36.619535</td>\n",
              "    </tr>\n",
              "    <tr>\n",
              "      <th>1697</th>\n",
              "      <td>오송역8</td>\n",
              "      <td>127.326838</td>\n",
              "      <td>36.619608</td>\n",
              "    </tr>\n",
              "    <tr>\n",
              "      <th>1698</th>\n",
              "      <td>오송역북문</td>\n",
              "      <td>127.326077</td>\n",
              "      <td>36.623908</td>\n",
              "    </tr>\n",
              "    <tr>\n",
              "      <th>1699</th>\n",
              "      <td>오송역북문</td>\n",
              "      <td>127.325941</td>\n",
              "      <td>36.623611</td>\n",
              "    </tr>\n",
              "    <tr>\n",
              "      <th>1700</th>\n",
              "      <td>오송역북문</td>\n",
              "      <td>127.324804</td>\n",
              "      <td>36.623648</td>\n",
              "    </tr>\n",
              "    <tr>\n",
              "      <th>1701</th>\n",
              "      <td>오송역북문삼거리</td>\n",
              "      <td>127.327633</td>\n",
              "      <td>36.622559</td>\n",
              "    </tr>\n",
              "    <tr>\n",
              "      <th>1702</th>\n",
              "      <td>오송역북문삼거리</td>\n",
              "      <td>127.327381</td>\n",
              "      <td>36.622451</td>\n",
              "    </tr>\n",
              "    <tr>\n",
              "      <th>1703</th>\n",
              "      <td>오송역종점</td>\n",
              "      <td>127.327292</td>\n",
              "      <td>36.619187</td>\n",
              "    </tr>\n",
              "  </tbody>\n",
              "</table>\n",
              "</div>"
            ],
            "text/plain": [
              "               정류장명          경도         위도\n",
              "1691  오송역 동아라이크텐아파트  127.309018  36.617231\n",
              "1692  오송역 동아라이크텐아파트  127.309659   36.61686\n",
              "1693         오송역3.4  127.327214  36.619296\n",
              "1694           오송역5    127.3271  36.619384\n",
              "1695           오송역6  127.326997  36.619461\n",
              "1696           오송역7  127.326916  36.619535\n",
              "1697           오송역8  127.326838  36.619608\n",
              "1698          오송역북문  127.326077  36.623908\n",
              "1699          오송역북문  127.325941  36.623611\n",
              "1700          오송역북문  127.324804  36.623648\n",
              "1701       오송역북문삼거리  127.327633  36.622559\n",
              "1702       오송역북문삼거리  127.327381  36.622451\n",
              "1703          오송역종점  127.327292  36.619187"
            ]
          },
          "execution_count": 34,
          "metadata": {},
          "output_type": "execute_result"
        }
      ],
      "source": [
        "bus_sys[bus_sys['정류장명'].str.contains('오송역')]"
      ]
    },
    {
      "cell_type": "code",
      "execution_count": null,
      "id": "08a9edcb-986d-4b46-b334-4953d7304c0b",
      "metadata": {
        "tags": [],
        "id": "08a9edcb-986d-4b46-b334-4953d7304c0b"
      },
      "outputs": [],
      "source": [
        "bus_sys[bus_sys['정류장명'] == '오송역종점'] = '오송역'"
      ]
    },
    {
      "cell_type": "code",
      "execution_count": null,
      "id": "5ae435b5-e9b5-4f11-be52-3ca5d47b7a61",
      "metadata": {
        "tags": [],
        "id": "5ae435b5-e9b5-4f11-be52-3ca5d47b7a61",
        "outputId": "3fc90cfa-eb07-4acb-eb6c-c3dacc9207e2"
      },
      "outputs": [
        {
          "data": {
            "text/html": [
              "<div>\n",
              "<style scoped>\n",
              "    .dataframe tbody tr th:only-of-type {\n",
              "        vertical-align: middle;\n",
              "    }\n",
              "\n",
              "    .dataframe tbody tr th {\n",
              "        vertical-align: top;\n",
              "    }\n",
              "\n",
              "    .dataframe thead th {\n",
              "        text-align: right;\n",
              "    }\n",
              "</style>\n",
              "<table border=\"1\" class=\"dataframe\">\n",
              "  <thead>\n",
              "    <tr style=\"text-align: right;\">\n",
              "      <th></th>\n",
              "      <th>정류장명</th>\n",
              "      <th>경도</th>\n",
              "      <th>위도</th>\n",
              "    </tr>\n",
              "  </thead>\n",
              "  <tbody>\n",
              "    <tr>\n",
              "      <th>1036</th>\n",
              "      <td>분평1단지뜨란채아파트</td>\n",
              "      <td>127.487476</td>\n",
              "      <td>36.611104</td>\n",
              "    </tr>\n",
              "    <tr>\n",
              "      <th>1037</th>\n",
              "      <td>분평대원아파트</td>\n",
              "      <td>127.489848</td>\n",
              "      <td>36.609951</td>\n",
              "    </tr>\n",
              "    <tr>\n",
              "      <th>1038</th>\n",
              "      <td>분평대원아파트</td>\n",
              "      <td>127.489614</td>\n",
              "      <td>36.609953</td>\n",
              "    </tr>\n",
              "    <tr>\n",
              "      <th>1039</th>\n",
              "      <td>분평아파트단지종점 승차</td>\n",
              "      <td>127.492358</td>\n",
              "      <td>36.613706</td>\n",
              "    </tr>\n",
              "    <tr>\n",
              "      <th>1040</th>\n",
              "      <td>분평아파트단지종점 하차</td>\n",
              "      <td>127.494226</td>\n",
              "      <td>36.614341</td>\n",
              "    </tr>\n",
              "    <tr>\n",
              "      <th>1041</th>\n",
              "      <td>분평우체국</td>\n",
              "      <td>127.493213</td>\n",
              "      <td>36.611224</td>\n",
              "    </tr>\n",
              "    <tr>\n",
              "      <th>1042</th>\n",
              "      <td>분평현대대우아파트</td>\n",
              "      <td>127.487993</td>\n",
              "      <td>36.610909</td>\n",
              "    </tr>\n",
              "    <tr>\n",
              "      <th>1043</th>\n",
              "      <td>분평주공2단지</td>\n",
              "      <td>분평주공2단지</td>\n",
              "      <td>분평주공2단지</td>\n",
              "    </tr>\n",
              "    <tr>\n",
              "      <th>1044</th>\n",
              "      <td>분평휴먼시아5단지아파트</td>\n",
              "      <td>127.497094</td>\n",
              "      <td>36.608011</td>\n",
              "    </tr>\n",
              "    <tr>\n",
              "      <th>1045</th>\n",
              "      <td>분평휴먼시아5단지아파트</td>\n",
              "      <td>127.496859</td>\n",
              "      <td>36.608031</td>\n",
              "    </tr>\n",
              "    <tr>\n",
              "      <th>1046</th>\n",
              "      <td>분평휴먼시아6단지</td>\n",
              "      <td>127.491692</td>\n",
              "      <td>36.60606</td>\n",
              "    </tr>\n",
              "    <tr>\n",
              "      <th>1047</th>\n",
              "      <td>분평휴먼시아6단지아파트</td>\n",
              "      <td>127.489729</td>\n",
              "      <td>36.607356</td>\n",
              "    </tr>\n",
              "    <tr>\n",
              "      <th>1048</th>\n",
              "      <td>분평휴먼시아6단지아파트</td>\n",
              "      <td>127.492708</td>\n",
              "      <td>36.606302</td>\n",
              "    </tr>\n",
              "    <tr>\n",
              "      <th>1049</th>\n",
              "      <td>분평휴먼시아7단지아파트</td>\n",
              "      <td>127.489495</td>\n",
              "      <td>36.607304</td>\n",
              "    </tr>\n",
              "  </tbody>\n",
              "</table>\n",
              "</div>"
            ],
            "text/plain": [
              "              정류장명          경도         위도\n",
              "1036   분평1단지뜨란채아파트  127.487476  36.611104\n",
              "1037       분평대원아파트  127.489848  36.609951\n",
              "1038       분평대원아파트  127.489614  36.609953\n",
              "1039  분평아파트단지종점 승차  127.492358  36.613706\n",
              "1040  분평아파트단지종점 하차  127.494226  36.614341\n",
              "1041         분평우체국  127.493213  36.611224\n",
              "1042     분평현대대우아파트  127.487993  36.610909\n",
              "1043       분평주공2단지     분평주공2단지    분평주공2단지\n",
              "1044  분평휴먼시아5단지아파트  127.497094  36.608011\n",
              "1045  분평휴먼시아5단지아파트  127.496859  36.608031\n",
              "1046     분평휴먼시아6단지  127.491692   36.60606\n",
              "1047  분평휴먼시아6단지아파트  127.489729  36.607356\n",
              "1048  분평휴먼시아6단지아파트  127.492708  36.606302\n",
              "1049  분평휴먼시아7단지아파트  127.489495  36.607304"
            ]
          },
          "execution_count": 36,
          "metadata": {},
          "output_type": "execute_result"
        }
      ],
      "source": [
        "bus_sys[bus_sys['정류장명'].str.contains('분평')]"
      ]
    },
    {
      "cell_type": "code",
      "execution_count": null,
      "id": "1bf3bd2d-0cd6-4605-85c9-d24d8f62012b",
      "metadata": {
        "tags": [],
        "id": "1bf3bd2d-0cd6-4605-85c9-d24d8f62012b"
      },
      "outputs": [],
      "source": [
        "bus_sys[bus_sys['정류장명'] == '분평1단지뜨란채아파트'] = '분평뜨란채1단지'"
      ]
    },
    {
      "cell_type": "code",
      "execution_count": null,
      "id": "dfec5065-a3ec-4cd1-87e2-77c497b686c9",
      "metadata": {
        "tags": [],
        "id": "dfec5065-a3ec-4cd1-87e2-77c497b686c9"
      },
      "outputs": [],
      "source": [
        "df_2 = pd.merge(bus_cj, bus_sys, how='left', on='정류장명')"
      ]
    },
    {
      "cell_type": "code",
      "execution_count": null,
      "id": "96a3bd11-5b1a-475d-af6f-5eca12105bf0",
      "metadata": {
        "tags": [],
        "id": "96a3bd11-5b1a-475d-af6f-5eca12105bf0",
        "outputId": "39c2d2bf-1355-4de1-da39-ea3c0e73e17b"
      },
      "outputs": [
        {
          "name": "stdout",
          "output_type": "stream",
          "text": [
            "<class 'pandas.core.frame.DataFrame'>\n",
            "Int64Index: 92 entries, 0 to 91\n",
            "Data columns (total 6 columns):\n",
            " #   Column  Non-Null Count  Dtype \n",
            "---  ------  --------------  ----- \n",
            " 0   정류장명    92 non-null     object\n",
            " 1   승차소계    92 non-null     object\n",
            " 2   하차소계    92 non-null     object\n",
            " 3   총 이용인원  92 non-null     object\n",
            " 4   경도      92 non-null     object\n",
            " 5   위도      92 non-null     object\n",
            "dtypes: object(6)\n",
            "memory usage: 5.0+ KB\n"
          ]
        }
      ],
      "source": [
        "df_2.info()"
      ]
    },
    {
      "cell_type": "code",
      "execution_count": null,
      "id": "c7a69338-8c15-4e87-91d6-b66fa7685eab",
      "metadata": {
        "tags": [],
        "id": "c7a69338-8c15-4e87-91d6-b66fa7685eab",
        "outputId": "ee1d3f30-5791-4961-bcf7-48caf8d70a8b"
      },
      "outputs": [
        {
          "data": {
            "text/html": [
              "<div>\n",
              "<style scoped>\n",
              "    .dataframe tbody tr th:only-of-type {\n",
              "        vertical-align: middle;\n",
              "    }\n",
              "\n",
              "    .dataframe tbody tr th {\n",
              "        vertical-align: top;\n",
              "    }\n",
              "\n",
              "    .dataframe thead th {\n",
              "        text-align: right;\n",
              "    }\n",
              "</style>\n",
              "<table border=\"1\" class=\"dataframe\">\n",
              "  <thead>\n",
              "    <tr style=\"text-align: right;\">\n",
              "      <th></th>\n",
              "      <th>정류장명</th>\n",
              "      <th>승차소계</th>\n",
              "      <th>하차소계</th>\n",
              "      <th>총 이용인원</th>\n",
              "      <th>경도</th>\n",
              "      <th>위도</th>\n",
              "    </tr>\n",
              "  </thead>\n",
              "  <tbody>\n",
              "    <tr>\n",
              "      <th>0</th>\n",
              "      <td>시외버스터미널</td>\n",
              "      <td>6,170</td>\n",
              "      <td>2,719</td>\n",
              "      <td>8,890</td>\n",
              "      <td>127.431529</td>\n",
              "      <td>36.625579</td>\n",
              "    </tr>\n",
              "    <tr>\n",
              "      <th>1</th>\n",
              "      <td>지하상가</td>\n",
              "      <td>4,005</td>\n",
              "      <td>1,144</td>\n",
              "      <td>5,148</td>\n",
              "      <td>127.488093</td>\n",
              "      <td>36.636995</td>\n",
              "    </tr>\n",
              "    <tr>\n",
              "      <th>2</th>\n",
              "      <td>지하상가</td>\n",
              "      <td>4,005</td>\n",
              "      <td>1,144</td>\n",
              "      <td>5,148</td>\n",
              "      <td>127.488556</td>\n",
              "      <td>36.636827</td>\n",
              "    </tr>\n",
              "    <tr>\n",
              "      <th>3</th>\n",
              "      <td>도청</td>\n",
              "      <td>2,719</td>\n",
              "      <td>1,971</td>\n",
              "      <td>4,692</td>\n",
              "      <td>127.490759</td>\n",
              "      <td>36.634176</td>\n",
              "    </tr>\n",
              "    <tr>\n",
              "      <th>4</th>\n",
              "      <td>도청</td>\n",
              "      <td>2,719</td>\n",
              "      <td>1,971</td>\n",
              "      <td>4,692</td>\n",
              "      <td>127.490451</td>\n",
              "      <td>36.634972</td>\n",
              "    </tr>\n",
              "  </tbody>\n",
              "</table>\n",
              "</div>"
            ],
            "text/plain": [
              "      정류장명   승차소계   하차소계 총 이용인원          경도         위도\n",
              "0  시외버스터미널  6,170  2,719  8,890  127.431529  36.625579\n",
              "1     지하상가  4,005  1,144  5,148  127.488093  36.636995\n",
              "2     지하상가  4,005  1,144  5,148  127.488556  36.636827\n",
              "3       도청  2,719  1,971  4,692  127.490759  36.634176\n",
              "4       도청  2,719  1,971  4,692  127.490451  36.634972"
            ]
          },
          "execution_count": 40,
          "metadata": {},
          "output_type": "execute_result"
        }
      ],
      "source": [
        "df_2.head()"
      ]
    },
    {
      "cell_type": "code",
      "execution_count": null,
      "id": "066a70ea-5a44-4517-9c88-26e3229915b8",
      "metadata": {
        "tags": [],
        "id": "066a70ea-5a44-4517-9c88-26e3229915b8",
        "outputId": "132175ab-5766-433b-c254-bff3fb67721a"
      },
      "outputs": [
        {
          "data": {
            "text/html": [
              "<div>\n",
              "<style scoped>\n",
              "    .dataframe tbody tr th:only-of-type {\n",
              "        vertical-align: middle;\n",
              "    }\n",
              "\n",
              "    .dataframe tbody tr th {\n",
              "        vertical-align: top;\n",
              "    }\n",
              "\n",
              "    .dataframe thead th {\n",
              "        text-align: right;\n",
              "    }\n",
              "</style>\n",
              "<table border=\"1\" class=\"dataframe\">\n",
              "  <thead>\n",
              "    <tr style=\"text-align: right;\">\n",
              "      <th></th>\n",
              "      <th>시군구</th>\n",
              "      <th>읍면동</th>\n",
              "      <th>설치장소</th>\n",
              "      <th>설치 도로명주소</th>\n",
              "      <th>설치 지번주소</th>\n",
              "    </tr>\n",
              "  </thead>\n",
              "  <tbody>\n",
              "    <tr>\n",
              "      <th>0</th>\n",
              "      <td>청주시상당구</td>\n",
              "      <td>중앙동</td>\n",
              "      <td>포토이즘 앞</td>\n",
              "      <td>상당구 사직대로 371</td>\n",
              "      <td>북문로2가 54-2</td>\n",
              "    </tr>\n",
              "    <tr>\n",
              "      <th>1</th>\n",
              "      <td>청주시상당구</td>\n",
              "      <td>중앙동</td>\n",
              "      <td>신한은행 앞</td>\n",
              "      <td>상당구 사직대로 343</td>\n",
              "      <td>NaN</td>\n",
              "    </tr>\n",
              "    <tr>\n",
              "      <th>2</th>\n",
              "      <td>청주시상당구</td>\n",
              "      <td>중앙동</td>\n",
              "      <td>한성저축은행 맞은편</td>\n",
              "      <td>상당구 상당로 145</td>\n",
              "      <td>북문로3가 119</td>\n",
              "    </tr>\n",
              "    <tr>\n",
              "      <th>3</th>\n",
              "      <td>청주시상당구</td>\n",
              "      <td>중앙동</td>\n",
              "      <td>방아다리 추어탕집 앞</td>\n",
              "      <td>NaN</td>\n",
              "      <td>북문로3가 113</td>\n",
              "    </tr>\n",
              "    <tr>\n",
              "      <th>4</th>\n",
              "      <td>청주시상당구</td>\n",
              "      <td>중앙동</td>\n",
              "      <td>상당공원사거리 교통섬</td>\n",
              "      <td>NaN</td>\n",
              "      <td>북문로2가 39-3</td>\n",
              "    </tr>\n",
              "  </tbody>\n",
              "</table>\n",
              "</div>"
            ],
            "text/plain": [
              "      시군구  읍면동         설치장소      설치 도로명주소     설치 지번주소\n",
              "0  청주시상당구  중앙동       포토이즘 앞  상당구 사직대로 371  북문로2가 54-2\n",
              "1  청주시상당구  중앙동       신한은행 앞  상당구 사직대로 343         NaN\n",
              "2  청주시상당구  중앙동   한성저축은행 맞은편   상당구 상당로 145   북문로3가 119\n",
              "3  청주시상당구  중앙동  방아다리 추어탕집 앞           NaN   북문로3가 113\n",
              "4  청주시상당구  중앙동  상당공원사거리 교통섬           NaN  북문로2가 39-3"
            ]
          },
          "execution_count": 41,
          "metadata": {},
          "output_type": "execute_result"
        }
      ],
      "source": [
        "screen.head()"
      ]
    },
    {
      "cell_type": "code",
      "execution_count": null,
      "id": "879d5060-6671-4666-9ce1-95e853304485",
      "metadata": {
        "tags": [],
        "id": "879d5060-6671-4666-9ce1-95e853304485",
        "outputId": "8059552f-bd5a-49c7-e38d-792036e543cb"
      },
      "outputs": [
        {
          "name": "stdout",
          "output_type": "stream",
          "text": [
            "Requirement already satisfied: folium in c:\\users\\jaein\\ana\\lib\\site-packages (0.14.0)\n",
            "Requirement already satisfied: branca>=0.6.0 in c:\\users\\jaein\\ana\\lib\\site-packages (from folium) (0.6.0)\n",
            "Requirement already satisfied: jinja2>=2.9 in c:\\users\\jaein\\ana\\lib\\site-packages (from folium) (3.1.2)\n",
            "Requirement already satisfied: numpy in c:\\users\\jaein\\ana\\lib\\site-packages (from folium) (1.24.3)\n",
            "Requirement already satisfied: requests in c:\\users\\jaein\\ana\\lib\\site-packages (from folium) (2.29.0)\n",
            "Requirement already satisfied: MarkupSafe>=2.0 in c:\\users\\jaein\\ana\\lib\\site-packages (from jinja2>=2.9->folium) (2.1.1)\n",
            "Requirement already satisfied: charset-normalizer<4,>=2 in c:\\users\\jaein\\ana\\lib\\site-packages (from requests->folium) (2.0.4)\n",
            "Requirement already satisfied: idna<4,>=2.5 in c:\\users\\jaein\\ana\\lib\\site-packages (from requests->folium) (3.4)\n",
            "Requirement already satisfied: urllib3<1.27,>=1.21.1 in c:\\users\\jaein\\ana\\lib\\site-packages (from requests->folium) (1.26.16)\n",
            "Requirement already satisfied: certifi>=2017.4.17 in c:\\users\\jaein\\ana\\lib\\site-packages (from requests->folium) (2023.5.7)\n"
          ]
        }
      ],
      "source": [
        "!pip install folium"
      ]
    },
    {
      "cell_type": "code",
      "execution_count": null,
      "id": "38c6eb4e-4150-40b1-aa1f-5980c88503f8",
      "metadata": {
        "tags": [],
        "id": "38c6eb4e-4150-40b1-aa1f-5980c88503f8",
        "outputId": "c87669f7-6931-4bd9-a5b6-45bb605c7894"
      },
      "outputs": [
        {
          "name": "stdout",
          "output_type": "stream",
          "text": [
            "Requirement already satisfied: geopy in c:\\users\\jaein\\ana\\lib\\site-packages (2.3.0)\n",
            "Requirement already satisfied: geographiclib<3,>=1.52 in c:\\users\\jaein\\ana\\lib\\site-packages (from geopy) (2.0)\n"
          ]
        }
      ],
      "source": [
        "!pip install geopy"
      ]
    },
    {
      "cell_type": "code",
      "execution_count": null,
      "id": "055212c4-3d77-4506-8582-f6d5dbca0300",
      "metadata": {
        "tags": [],
        "id": "055212c4-3d77-4506-8582-f6d5dbca0300"
      },
      "outputs": [],
      "source": [
        "import folium\n",
        "from geopy.geocoders import Nominatim"
      ]
    },
    {
      "cell_type": "code",
      "execution_count": null,
      "id": "0c84b5f8-657e-42b6-8e4a-b779e570a104",
      "metadata": {
        "tags": [],
        "id": "0c84b5f8-657e-42b6-8e4a-b779e570a104",
        "outputId": "6241d030-9469-406e-f97e-1b90be1d5297"
      },
      "outputs": [
        {
          "name": "stdout",
          "output_type": "stream",
          "text": [
            "<class 'pandas.core.frame.DataFrame'>\n",
            "RangeIndex: 316 entries, 0 to 315\n",
            "Data columns (total 5 columns):\n",
            " #   Column    Non-Null Count  Dtype \n",
            "---  ------    --------------  ----- \n",
            " 0   시군구       316 non-null    object\n",
            " 1   읍면동       316 non-null    object\n",
            " 2   설치장소      316 non-null    object\n",
            " 3   설치 도로명주소  112 non-null    object\n",
            " 4   설치 지번주소   304 non-null    object\n",
            "dtypes: object(5)\n",
            "memory usage: 12.5+ KB\n"
          ]
        }
      ],
      "source": [
        "screen.info()"
      ]
    },
    {
      "cell_type": "code",
      "execution_count": null,
      "id": "f188e344-775f-4d46-9324-26a1639852da",
      "metadata": {
        "id": "f188e344-775f-4d46-9324-26a1639852da"
      },
      "outputs": [],
      "source": [
        "ad1 = screen[screen['설치 도로명주소'].notnull()]['설치 도로명주소']"
      ]
    },
    {
      "cell_type": "code",
      "execution_count": null,
      "id": "e2d43700-4f20-4ae6-80c7-13ea86c2637a",
      "metadata": {
        "id": "e2d43700-4f20-4ae6-80c7-13ea86c2637a"
      },
      "outputs": [],
      "source": [
        "ad2 = screen[screen['설치 지번주소'].notnull()]['설치 지번주소']"
      ]
    },
    {
      "cell_type": "code",
      "execution_count": null,
      "id": "60f55177-297e-4f3f-aa52-0744edf5ecf3",
      "metadata": {
        "id": "60f55177-297e-4f3f-aa52-0744edf5ecf3",
        "outputId": "48054f6d-7f4e-445b-99c6-36b13d3e6e72"
      },
      "outputs": [
        {
          "name": "stdout",
          "output_type": "stream",
          "text": [
            "<class 'pandas.core.series.Series'>\n",
            "Int64Index: 112 entries, 0 to 313\n",
            "Series name: 설치 도로명주소\n",
            "Non-Null Count  Dtype \n",
            "--------------  ----- \n",
            "112 non-null    object\n",
            "dtypes: object(1)\n",
            "memory usage: 1.8+ KB\n"
          ]
        }
      ],
      "source": [
        "ad1.info()"
      ]
    },
    {
      "cell_type": "code",
      "execution_count": null,
      "id": "edf7452d-64a0-45d2-b13e-15338a0226e2",
      "metadata": {
        "tags": [],
        "id": "edf7452d-64a0-45d2-b13e-15338a0226e2",
        "outputId": "985fd93c-1f97-41b0-c6ee-1c0d8896530b"
      },
      "outputs": [
        {
          "name": "stdout",
          "output_type": "stream",
          "text": [
            "<class 'pandas.core.series.Series'>\n",
            "Int64Index: 304 entries, 0 to 315\n",
            "Series name: 설치 지번주소\n",
            "Non-Null Count  Dtype \n",
            "--------------  ----- \n",
            "304 non-null    object\n",
            "dtypes: object(1)\n",
            "memory usage: 4.8+ KB\n"
          ]
        }
      ],
      "source": [
        "ad2.info()"
      ]
    },
    {
      "cell_type": "code",
      "execution_count": null,
      "id": "0453395c-4e77-4312-be75-254a58ecac55",
      "metadata": {
        "tags": [],
        "id": "0453395c-4e77-4312-be75-254a58ecac55"
      },
      "outputs": [],
      "source": [
        "ad = screen[['설치 도로명주소', '설치 지번주소']]"
      ]
    },
    {
      "cell_type": "code",
      "execution_count": null,
      "id": "602a7dec-cff4-4049-b8f6-8a292bd16704",
      "metadata": {
        "tags": [],
        "id": "602a7dec-cff4-4049-b8f6-8a292bd16704",
        "outputId": "2221edba-57fc-4827-b20e-d85e1c454a22"
      },
      "outputs": [
        {
          "data": {
            "text/plain": [
              "설치 도로명주소    0.0\n",
              "설치 지번주소     0.0\n",
              "dtype: float64"
            ]
          },
          "execution_count": 201,
          "metadata": {},
          "output_type": "execute_result"
        }
      ],
      "source": [
        "ad[np.logical_and(ad['설치 도로명주소'].isna(), ad['설치 지번주소'].isna())].sum()"
      ]
    },
    {
      "cell_type": "code",
      "execution_count": null,
      "id": "1f2d3c44-d203-404f-8c65-c9f8e6709fda",
      "metadata": {
        "tags": [],
        "id": "1f2d3c44-d203-404f-8c65-c9f8e6709fda"
      },
      "outputs": [],
      "source": [
        "j_idx = ad[ad['설치 도로명주소'].isna() == True].index"
      ]
    },
    {
      "cell_type": "code",
      "execution_count": null,
      "id": "1491842a-d465-4513-a3c2-d78f1b83209c",
      "metadata": {
        "tags": [],
        "id": "1491842a-d465-4513-a3c2-d78f1b83209c"
      },
      "outputs": [],
      "source": [
        "j_idx = list(j_idx)"
      ]
    },
    {
      "cell_type": "code",
      "execution_count": null,
      "id": "44c6545a-5af6-437c-9a96-ddcbedb78a9b",
      "metadata": {
        "tags": [],
        "id": "44c6545a-5af6-437c-9a96-ddcbedb78a9b",
        "outputId": "249d6b0d-b3f5-4dc3-d924-74002d1ccf4b"
      },
      "outputs": [
        {
          "data": {
            "text/plain": [
              "True"
            ]
          },
          "execution_count": 239,
          "metadata": {},
          "output_type": "execute_result"
        }
      ],
      "source": [
        "3 in j_idx"
      ]
    },
    {
      "cell_type": "code",
      "execution_count": null,
      "id": "2b9f1fc9-aaa2-4366-a3fb-89f68df16230",
      "metadata": {
        "tags": [],
        "id": "2b9f1fc9-aaa2-4366-a3fb-89f68df16230"
      },
      "outputs": [],
      "source": [
        "for i in range(len(ad)):\n",
        "    if i in j_idx:\n",
        "        screen['주소'][i] = '청주시 ' + screen['설치 지번주소'][i]\n",
        "    else:\n",
        "        screen['주소'][i] = screen['설치 도로명주소'][i]"
      ]
    },
    {
      "cell_type": "code",
      "execution_count": null,
      "id": "05a6d6c9-b3a7-4b9f-aabf-dad34380122f",
      "metadata": {
        "tags": [],
        "id": "05a6d6c9-b3a7-4b9f-aabf-dad34380122f",
        "outputId": "8054b630-1f20-4241-c436-a5227806aa28"
      },
      "outputs": [
        {
          "data": {
            "text/html": [
              "<div>\n",
              "<style scoped>\n",
              "    .dataframe tbody tr th:only-of-type {\n",
              "        vertical-align: middle;\n",
              "    }\n",
              "\n",
              "    .dataframe tbody tr th {\n",
              "        vertical-align: top;\n",
              "    }\n",
              "\n",
              "    .dataframe thead th {\n",
              "        text-align: right;\n",
              "    }\n",
              "</style>\n",
              "<table border=\"1\" class=\"dataframe\">\n",
              "  <thead>\n",
              "    <tr style=\"text-align: right;\">\n",
              "      <th></th>\n",
              "      <th>시군구</th>\n",
              "      <th>읍면동</th>\n",
              "      <th>설치장소</th>\n",
              "      <th>설치 도로명주소</th>\n",
              "      <th>설치 지번주소</th>\n",
              "      <th>주소</th>\n",
              "    </tr>\n",
              "  </thead>\n",
              "  <tbody>\n",
              "    <tr>\n",
              "      <th>0</th>\n",
              "      <td>청주시상당구</td>\n",
              "      <td>중앙동</td>\n",
              "      <td>포토이즘 앞</td>\n",
              "      <td>상당구 사직대로 371</td>\n",
              "      <td>북문로2가 54-2</td>\n",
              "      <td>상당구 사직대로 371</td>\n",
              "    </tr>\n",
              "    <tr>\n",
              "      <th>1</th>\n",
              "      <td>청주시상당구</td>\n",
              "      <td>중앙동</td>\n",
              "      <td>신한은행 앞</td>\n",
              "      <td>상당구 사직대로 343</td>\n",
              "      <td>NaN</td>\n",
              "      <td>상당구 사직대로 343</td>\n",
              "    </tr>\n",
              "    <tr>\n",
              "      <th>2</th>\n",
              "      <td>청주시상당구</td>\n",
              "      <td>중앙동</td>\n",
              "      <td>한성저축은행 맞은편</td>\n",
              "      <td>상당구 상당로 145</td>\n",
              "      <td>북문로3가 119</td>\n",
              "      <td>상당구 상당로 145</td>\n",
              "    </tr>\n",
              "    <tr>\n",
              "      <th>3</th>\n",
              "      <td>청주시상당구</td>\n",
              "      <td>중앙동</td>\n",
              "      <td>방아다리 추어탕집 앞</td>\n",
              "      <td>NaN</td>\n",
              "      <td>북문로3가 113</td>\n",
              "      <td>청주시 북문로3가 113</td>\n",
              "    </tr>\n",
              "    <tr>\n",
              "      <th>4</th>\n",
              "      <td>청주시상당구</td>\n",
              "      <td>중앙동</td>\n",
              "      <td>상당공원사거리 교통섬</td>\n",
              "      <td>NaN</td>\n",
              "      <td>북문로2가 39-3</td>\n",
              "      <td>청주시 북문로2가 39-3</td>\n",
              "    </tr>\n",
              "    <tr>\n",
              "      <th>5</th>\n",
              "      <td>청주시상당구</td>\n",
              "      <td>성안동</td>\n",
              "      <td>성안길 에잇세컨즈 앞</td>\n",
              "      <td>NaN</td>\n",
              "      <td>북문로1가 106</td>\n",
              "      <td>청주시 북문로1가 106</td>\n",
              "    </tr>\n",
              "    <tr>\n",
              "      <th>6</th>\n",
              "      <td>청주시상당구</td>\n",
              "      <td>성안동</td>\n",
              "      <td>구남궁병원사거리 대원칸타빌 앞</td>\n",
              "      <td>상당구 남사로 137</td>\n",
              "      <td>NaN</td>\n",
              "      <td>상당구 남사로 137</td>\n",
              "    </tr>\n",
              "    <tr>\n",
              "      <th>7</th>\n",
              "      <td>청주시상당구</td>\n",
              "      <td>성안동</td>\n",
              "      <td>충북도청사거리 도민홍보관 앞</td>\n",
              "      <td>NaN</td>\n",
              "      <td>문화동 89-3</td>\n",
              "      <td>청주시 문화동 89-3</td>\n",
              "    </tr>\n",
              "    <tr>\n",
              "      <th>8</th>\n",
              "      <td>청주시상당구</td>\n",
              "      <td>성안동</td>\n",
              "      <td>구법원사거리 맞은편 공원쪽</td>\n",
              "      <td>상당구 용담로14-3</td>\n",
              "      <td>문화동 52</td>\n",
              "      <td>상당구 용담로14-3</td>\n",
              "    </tr>\n",
              "    <tr>\n",
              "      <th>9</th>\n",
              "      <td>청주시상당구</td>\n",
              "      <td>성안동</td>\n",
              "      <td>석교육거리 유정훈치과 앞 교통섬</td>\n",
              "      <td>상당구 상당로1번길 2</td>\n",
              "      <td>석교동 126-118</td>\n",
              "      <td>상당구 상당로1번길 2</td>\n",
              "    </tr>\n",
              "  </tbody>\n",
              "</table>\n",
              "</div>"
            ],
            "text/plain": [
              "      시군구  읍면동               설치장소      설치 도로명주소      설치 지번주소              주소\n",
              "0  청주시상당구  중앙동             포토이즘 앞  상당구 사직대로 371   북문로2가 54-2    상당구 사직대로 371\n",
              "1  청주시상당구  중앙동             신한은행 앞  상당구 사직대로 343          NaN    상당구 사직대로 343\n",
              "2  청주시상당구  중앙동         한성저축은행 맞은편   상당구 상당로 145    북문로3가 119     상당구 상당로 145\n",
              "3  청주시상당구  중앙동        방아다리 추어탕집 앞           NaN    북문로3가 113   청주시 북문로3가 113\n",
              "4  청주시상당구  중앙동        상당공원사거리 교통섬           NaN   북문로2가 39-3  청주시 북문로2가 39-3\n",
              "5  청주시상당구  성안동        성안길 에잇세컨즈 앞           NaN    북문로1가 106   청주시 북문로1가 106\n",
              "6  청주시상당구  성안동   구남궁병원사거리 대원칸타빌 앞   상당구 남사로 137          NaN     상당구 남사로 137\n",
              "7  청주시상당구  성안동    충북도청사거리 도민홍보관 앞           NaN     문화동 89-3    청주시 문화동 89-3\n",
              "8  청주시상당구  성안동     구법원사거리 맞은편 공원쪽   상당구 용담로14-3       문화동 52     상당구 용담로14-3\n",
              "9  청주시상당구  성안동  석교육거리 유정훈치과 앞 교통섬  상당구 상당로1번길 2  석교동 126-118    상당구 상당로1번길 2"
            ]
          },
          "execution_count": 294,
          "metadata": {},
          "output_type": "execute_result"
        }
      ],
      "source": [
        "screen.head(10)"
      ]
    },
    {
      "cell_type": "code",
      "execution_count": null,
      "id": "848bea2b-7e94-4ff4-a40f-c5c3668816b9",
      "metadata": {
        "tags": [],
        "id": "848bea2b-7e94-4ff4-a40f-c5c3668816b9",
        "outputId": "9e1f112e-8602-4174-f34c-9b9e985ed87d"
      },
      "outputs": [
        {
          "data": {
            "text/plain": [
              "0"
            ]
          },
          "execution_count": 295,
          "metadata": {},
          "output_type": "execute_result"
        }
      ],
      "source": [
        "screen.주소.isna().sum()"
      ]
    },
    {
      "cell_type": "code",
      "execution_count": null,
      "id": "91d315ef-f479-40c9-a9fb-627f4dbbcd21",
      "metadata": {
        "tags": [],
        "id": "91d315ef-f479-40c9-a9fb-627f4dbbcd21"
      },
      "outputs": [],
      "source": [
        "addr = screen['주소']"
      ]
    },
    {
      "cell_type": "code",
      "execution_count": null,
      "id": "4fd4508b-1684-4969-843b-6614835994e7",
      "metadata": {
        "tags": [],
        "id": "4fd4508b-1684-4969-843b-6614835994e7",
        "outputId": "091c6788-a380-4e9c-fa76-ba097825efa8"
      },
      "outputs": [
        {
          "name": "stdout",
          "output_type": "stream",
          "text": [
            "<class 'pandas.core.series.Series'>\n",
            "RangeIndex: 316 entries, 0 to 315\n",
            "Series name: 주소\n",
            "Non-Null Count  Dtype \n",
            "--------------  ----- \n",
            "316 non-null    object\n",
            "dtypes: object(1)\n",
            "memory usage: 2.6+ KB\n"
          ]
        }
      ],
      "source": [
        "addr.info()"
      ]
    },
    {
      "cell_type": "code",
      "execution_count": null,
      "id": "e00755c6-49a9-4259-9ac3-f77e29e3fec7",
      "metadata": {
        "tags": [],
        "id": "e00755c6-49a9-4259-9ac3-f77e29e3fec7",
        "outputId": "6d5ddbc8-d4b1-48cf-8b82-d1106c198059"
      },
      "outputs": [
        {
          "data": {
            "text/plain": [
              "0    상당구 사직대로 371\n",
              "1    상당구 사직대로 343\n",
              "2     상당구 상당로 145\n",
              "Name: 주소, dtype: object"
            ]
          },
          "execution_count": 298,
          "metadata": {},
          "output_type": "execute_result"
        }
      ],
      "source": [
        "addr[0:3]"
      ]
    },
    {
      "cell_type": "code",
      "execution_count": null,
      "id": "a4ee9e0f-5250-4acb-9e3c-5d75c10fbe9e",
      "metadata": {
        "tags": [],
        "id": "a4ee9e0f-5250-4acb-9e3c-5d75c10fbe9e",
        "outputId": "61cbeee7-bbcc-4123-80a5-5c48637505e4"
      },
      "outputs": [
        {
          "data": {
            "text/plain": [
              "0    상당구 사직대로 371\n",
              "1    상당구 사직대로 343\n",
              "2     상당구 상당로 145\n",
              "Name: 설치 도로명주소, dtype: object"
            ]
          },
          "execution_count": 299,
          "metadata": {},
          "output_type": "execute_result"
        }
      ],
      "source": [
        "ad1[0:3]"
      ]
    },
    {
      "cell_type": "code",
      "execution_count": null,
      "id": "368620ca-3ea0-462c-b8b5-a9279d0652eb",
      "metadata": {
        "tags": [],
        "id": "368620ca-3ea0-462c-b8b5-a9279d0652eb",
        "outputId": "9b9504ce-4471-4198-8f4e-c65d102c5d63"
      },
      "outputs": [
        {
          "data": {
            "text/plain": [
              "array([36.62557898, 36.63699526, 36.63682718, 36.63417647, 36.63497179,\n",
              "       36.63155959, 36.63867605, 36.63827951, 36.65074073, 36.65085033,\n",
              "       36.63361262, 36.63594787, 36.63574149, 36.63486487, 36.63496662,\n",
              "       36.63556306, 36.63533062, 36.62971752, 36.62769498, '고속.시외터미널',\n",
              "       36.63288973, 36.63674923, 36.63665262, '문화산업단지', 36.627554,\n",
              "       36.63453715, 36.63443041, 36.63474553, 36.63458638, 36.62669942,\n",
              "       36.62746916, 36.63433755, 36.63411569, 36.61717969, '조치원역',\n",
              "       36.64163614, 36.64174424, 36.63363092, '사직사거리', 36.62653722,\n",
              "       36.6259352, '분평주공2단지', 36.64737816, 36.64809781, '중앙여고,사창시장',\n",
              "       36.67047046, 36.6710134, 36.61337726, 36.66756694, 36.64147702,\n",
              "       36.64152733, 36.61048324, 36.6102633, '월곡리.충청대학', '오송역',\n",
              "       '분평뜨란채1단지', 36.6352951, 36.63548934], dtype=object)"
            ]
          },
          "execution_count": 323,
          "metadata": {},
          "output_type": "execute_result"
        }
      ],
      "source": [
        "df_2.위도.unique()"
      ]
    },
    {
      "cell_type": "code",
      "execution_count": null,
      "id": "c2ead727-ed44-4d80-9ebd-0965aa5802cd",
      "metadata": {
        "tags": [],
        "id": "c2ead727-ed44-4d80-9ebd-0965aa5802cd",
        "outputId": "6d434103-0c2b-48c6-9538-a147d7fed9f5"
      },
      "outputs": [
        {
          "ename": "ValueError",
          "evalue": "Location should consist of two numerical values, but 0     36.625579\n1     36.636995\n2     36.636827\n3     36.634176\n4     36.634972\n        ...    \n87     36.61718\n88    중앙여고,사창시장\n89    중앙여고,사창시장\n90    36.635295\n91    36.635489\nName: 위도, Length: 92, dtype: object of type <class 'pandas.core.series.Series'> is not convertible to float.",
          "output_type": "error",
          "traceback": [
            "\u001b[1;31m---------------------------------------------------------------------------\u001b[0m",
            "\u001b[1;31mTypeError\u001b[0m                                 Traceback (most recent call last)",
            "File \u001b[1;32m~\\ana\\Lib\\site-packages\\folium\\utilities.py:69\u001b[0m, in \u001b[0;36mvalidate_location\u001b[1;34m(location)\u001b[0m\n\u001b[0;32m     68\u001b[0m \u001b[38;5;28;01mtry\u001b[39;00m:\n\u001b[1;32m---> 69\u001b[0m     \u001b[38;5;28mfloat\u001b[39m(coord)\n\u001b[0;32m     70\u001b[0m \u001b[38;5;28;01mexcept\u001b[39;00m (\u001b[38;5;167;01mTypeError\u001b[39;00m, \u001b[38;5;167;01mValueError\u001b[39;00m):\n",
            "File \u001b[1;32m~\\ana\\Lib\\site-packages\\pandas\\core\\series.py:206\u001b[0m, in \u001b[0;36m_coerce_method.<locals>.wrapper\u001b[1;34m(self)\u001b[0m\n\u001b[0;32m    205\u001b[0m     \u001b[38;5;28;01mreturn\u001b[39;00m converter(\u001b[38;5;28mself\u001b[39m\u001b[38;5;241m.\u001b[39miloc[\u001b[38;5;241m0\u001b[39m])\n\u001b[1;32m--> 206\u001b[0m \u001b[38;5;28;01mraise\u001b[39;00m \u001b[38;5;167;01mTypeError\u001b[39;00m(\u001b[38;5;124mf\u001b[39m\u001b[38;5;124m\"\u001b[39m\u001b[38;5;124mcannot convert the series to \u001b[39m\u001b[38;5;132;01m{\u001b[39;00mconverter\u001b[38;5;132;01m}\u001b[39;00m\u001b[38;5;124m\"\u001b[39m)\n",
            "\u001b[1;31mTypeError\u001b[0m: cannot convert the series to <class 'float'>",
            "\nDuring handling of the above exception, another exception occurred:\n",
            "\u001b[1;31mValueError\u001b[0m                                Traceback (most recent call last)",
            "Cell \u001b[1;32mIn[313], line 25\u001b[0m\n\u001b[0;32m     21\u001b[0m         folium\u001b[38;5;241m.\u001b[39mMarker(coordinates, popup\u001b[38;5;241m=\u001b[39maddress, \n\u001b[0;32m     22\u001b[0m                       icon \u001b[38;5;241m=\u001b[39m folium\u001b[38;5;241m.\u001b[39mIcon(color \u001b[38;5;241m=\u001b[39m \u001b[38;5;124m'\u001b[39m\u001b[38;5;124mpink\u001b[39m\u001b[38;5;124m'\u001b[39m, icon \u001b[38;5;241m=\u001b[39m \u001b[38;5;124m'\u001b[39m\u001b[38;5;124mumbrella\u001b[39m\u001b[38;5;124m'\u001b[39m)\n\u001b[0;32m     23\u001b[0m                      )\u001b[38;5;241m.\u001b[39madd_to(map_osm)\n\u001b[0;32m     24\u001b[0m bus_coor \u001b[38;5;241m=\u001b[39m df_2\u001b[38;5;241m.\u001b[39m위도, df_2\u001b[38;5;241m.\u001b[39m경도\n\u001b[1;32m---> 25\u001b[0m folium\u001b[38;5;241m.\u001b[39mMarker(bus_coor, popup \u001b[38;5;241m=\u001b[39m df_2\u001b[38;5;241m.\u001b[39m정류장명,\n\u001b[0;32m     26\u001b[0m               icon \u001b[38;5;241m=\u001b[39m folium\u001b[38;5;241m.\u001b[39mIcon(color \u001b[38;5;241m=\u001b[39m \u001b[38;5;124m'\u001b[39m\u001b[38;5;124mblue\u001b[39m\u001b[38;5;124m'\u001b[39m, icon \u001b[38;5;241m=\u001b[39m \u001b[38;5;124m'\u001b[39m\u001b[38;5;124mbus\u001b[39m\u001b[38;5;124m'\u001b[39m)\n\u001b[0;32m     27\u001b[0m               )\u001b[38;5;241m.\u001b[39madd_to(map_osm)\n\u001b[0;32m     30\u001b[0m \u001b[38;5;66;03m# 지도를 HTML 파일로 저장하거나, Jupyter Notebook에서 바로 표시\u001b[39;00m\n\u001b[0;32m     31\u001b[0m map_osm\u001b[38;5;241m.\u001b[39msave(\u001b[38;5;124m\"\u001b[39m\u001b[38;5;124maddress_map.html\u001b[39m\u001b[38;5;124m\"\u001b[39m)\n",
            "File \u001b[1;32m~\\ana\\Lib\\site-packages\\folium\\map.py:326\u001b[0m, in \u001b[0;36mMarker.__init__\u001b[1;34m(self, location, popup, tooltip, icon, draggable, **kwargs)\u001b[0m\n\u001b[0;32m    324\u001b[0m \u001b[38;5;28msuper\u001b[39m()\u001b[38;5;241m.\u001b[39m\u001b[38;5;21m__init__\u001b[39m()\n\u001b[0;32m    325\u001b[0m \u001b[38;5;28mself\u001b[39m\u001b[38;5;241m.\u001b[39m_name \u001b[38;5;241m=\u001b[39m \u001b[38;5;124m\"\u001b[39m\u001b[38;5;124mMarker\u001b[39m\u001b[38;5;124m\"\u001b[39m\n\u001b[1;32m--> 326\u001b[0m \u001b[38;5;28mself\u001b[39m\u001b[38;5;241m.\u001b[39mlocation \u001b[38;5;241m=\u001b[39m validate_location(location) \u001b[38;5;28;01mif\u001b[39;00m location \u001b[38;5;129;01mis\u001b[39;00m \u001b[38;5;129;01mnot\u001b[39;00m \u001b[38;5;28;01mNone\u001b[39;00m \u001b[38;5;28;01melse\u001b[39;00m \u001b[38;5;28;01mNone\u001b[39;00m\n\u001b[0;32m    327\u001b[0m \u001b[38;5;28mself\u001b[39m\u001b[38;5;241m.\u001b[39moptions \u001b[38;5;241m=\u001b[39m parse_options(\n\u001b[0;32m    328\u001b[0m     draggable\u001b[38;5;241m=\u001b[39mdraggable \u001b[38;5;129;01mor\u001b[39;00m \u001b[38;5;28;01mNone\u001b[39;00m, autoPan\u001b[38;5;241m=\u001b[39mdraggable \u001b[38;5;129;01mor\u001b[39;00m \u001b[38;5;28;01mNone\u001b[39;00m, \u001b[38;5;241m*\u001b[39m\u001b[38;5;241m*\u001b[39mkwargs\n\u001b[0;32m    329\u001b[0m )\n\u001b[0;32m    330\u001b[0m \u001b[38;5;28;01mif\u001b[39;00m icon \u001b[38;5;129;01mis\u001b[39;00m \u001b[38;5;129;01mnot\u001b[39;00m \u001b[38;5;28;01mNone\u001b[39;00m:\n",
            "File \u001b[1;32m~\\ana\\Lib\\site-packages\\folium\\utilities.py:71\u001b[0m, in \u001b[0;36mvalidate_location\u001b[1;34m(location)\u001b[0m\n\u001b[0;32m     69\u001b[0m     \u001b[38;5;28mfloat\u001b[39m(coord)\n\u001b[0;32m     70\u001b[0m \u001b[38;5;28;01mexcept\u001b[39;00m (\u001b[38;5;167;01mTypeError\u001b[39;00m, \u001b[38;5;167;01mValueError\u001b[39;00m):\n\u001b[1;32m---> 71\u001b[0m     \u001b[38;5;28;01mraise\u001b[39;00m \u001b[38;5;167;01mValueError\u001b[39;00m(\n\u001b[0;32m     72\u001b[0m         \u001b[38;5;124m\"\u001b[39m\u001b[38;5;124mLocation should consist of two numerical values, \u001b[39m\u001b[38;5;124m\"\u001b[39m\n\u001b[0;32m     73\u001b[0m         \u001b[38;5;124m\"\u001b[39m\u001b[38;5;124mbut \u001b[39m\u001b[38;5;132;01m{!r}\u001b[39;00m\u001b[38;5;124m of type \u001b[39m\u001b[38;5;132;01m{}\u001b[39;00m\u001b[38;5;124m is not convertible to float.\u001b[39m\u001b[38;5;124m\"\u001b[39m\u001b[38;5;241m.\u001b[39mformat(\n\u001b[0;32m     74\u001b[0m             coord, \u001b[38;5;28mtype\u001b[39m(coord)\n\u001b[0;32m     75\u001b[0m         )\n\u001b[0;32m     76\u001b[0m     )\n\u001b[0;32m     77\u001b[0m \u001b[38;5;28;01mif\u001b[39;00m math\u001b[38;5;241m.\u001b[39misnan(\u001b[38;5;28mfloat\u001b[39m(coord)):\n\u001b[0;32m     78\u001b[0m     \u001b[38;5;28;01mraise\u001b[39;00m \u001b[38;5;167;01mValueError\u001b[39;00m(\u001b[38;5;124m\"\u001b[39m\u001b[38;5;124mLocation values cannot contain NaNs.\u001b[39m\u001b[38;5;124m\"\u001b[39m)\n",
            "\u001b[1;31mValueError\u001b[0m: Location should consist of two numerical values, but 0     36.625579\n1     36.636995\n2     36.636827\n3     36.634176\n4     36.634972\n        ...    \n87     36.61718\n88    중앙여고,사창시장\n89    중앙여고,사창시장\n90    36.635295\n91    36.635489\nName: 위도, Length: 92, dtype: object of type <class 'pandas.core.series.Series'> is not convertible to float."
          ]
        }
      ],
      "source": [
        "# 도로명주소를 좌표로 변환하는 함수\n",
        "def get_coordinates(address):\n",
        "    geolocator = Nominatim(user_agent=\"address_converter\")\n",
        "    location = geolocator.geocode(address)\n",
        "    if location is None:\n",
        "        return None\n",
        "    return location.latitude, location.longitude\n",
        "\n",
        "# 도로명주소 리스트 (예시)\n",
        "addresses = addr\n",
        "\n",
        "# 지도 생성\n",
        "map_center = [36.6363, 127.4902]  # 서울시청을 중심으로 지도 생성\n",
        "zoom_level = 12\n",
        "map_osm = folium.Map(location=map_center, zoom_start=zoom_level)\n",
        "\n",
        "# 주소 리스트를 순회하며 좌표를 가져와서 지도에 마커로 표시\n",
        "for address in addresses:\n",
        "    coordinates = get_coordinates(address)\n",
        "    if coordinates:\n",
        "        folium.Marker(coordinates, popup=address,\n",
        "                      icon = folium.Icon(color = 'pink', icon = 'umbrella')\n",
        "                     ).add_to(map_osm)\n",
        "bus_coor = df_2.위도, df_2.경도\n",
        "folium.Marker(bus_coor, popup = df_2.정류장명,\n",
        "              icon = folium.Icon(color = 'blue', icon = 'bus')\n",
        "              ).add_to(map_osm)\n",
        "\n",
        "\n",
        "# 지도를 HTML 파일로 저장하거나, Jupyter Notebook에서 바로 표시\n",
        "map_osm.save(\"address_map.html\")\n",
        "map_osm\n"
      ]
    },
    {
      "cell_type": "code",
      "execution_count": null,
      "id": "6efcbe39-257c-4935-8abd-0602e08cbd59",
      "metadata": {
        "id": "6efcbe39-257c-4935-8abd-0602e08cbd59"
      },
      "outputs": [],
      "source": []
    },
    {
      "cell_type": "code",
      "execution_count": null,
      "id": "f1b19a2a-c907-4b05-987b-f832d32b3037",
      "metadata": {
        "tags": [],
        "id": "f1b19a2a-c907-4b05-987b-f832d32b3037",
        "outputId": "226d391c-aa7c-4e7e-f692-fa7c9cbd9d17"
      },
      "outputs": [
        {
          "data": {
            "text/plain": [
              "'북문로3가 113'"
            ]
          },
          "execution_count": 261,
          "metadata": {},
          "output_type": "execute_result"
        }
      ],
      "source": []
    }
  ],
  "metadata": {
    "kernelspec": {
      "display_name": "Python 3 (ipykernel)",
      "language": "python",
      "name": "python3"
    },
    "language_info": {
      "codemirror_mode": {
        "name": "ipython",
        "version": 3
      },
      "file_extension": ".py",
      "mimetype": "text/x-python",
      "name": "python",
      "nbconvert_exporter": "python",
      "pygments_lexer": "ipython3",
      "version": "3.11.3"
    },
    "colab": {
      "provenance": [],
      "include_colab_link": true
    }
  },
  "nbformat": 4,
  "nbformat_minor": 5
}